{
 "metadata": {
  "language_info": {
   "codemirror_mode": {
    "name": "ipython",
    "version": 3
   },
   "file_extension": ".py",
   "mimetype": "text/x-python",
   "name": "python",
   "nbconvert_exporter": "python",
   "pygments_lexer": "ipython3",
   "version": "3.8.5"
  },
  "orig_nbformat": 2,
  "kernelspec": {
   "name": "python385jvsc74a57bd08d86c190dfcadcdaa67edec4a1ea82702241987b5b1f320c920d3d4ca36fee5b",
   "display_name": "Python 3.8.5 64-bit ('base': conda)"
  }
 },
 "nbformat": 4,
 "nbformat_minor": 2,
 "cells": [
  {
   "cell_type": "code",
   "execution_count": 185,
   "metadata": {},
   "outputs": [],
   "source": [
    "import pandas as pd\n",
    "import numpy as np\n",
    "import datetime\n",
    "import sys\n",
    "import codecs\n",
    "import re\n",
    "import urllib3\n",
    "import itertools, collections\n",
    " \n",
    "import nltk  # Natural Language Processing\n",
    "#nltk.download('punkt')\n",
    "#nltk.download('all')\n",
    "from nltk.stem.wordnet import WordNetLemmatizer\n",
    "from nltk.corpus import stopwords # list of words\n",
    "from collections import Counter  # optimized way to do this\n",
    "import string  # list(string.punctuation) - produces a list of punctuations\n",
    "from sklearn.feature_extraction.text import TfidfVectorizer, CountVectorizer\n",
    "from nltk.tokenize import RegexpTokenizer\n",
    "\n",
    "import copy\n",
    "from itertools import product, tee, combinations, chain\n",
    "from nltk.stem import PorterStemmer\n",
    "from operator import itemgetter # help with dataframes\n",
    " \n",
    "from scipy.spatial.distance import cosine\n",
    " \n",
    "from sklearn.cluster import KMeans\n",
    "from sklearn.metrics import pairwise_distances_argmin\n",
    "from sklearn.utils import shuffle\n",
    " \n"
   ]
  },
  {
   "cell_type": "code",
   "execution_count": 206,
   "metadata": {},
   "outputs": [
    {
     "output_type": "execute_result",
     "data": {
      "text/plain": [
       "            user                                                bio  UserID\n",
       "0  MikePaineShow  #voiceover talent voice actor & radio guy for ...       0\n",
       "1   gablescinema  South Florida's premiere nonprofit cinema for ...       1\n",
       "2    dhumpachika  Follow us for the best of what's happening abo...       2\n",
       "3       DavyVara  Filmmaker Writer Activist Aspiring Actor... I ...       3\n",
       "4       keeeykeh  Dedicated student of the beautiful game. Head ...       4"
      ],
      "text/html": "<div>\n<style scoped>\n    .dataframe tbody tr th:only-of-type {\n        vertical-align: middle;\n    }\n\n    .dataframe tbody tr th {\n        vertical-align: top;\n    }\n\n    .dataframe thead th {\n        text-align: right;\n    }\n</style>\n<table border=\"1\" class=\"dataframe\">\n  <thead>\n    <tr style=\"text-align: right;\">\n      <th></th>\n      <th>user</th>\n      <th>bio</th>\n      <th>UserID</th>\n    </tr>\n  </thead>\n  <tbody>\n    <tr>\n      <th>0</th>\n      <td>MikePaineShow</td>\n      <td>#voiceover talent voice actor &amp; radio guy for ...</td>\n      <td>0</td>\n    </tr>\n    <tr>\n      <th>1</th>\n      <td>gablescinema</td>\n      <td>South Florida's premiere nonprofit cinema for ...</td>\n      <td>1</td>\n    </tr>\n    <tr>\n      <th>2</th>\n      <td>dhumpachika</td>\n      <td>Follow us for the best of what's happening abo...</td>\n      <td>2</td>\n    </tr>\n    <tr>\n      <th>3</th>\n      <td>DavyVara</td>\n      <td>Filmmaker Writer Activist Aspiring Actor... I ...</td>\n      <td>3</td>\n    </tr>\n    <tr>\n      <th>4</th>\n      <td>keeeykeh</td>\n      <td>Dedicated student of the beautiful game. Head ...</td>\n      <td>4</td>\n    </tr>\n  </tbody>\n</table>\n</div>"
     },
     "metadata": {},
     "execution_count": 206
    }
   ],
   "source": [
    "# originaldf = pd.read_csv('./twitterBios.csv')\n",
    "# UserID = originaldf.index\n",
    "# originaldf['UserID'] = UserID\n",
    "# originaldf = df.loc[:, ~df.columns.str.contains('^Unnamed')]\n",
    "# df = originaldf\n",
    "# df.head()\n",
    "org_df = pd.read_csv('./twitterBios.csv')\n",
    "org_df = org_df.loc[:, ~org_df.columns.str.contains('^Unnamed')]\n",
    "UserID = org_df.index\n",
    "org_df['UserID'] = UserID\n",
    "df = org_df\n",
    "df.head()"
   ]
  },
  {
   "cell_type": "code",
   "execution_count": 207,
   "metadata": {},
   "outputs": [
    {
     "output_type": "execute_result",
     "data": {
      "text/plain": [
       "            user                                                bio  UserID\n",
       "0  MikePaineShow  #voiceover talent voice actor & radio guy for ...       0\n",
       "1   gablescinema  South Florida's premiere nonprofit cinema for ...       1\n",
       "2    dhumpachika  Follow us for the best of what's happening abo...       2\n",
       "3       DavyVara  Filmmaker Writer Activist Aspiring Actor... I ...       3\n",
       "4       keeeykeh  Dedicated student of the beautiful game. Head ...       4"
      ],
      "text/html": "<div>\n<style scoped>\n    .dataframe tbody tr th:only-of-type {\n        vertical-align: middle;\n    }\n\n    .dataframe tbody tr th {\n        vertical-align: top;\n    }\n\n    .dataframe thead th {\n        text-align: right;\n    }\n</style>\n<table border=\"1\" class=\"dataframe\">\n  <thead>\n    <tr style=\"text-align: right;\">\n      <th></th>\n      <th>user</th>\n      <th>bio</th>\n      <th>UserID</th>\n    </tr>\n  </thead>\n  <tbody>\n    <tr>\n      <th>0</th>\n      <td>MikePaineShow</td>\n      <td>#voiceover talent voice actor &amp; radio guy for ...</td>\n      <td>0</td>\n    </tr>\n    <tr>\n      <th>1</th>\n      <td>gablescinema</td>\n      <td>South Florida's premiere nonprofit cinema for ...</td>\n      <td>1</td>\n    </tr>\n    <tr>\n      <th>2</th>\n      <td>dhumpachika</td>\n      <td>Follow us for the best of what's happening abo...</td>\n      <td>2</td>\n    </tr>\n    <tr>\n      <th>3</th>\n      <td>DavyVara</td>\n      <td>Filmmaker Writer Activist Aspiring Actor... I ...</td>\n      <td>3</td>\n    </tr>\n    <tr>\n      <th>4</th>\n      <td>keeeykeh</td>\n      <td>Dedicated student of the beautiful game. Head ...</td>\n      <td>4</td>\n    </tr>\n  </tbody>\n</table>\n</div>"
     },
     "metadata": {},
     "execution_count": 207
    }
   ],
   "source": [
    "org_df.head()"
   ]
  },
  {
   "cell_type": "code",
   "execution_count": 208,
   "metadata": {},
   "outputs": [],
   "source": [
    "# some constants for regex\n",
    "START_OF_LINE = r\"^\"\n",
    "OPTIONAL = \"?\"\n",
    "ANYTHING = \".\"\n",
    "ZERO_OR_MORE = \"*\"\n",
    "ONE_OR_MORE = \"+\"\n",
    "\n",
    "SPACE = \"\\s\"\n",
    "SPACES = SPACE + ONE_OR_MORE\n",
    "NOT_SPACE = \"[^\\s]\" + ONE_OR_MORE\n",
    "EVERYTHING_OR_NOTHING = ANYTHING + ZERO_OR_MORE\n",
    "\n",
    "ERASE = \"\"\n",
    "FORWARD_SLASH = \"\\/\"\n",
    "NEWLINES = r\"[\\r\\n]\""
   ]
  },
  {
   "cell_type": "code",
   "execution_count": 209,
   "metadata": {},
   "outputs": [],
   "source": [
    "df = df.dropna(axis=0)\n",
    "df = df.reset_index(drop=True)\n",
    "\n",
    "def clean_up(text):\n",
    "    RE_TWEET = START_OF_LINE + \"RT\" + SPACES\n",
    "    text = re.sub(RE_TWEET, ERASE, text)\n",
    "    HYPERLINKS = (\"http\" + \"s\" + OPTIONAL + \":\" + FORWARD_SLASH + FORWARD_SLASH\n",
    "              + NOT_SPACE + NEWLINES + ZERO_OR_MORE)\n",
    "\n",
    "    text = re.sub(HYPERLINKS, ERASE, text)\n",
    "    HASH = \"#\"\n",
    "    text = re.sub(HASH, ERASE, text)\n",
    "    return text"
   ]
  },
  {
   "cell_type": "code",
   "execution_count": 210,
   "metadata": {
    "tags": []
   },
   "outputs": [],
   "source": [
    "df['bio'] = df['bio'].apply(clean_up)"
   ]
  },
  {
   "cell_type": "code",
   "execution_count": 211,
   "metadata": {},
   "outputs": [
    {
     "output_type": "execute_result",
     "data": {
      "text/plain": [
       "                user                                                bio  \\\n",
       "0      MikePaineShow  voiceover talent voice actor & radio guy for 3...   \n",
       "1       gablescinema  South Florida's premiere nonprofit cinema for ...   \n",
       "2        dhumpachika  Follow us for the best of what's happening abo...   \n",
       "3           DavyVara  Filmmaker Writer Activist Aspiring Actor... I ...   \n",
       "4           keeeykeh  Dedicated student of the beautiful game. Head ...   \n",
       "..               ...                                                ...   \n",
       "180      staughumane  The St. Augustine Humane Society offers lifesa...   \n",
       "181       soccerjill  Designer/maker of 👜😷 & accessories who doubles...   \n",
       "182     CRHM_Dickson  State Historic Site. Education. Events. Tours....   \n",
       "183  QCHSPantherPack  Quakertown Students Telling/Tweeting their Sto...   \n",
       "184  CoachHarrelson_  OL Coach @ Northside HS - Huntingdon College G...   \n",
       "\n",
       "     UserID  \n",
       "0         0  \n",
       "1         1  \n",
       "2         2  \n",
       "3         3  \n",
       "4         4  \n",
       "..      ...  \n",
       "180     195  \n",
       "181     196  \n",
       "182     197  \n",
       "183     198  \n",
       "184     199  \n",
       "\n",
       "[185 rows x 3 columns]"
      ],
      "text/html": "<div>\n<style scoped>\n    .dataframe tbody tr th:only-of-type {\n        vertical-align: middle;\n    }\n\n    .dataframe tbody tr th {\n        vertical-align: top;\n    }\n\n    .dataframe thead th {\n        text-align: right;\n    }\n</style>\n<table border=\"1\" class=\"dataframe\">\n  <thead>\n    <tr style=\"text-align: right;\">\n      <th></th>\n      <th>user</th>\n      <th>bio</th>\n      <th>UserID</th>\n    </tr>\n  </thead>\n  <tbody>\n    <tr>\n      <th>0</th>\n      <td>MikePaineShow</td>\n      <td>voiceover talent voice actor &amp; radio guy for 3...</td>\n      <td>0</td>\n    </tr>\n    <tr>\n      <th>1</th>\n      <td>gablescinema</td>\n      <td>South Florida's premiere nonprofit cinema for ...</td>\n      <td>1</td>\n    </tr>\n    <tr>\n      <th>2</th>\n      <td>dhumpachika</td>\n      <td>Follow us for the best of what's happening abo...</td>\n      <td>2</td>\n    </tr>\n    <tr>\n      <th>3</th>\n      <td>DavyVara</td>\n      <td>Filmmaker Writer Activist Aspiring Actor... I ...</td>\n      <td>3</td>\n    </tr>\n    <tr>\n      <th>4</th>\n      <td>keeeykeh</td>\n      <td>Dedicated student of the beautiful game. Head ...</td>\n      <td>4</td>\n    </tr>\n    <tr>\n      <th>...</th>\n      <td>...</td>\n      <td>...</td>\n      <td>...</td>\n    </tr>\n    <tr>\n      <th>180</th>\n      <td>staughumane</td>\n      <td>The St. Augustine Humane Society offers lifesa...</td>\n      <td>195</td>\n    </tr>\n    <tr>\n      <th>181</th>\n      <td>soccerjill</td>\n      <td>Designer/maker of 👜😷 &amp; accessories who doubles...</td>\n      <td>196</td>\n    </tr>\n    <tr>\n      <th>182</th>\n      <td>CRHM_Dickson</td>\n      <td>State Historic Site. Education. Events. Tours....</td>\n      <td>197</td>\n    </tr>\n    <tr>\n      <th>183</th>\n      <td>QCHSPantherPack</td>\n      <td>Quakertown Students Telling/Tweeting their Sto...</td>\n      <td>198</td>\n    </tr>\n    <tr>\n      <th>184</th>\n      <td>CoachHarrelson_</td>\n      <td>OL Coach @ Northside HS - Huntingdon College G...</td>\n      <td>199</td>\n    </tr>\n  </tbody>\n</table>\n<p>185 rows × 3 columns</p>\n</div>"
     },
     "metadata": {},
     "execution_count": 211
    }
   ],
   "source": [
    "df"
   ]
  },
  {
   "cell_type": "code",
   "execution_count": 212,
   "metadata": {},
   "outputs": [],
   "source": [
    "def remove_punct(text):\n",
    "    no_punct = \"\".join([c for c in text if c not in string.punctuation])\n",
    "    return no_punct\n",
    "df['bio'] = df['bio'].apply(lambda x: remove_punct(x))"
   ]
  },
  {
   "cell_type": "code",
   "execution_count": 213,
   "metadata": {},
   "outputs": [],
   "source": [
    "tokenizer = RegexpTokenizer(r'\\w+')\n",
    "df['bio'] = df['bio'].apply(lambda x: tokenizer.tokenize(x.lower()))"
   ]
  },
  {
   "cell_type": "code",
   "execution_count": 214,
   "metadata": {},
   "outputs": [],
   "source": [
    "def remove_stopwords(text):\n",
    "    words = [w for w in text if w not in stopwords.words('english')]\n",
    "    return words\n",
    "df['bio'] = df['bio'].apply(lambda x:  remove_stopwords(x))"
   ]
  },
  {
   "cell_type": "code",
   "execution_count": 215,
   "metadata": {},
   "outputs": [],
   "source": [
    "lemmatizer = WordNetLemmatizer()\n",
    "\n",
    "def word_lemmatizer(text):\n",
    "    lem_text = [lemmatizer.lemmatize(i) for i in text]\n",
    "    return lem_text\n",
    "\n",
    "df['bio'] = df['bio'].apply(lambda x: word_lemmatizer(x))\n"
   ]
  },
  {
   "cell_type": "code",
   "execution_count": 216,
   "metadata": {},
   "outputs": [],
   "source": [
    "stemmer = PorterStemmer()\n",
    "def word_stemmer(text):\n",
    "    stem_text = \" \".join([stemmer.stem(i) for i in text])\n",
    "    return stem_text\n",
    "\n",
    "df['bio'] = df['bio'].apply(lambda x: word_stemmer(x))"
   ]
  },
  {
   "cell_type": "code",
   "execution_count": 217,
   "metadata": {},
   "outputs": [
    {
     "output_type": "execute_result",
     "data": {
      "text/plain": [
       "                user                                                bio  \\\n",
       "0      MikePaineShow  voiceov talent voic actor radio guy 30 year wi...   \n",
       "1       gablescinema  south florida premier nonprofit cinema best in...   \n",
       "2        dhumpachika  follow u best what happen cycl bike around wor...   \n",
       "3           DavyVara  filmmak writer activist aspir actor make film ...   \n",
       "4           keeeykeh  dedic student beauti game head coach colleg de...   \n",
       "..               ...                                                ...   \n",
       "180      staughumane  st augustin human societi offer lifesav resour...   \n",
       "181       soccerjill  designermak accessori doubl paraleg soccer pla...   \n",
       "182     CRHM_Dickson  state histor site educ event tour venu rental ...   \n",
       "183  QCHSPantherPack  quakertown student tellingtweet stori quakerto...   \n",
       "184  CoachHarrelson_  ol coach northsid h huntingdon colleg graduat ...   \n",
       "\n",
       "     UserID  \n",
       "0         0  \n",
       "1         1  \n",
       "2         2  \n",
       "3         3  \n",
       "4         4  \n",
       "..      ...  \n",
       "180     195  \n",
       "181     196  \n",
       "182     197  \n",
       "183     198  \n",
       "184     199  \n",
       "\n",
       "[185 rows x 3 columns]"
      ],
      "text/html": "<div>\n<style scoped>\n    .dataframe tbody tr th:only-of-type {\n        vertical-align: middle;\n    }\n\n    .dataframe tbody tr th {\n        vertical-align: top;\n    }\n\n    .dataframe thead th {\n        text-align: right;\n    }\n</style>\n<table border=\"1\" class=\"dataframe\">\n  <thead>\n    <tr style=\"text-align: right;\">\n      <th></th>\n      <th>user</th>\n      <th>bio</th>\n      <th>UserID</th>\n    </tr>\n  </thead>\n  <tbody>\n    <tr>\n      <th>0</th>\n      <td>MikePaineShow</td>\n      <td>voiceov talent voic actor radio guy 30 year wi...</td>\n      <td>0</td>\n    </tr>\n    <tr>\n      <th>1</th>\n      <td>gablescinema</td>\n      <td>south florida premier nonprofit cinema best in...</td>\n      <td>1</td>\n    </tr>\n    <tr>\n      <th>2</th>\n      <td>dhumpachika</td>\n      <td>follow u best what happen cycl bike around wor...</td>\n      <td>2</td>\n    </tr>\n    <tr>\n      <th>3</th>\n      <td>DavyVara</td>\n      <td>filmmak writer activist aspir actor make film ...</td>\n      <td>3</td>\n    </tr>\n    <tr>\n      <th>4</th>\n      <td>keeeykeh</td>\n      <td>dedic student beauti game head coach colleg de...</td>\n      <td>4</td>\n    </tr>\n    <tr>\n      <th>...</th>\n      <td>...</td>\n      <td>...</td>\n      <td>...</td>\n    </tr>\n    <tr>\n      <th>180</th>\n      <td>staughumane</td>\n      <td>st augustin human societi offer lifesav resour...</td>\n      <td>195</td>\n    </tr>\n    <tr>\n      <th>181</th>\n      <td>soccerjill</td>\n      <td>designermak accessori doubl paraleg soccer pla...</td>\n      <td>196</td>\n    </tr>\n    <tr>\n      <th>182</th>\n      <td>CRHM_Dickson</td>\n      <td>state histor site educ event tour venu rental ...</td>\n      <td>197</td>\n    </tr>\n    <tr>\n      <th>183</th>\n      <td>QCHSPantherPack</td>\n      <td>quakertown student tellingtweet stori quakerto...</td>\n      <td>198</td>\n    </tr>\n    <tr>\n      <th>184</th>\n      <td>CoachHarrelson_</td>\n      <td>ol coach northsid h huntingdon colleg graduat ...</td>\n      <td>199</td>\n    </tr>\n  </tbody>\n</table>\n<p>185 rows × 3 columns</p>\n</div>"
     },
     "metadata": {},
     "execution_count": 217
    }
   ],
   "source": [
    "df"
   ]
  },
  {
   "cell_type": "code",
   "execution_count": 218,
   "metadata": {},
   "outputs": [],
   "source": [
    "#TF-IDF vectorizer\n",
    "tfv = TfidfVectorizer(stop_words = \"english\",ngram_range = (1,1))\n",
    "#transform\n",
    "vec_text = tfv.fit_transform(df.bio)\n",
    "#returns a list of words.\n",
    "words = tfv.get_feature_names()\n",
    "features = tfv.transform(df.bio.values)"
   ]
  },
  {
   "cell_type": "code",
   "execution_count": 219,
   "metadata": {},
   "outputs": [
    {
     "output_type": "stream",
     "name": "stdout",
     "text": [
      "0 : commun, dont, child, follow, provid, drive, support, busi, student, market\n1 : love, god, dm, im, friend, bf, kabir, beach, life, wife\n2 : writer, ask, make, cojon, think, question, aspir, filmmak, actor, peopl\n3 : brooklyn, aka, area, villag, old, south, jpstrategiesco, brownunivers, cofound, coblackart\n4 : school, mom, high, coach, district, wife, middl, girl, boy, father\n5 : educ, scienc, nonprofit, natur, engag, advanc, technolog, world, read, provid\n"
     ]
    },
    {
     "output_type": "execute_result",
     "data": {
      "text/plain": [
       "                user                                                bio  \\\n",
       "0      MikePaineShow  voiceov talent voic actor radio guy 30 year wi...   \n",
       "1       gablescinema  south florida premier nonprofit cinema best in...   \n",
       "2        dhumpachika  follow u best what happen cycl bike around wor...   \n",
       "3           DavyVara  filmmak writer activist aspir actor make film ...   \n",
       "4           keeeykeh  dedic student beauti game head coach colleg de...   \n",
       "..               ...                                                ...   \n",
       "180      staughumane  st augustin human societi offer lifesav resour...   \n",
       "181       soccerjill  designermak accessori doubl paraleg soccer pla...   \n",
       "182     CRHM_Dickson  state histor site educ event tour venu rental ...   \n",
       "183  QCHSPantherPack  quakertown student tellingtweet stori quakerto...   \n",
       "184  CoachHarrelson_  ol coach northsid h huntingdon colleg graduat ...   \n",
       "\n",
       "     UserID  BioClusters  \n",
       "0         0            1  \n",
       "1         1            5  \n",
       "2         2            5  \n",
       "3         3            2  \n",
       "4         4            4  \n",
       "..      ...          ...  \n",
       "180     195            1  \n",
       "181     196            4  \n",
       "182     197            5  \n",
       "183     198            4  \n",
       "184     199            4  \n",
       "\n",
       "[185 rows x 4 columns]"
      ],
      "text/html": "<div>\n<style scoped>\n    .dataframe tbody tr th:only-of-type {\n        vertical-align: middle;\n    }\n\n    .dataframe tbody tr th {\n        vertical-align: top;\n    }\n\n    .dataframe thead th {\n        text-align: right;\n    }\n</style>\n<table border=\"1\" class=\"dataframe\">\n  <thead>\n    <tr style=\"text-align: right;\">\n      <th></th>\n      <th>user</th>\n      <th>bio</th>\n      <th>UserID</th>\n      <th>BioClusters</th>\n    </tr>\n  </thead>\n  <tbody>\n    <tr>\n      <th>0</th>\n      <td>MikePaineShow</td>\n      <td>voiceov talent voic actor radio guy 30 year wi...</td>\n      <td>0</td>\n      <td>1</td>\n    </tr>\n    <tr>\n      <th>1</th>\n      <td>gablescinema</td>\n      <td>south florida premier nonprofit cinema best in...</td>\n      <td>1</td>\n      <td>5</td>\n    </tr>\n    <tr>\n      <th>2</th>\n      <td>dhumpachika</td>\n      <td>follow u best what happen cycl bike around wor...</td>\n      <td>2</td>\n      <td>5</td>\n    </tr>\n    <tr>\n      <th>3</th>\n      <td>DavyVara</td>\n      <td>filmmak writer activist aspir actor make film ...</td>\n      <td>3</td>\n      <td>2</td>\n    </tr>\n    <tr>\n      <th>4</th>\n      <td>keeeykeh</td>\n      <td>dedic student beauti game head coach colleg de...</td>\n      <td>4</td>\n      <td>4</td>\n    </tr>\n    <tr>\n      <th>...</th>\n      <td>...</td>\n      <td>...</td>\n      <td>...</td>\n      <td>...</td>\n    </tr>\n    <tr>\n      <th>180</th>\n      <td>staughumane</td>\n      <td>st augustin human societi offer lifesav resour...</td>\n      <td>195</td>\n      <td>1</td>\n    </tr>\n    <tr>\n      <th>181</th>\n      <td>soccerjill</td>\n      <td>designermak accessori doubl paraleg soccer pla...</td>\n      <td>196</td>\n      <td>4</td>\n    </tr>\n    <tr>\n      <th>182</th>\n      <td>CRHM_Dickson</td>\n      <td>state histor site educ event tour venu rental ...</td>\n      <td>197</td>\n      <td>5</td>\n    </tr>\n    <tr>\n      <th>183</th>\n      <td>QCHSPantherPack</td>\n      <td>quakertown student tellingtweet stori quakerto...</td>\n      <td>198</td>\n      <td>4</td>\n    </tr>\n    <tr>\n      <th>184</th>\n      <td>CoachHarrelson_</td>\n      <td>ol coach northsid h huntingdon colleg graduat ...</td>\n      <td>199</td>\n      <td>4</td>\n    </tr>\n  </tbody>\n</table>\n<p>185 rows × 4 columns</p>\n</div>"
     },
     "metadata": {},
     "execution_count": 219
    }
   ],
   "source": [
    "#setup kmeans clustering\n",
    "n_clst = 6\n",
    "kmeans = KMeans(n_clusters = n_clst, n_init = 17, tol = 0.01, max_iter = 200)\n",
    "#fit the data \n",
    "kmeans.fit(vec_text)\n",
    "#this loop transforms the numbers back into words\n",
    "common_words = kmeans.cluster_centers_.argsort()[:,-1:-11:-1]\n",
    "for num, centroid in enumerate(common_words):\n",
    "    print(str(num) + ' : ' + ', '.join(words[word] for word in centroid))\n",
    "\n",
    "yhat = kmeans.predict(features)\n",
    "df['BioClusters'] = kmeans.labels_\n",
    "df"
   ]
  },
  {
   "cell_type": "code",
   "execution_count": 220,
   "metadata": {},
   "outputs": [],
   "source": [
    "for i in range(n_clst):\n",
    "    Clust1wBios=df[df['BioClusters']==i]\n",
    "    Clust1wBios.to_csv('{}/{}.csv'.format('ALGO2_BioClusters',i))"
   ]
  },
  {
   "cell_type": "code",
   "execution_count": 224,
   "metadata": {},
   "outputs": [
    {
     "output_type": "execute_result",
     "data": {
      "text/plain": [
       "          user_x                                              bio_x  UserID  \\\n",
       "0  MikePaineShow  #voiceover talent voice actor & radio guy for ...       0   \n",
       "1   gablescinema  South Florida's premiere nonprofit cinema for ...       1   \n",
       "2    dhumpachika  Follow us for the best of what's happening abo...       2   \n",
       "3       DavyVara  Filmmaker Writer Activist Aspiring Actor... I ...       3   \n",
       "4       keeeykeh  Dedicated student of the beautiful game. Head ...       4   \n",
       "\n",
       "          user_y                                              bio_y  \\\n",
       "0  MikePaineShow  voiceov talent voic actor radio guy 30 year wi...   \n",
       "1   gablescinema  south florida premier nonprofit cinema best in...   \n",
       "2    dhumpachika  follow u best what happen cycl bike around wor...   \n",
       "3       DavyVara  filmmak writer activist aspir actor make film ...   \n",
       "4       keeeykeh  dedic student beauti game head coach colleg de...   \n",
       "\n",
       "   BioClusters  \n",
       "0            1  \n",
       "1            5  \n",
       "2            5  \n",
       "3            2  \n",
       "4            4  "
      ],
      "text/html": "<div>\n<style scoped>\n    .dataframe tbody tr th:only-of-type {\n        vertical-align: middle;\n    }\n\n    .dataframe tbody tr th {\n        vertical-align: top;\n    }\n\n    .dataframe thead th {\n        text-align: right;\n    }\n</style>\n<table border=\"1\" class=\"dataframe\">\n  <thead>\n    <tr style=\"text-align: right;\">\n      <th></th>\n      <th>user_x</th>\n      <th>bio_x</th>\n      <th>UserID</th>\n      <th>user_y</th>\n      <th>bio_y</th>\n      <th>BioClusters</th>\n    </tr>\n  </thead>\n  <tbody>\n    <tr>\n      <th>0</th>\n      <td>MikePaineShow</td>\n      <td>#voiceover talent voice actor &amp; radio guy for ...</td>\n      <td>0</td>\n      <td>MikePaineShow</td>\n      <td>voiceov talent voic actor radio guy 30 year wi...</td>\n      <td>1</td>\n    </tr>\n    <tr>\n      <th>1</th>\n      <td>gablescinema</td>\n      <td>South Florida's premiere nonprofit cinema for ...</td>\n      <td>1</td>\n      <td>gablescinema</td>\n      <td>south florida premier nonprofit cinema best in...</td>\n      <td>5</td>\n    </tr>\n    <tr>\n      <th>2</th>\n      <td>dhumpachika</td>\n      <td>Follow us for the best of what's happening abo...</td>\n      <td>2</td>\n      <td>dhumpachika</td>\n      <td>follow u best what happen cycl bike around wor...</td>\n      <td>5</td>\n    </tr>\n    <tr>\n      <th>3</th>\n      <td>DavyVara</td>\n      <td>Filmmaker Writer Activist Aspiring Actor... I ...</td>\n      <td>3</td>\n      <td>DavyVara</td>\n      <td>filmmak writer activist aspir actor make film ...</td>\n      <td>2</td>\n    </tr>\n    <tr>\n      <th>4</th>\n      <td>keeeykeh</td>\n      <td>Dedicated student of the beautiful game. Head ...</td>\n      <td>4</td>\n      <td>keeeykeh</td>\n      <td>dedic student beauti game head coach colleg de...</td>\n      <td>4</td>\n    </tr>\n  </tbody>\n</table>\n</div>"
     },
     "metadata": {},
     "execution_count": 224
    }
   ],
   "source": [
    "df.drop(['bio'], axis=1)\r\n",
    "finalS1 = pd.merge(org_df,df, on='UserID')\r\n",
    "finalS1.head()"
   ]
  },
  {
   "cell_type": "code",
   "execution_count": 225,
   "metadata": {},
   "outputs": [],
   "source": [
    "for i in range(n_clst):\n",
    "    Clust1wBios=finalS1[finalS1['BioClusters']==i]\n",
    "    Clust1wBios.to_csv('{}/{}.csv'.format('ALGO2_BioClusters/clean',i))"
   ]
  },
  {
   "cell_type": "code",
   "execution_count": null,
   "metadata": {},
   "outputs": [],
   "source": []
  }
 ]
}