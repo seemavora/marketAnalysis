{
 "metadata": {
  "language_info": {
   "codemirror_mode": {
    "name": "ipython",
    "version": 3
   },
   "file_extension": ".py",
   "mimetype": "text/x-python",
   "name": "python",
   "nbconvert_exporter": "python",
   "pygments_lexer": "ipython3",
   "version": "3.8.5"
  },
  "orig_nbformat": 2,
  "kernelspec": {
   "name": "python3",
   "display_name": "Python 3",
   "language": "python"
  }
 },
 "nbformat": 4,
 "nbformat_minor": 2,
 "cells": [
  {
   "cell_type": "code",
   "execution_count": 1,
   "metadata": {},
   "outputs": [
    {
     "output_type": "stream",
     "name": "stderr",
     "text": [
      "[nltk_data] Downloading package words to\n[nltk_data]     C:\\Users\\surab\\AppData\\Roaming\\nltk_data...\n[nltk_data]   Package words is already up-to-date!\n"
     ]
    },
    {
     "output_type": "execute_result",
     "data": {
      "text/plain": [
       "True"
      ]
     },
     "metadata": {},
     "execution_count": 1
    }
   ],
   "source": [
    "#https://towardsdatascience.com/k-means-clustering-chardonnay-reviews-using-scikit-learn-nltk-9df3c59527f3\n",
    "import pandas as pd\n",
    "import numpy as np\n",
    "import matplotlib.pyplot as plt\n",
    "import seaborn as sns\n",
    "import re\n",
    "import string\n",
    "from nltk.tokenize import RegexpTokenizer\n",
    "from nltk.stem.porter import PorterStemmer\n",
    "import nltk\n",
    "nltk.download('words')"
   ]
  },
  {
   "cell_type": "code",
   "execution_count": 2,
   "metadata": {},
   "outputs": [],
   "source": [
    "from sklearn import preprocessing, decomposition, model_selection, metrics, pipeline\n",
    "from sklearn.feature_extraction.text import TfidfVectorizer, CountVectorizer\n",
    "from sklearn.cluster import KMeans\n",
    "import nltk\n",
    "from nltk.stem.wordnet import WordNetLemmatizer\n",
    "from nltk.corpus import stopwords"
   ]
  },
  {
   "cell_type": "code",
   "execution_count": 3,
   "metadata": {},
   "outputs": [
    {
     "output_type": "execute_result",
     "data": {
      "text/plain": [
       "                                                 Bios  Year  Major_Dept  \\\n",
       "0                         Beer geek, and love to bake     4           8   \n",
       "1                               I code, trek and hike     4           7   \n",
       "2                              Cooking, foodie, baker     2           6   \n",
       "3                         rap, hip-hop, music, guitar     3           7   \n",
       "4                            coffee, hungry, singer 😀     3           2   \n",
       "5               social-media, twitter, facebook, vape     2           1   \n",
       "6                      friendly alcoholaholic, driver     2           5   \n",
       "7          math major, integration, calculus, algebra     2           7   \n",
       "8                                   creator, photshop     2           2   \n",
       "9                    pop culture, friendly geek, weed     2           5   \n",
       "10                             introvert, gamer, nerd     1           7   \n",
       "11               writer, enthusiastic, hype, reading      2           1   \n",
       "12                        TV, I love disney, cartoons     4           8   \n",
       "13                     Computer-science major, soccer     1           2   \n",
       "14                     travelling, musician artist,😀      3           4   \n",
       "15                         mathematics, geek, compsci     4           2   \n",
       "16  I love to meet new people! I like to sing, che...     1           8   \n",
       "17                                                 :)     3           6   \n",
       "18                    The coffee addict, also druggie     3           7   \n",
       "19            Travelling freak, biking is life, bball     4           5   \n",
       "20                                       my instagram     2           4   \n",
       "21                      Piano lover, learning to bake     3           8   \n",
       "22             Problem-solver and looking for friends     3           5   \n",
       "23                web geek! Lets game together woohoo     2           1   \n",
       "24                   Looking for a roommate, football     4           5   \n",
       "25                          plants and love gardening     4           3   \n",
       "26                                 my twitter account     2           3   \n",
       "27                                     I love dogs! 😀     1           4   \n",
       "28                                  introverted gamer     3           3   \n",
       "29                                     Business major     2           5   \n",
       "30       I live at the gym. basketball player.fooood.     3           2   \n",
       "\n",
       "    Ambition  Goals  Music  Sports  Friday_Nights  School_balance  \\\n",
       "0          1      2     10      10              1               2   \n",
       "1          1      2      5       8              1               2   \n",
       "2          3      1      5      10              1               2   \n",
       "3          1      2      3       4              1               2   \n",
       "4          1      1      7       1              2               1   \n",
       "5          2      1      7       6              1               1   \n",
       "6          3      2      2       3              1               1   \n",
       "7          3      2      1       1              1               2   \n",
       "8          1      2     10       8              1               1   \n",
       "9          2      2      2       8              2               1   \n",
       "10         2      1     10       7              2               2   \n",
       "11         1      2      9       1              1               2   \n",
       "12         3      2      8       9              2               1   \n",
       "13         2      1      5       9              1               1   \n",
       "14         1      1      7      10              2               3   \n",
       "15         1      1      5       5              1               1   \n",
       "16         3      1      3       2              2               1   \n",
       "17         3      1      2       2              1               3   \n",
       "18         2      2      5       6              2               1   \n",
       "19         1      1      4       9              1               3   \n",
       "20         3      2      3       4              1               1   \n",
       "21         1      2      2       4              1               3   \n",
       "22         2      1      5       7              2               3   \n",
       "23         2      1      1       4              2               1   \n",
       "24         1      2      1       4              2               1   \n",
       "25         2      2     10      10              1               2   \n",
       "26         3      2      8       1              2               2   \n",
       "27         1      2      6       9              1               2   \n",
       "28         2      2      7       4              2               1   \n",
       "29         3      2      4      10              1               2   \n",
       "30         2      1      6       9              1               3   \n",
       "\n",
       "    Movie_Genres  Social_Style  Transfer  \n",
       "0              8             2         2  \n",
       "1             11             3         1  \n",
       "2              5             2         2  \n",
       "3              8             2         2  \n",
       "4              8             2         1  \n",
       "5              9             1         1  \n",
       "6              2             2         1  \n",
       "7              3             3         2  \n",
       "8              6             2         2  \n",
       "9              3             1         1  \n",
       "10             8             1         1  \n",
       "11            11             3         1  \n",
       "12             5             2         2  \n",
       "13             4             3         2  \n",
       "14             1             3         2  \n",
       "15            10             3         1  \n",
       "16             5             3         2  \n",
       "17            10             2         1  \n",
       "18             9             1         2  \n",
       "19             3             2         2  \n",
       "20             1             2         1  \n",
       "21             9             1         2  \n",
       "22             5             3         1  \n",
       "23             8             3         2  \n",
       "24             2             3         1  \n",
       "25             6             1         1  \n",
       "26             5             3         1  \n",
       "27             4             3         1  \n",
       "28             3             3         1  \n",
       "29             9             3         1  \n",
       "30             4             2         2  "
      ],
      "text/html": "<div>\n<style scoped>\n    .dataframe tbody tr th:only-of-type {\n        vertical-align: middle;\n    }\n\n    .dataframe tbody tr th {\n        vertical-align: top;\n    }\n\n    .dataframe thead th {\n        text-align: right;\n    }\n</style>\n<table border=\"1\" class=\"dataframe\">\n  <thead>\n    <tr style=\"text-align: right;\">\n      <th></th>\n      <th>Bios</th>\n      <th>Year</th>\n      <th>Major_Dept</th>\n      <th>Ambition</th>\n      <th>Goals</th>\n      <th>Music</th>\n      <th>Sports</th>\n      <th>Friday_Nights</th>\n      <th>School_balance</th>\n      <th>Movie_Genres</th>\n      <th>Social_Style</th>\n      <th>Transfer</th>\n    </tr>\n  </thead>\n  <tbody>\n    <tr>\n      <th>0</th>\n      <td>Beer geek, and love to bake</td>\n      <td>4</td>\n      <td>8</td>\n      <td>1</td>\n      <td>2</td>\n      <td>10</td>\n      <td>10</td>\n      <td>1</td>\n      <td>2</td>\n      <td>8</td>\n      <td>2</td>\n      <td>2</td>\n    </tr>\n    <tr>\n      <th>1</th>\n      <td>I code, trek and hike</td>\n      <td>4</td>\n      <td>7</td>\n      <td>1</td>\n      <td>2</td>\n      <td>5</td>\n      <td>8</td>\n      <td>1</td>\n      <td>2</td>\n      <td>11</td>\n      <td>3</td>\n      <td>1</td>\n    </tr>\n    <tr>\n      <th>2</th>\n      <td>Cooking, foodie, baker</td>\n      <td>2</td>\n      <td>6</td>\n      <td>3</td>\n      <td>1</td>\n      <td>5</td>\n      <td>10</td>\n      <td>1</td>\n      <td>2</td>\n      <td>5</td>\n      <td>2</td>\n      <td>2</td>\n    </tr>\n    <tr>\n      <th>3</th>\n      <td>rap, hip-hop, music, guitar</td>\n      <td>3</td>\n      <td>7</td>\n      <td>1</td>\n      <td>2</td>\n      <td>3</td>\n      <td>4</td>\n      <td>1</td>\n      <td>2</td>\n      <td>8</td>\n      <td>2</td>\n      <td>2</td>\n    </tr>\n    <tr>\n      <th>4</th>\n      <td>coffee, hungry, singer 😀</td>\n      <td>3</td>\n      <td>2</td>\n      <td>1</td>\n      <td>1</td>\n      <td>7</td>\n      <td>1</td>\n      <td>2</td>\n      <td>1</td>\n      <td>8</td>\n      <td>2</td>\n      <td>1</td>\n    </tr>\n    <tr>\n      <th>5</th>\n      <td>social-media, twitter, facebook, vape</td>\n      <td>2</td>\n      <td>1</td>\n      <td>2</td>\n      <td>1</td>\n      <td>7</td>\n      <td>6</td>\n      <td>1</td>\n      <td>1</td>\n      <td>9</td>\n      <td>1</td>\n      <td>1</td>\n    </tr>\n    <tr>\n      <th>6</th>\n      <td>friendly alcoholaholic, driver</td>\n      <td>2</td>\n      <td>5</td>\n      <td>3</td>\n      <td>2</td>\n      <td>2</td>\n      <td>3</td>\n      <td>1</td>\n      <td>1</td>\n      <td>2</td>\n      <td>2</td>\n      <td>1</td>\n    </tr>\n    <tr>\n      <th>7</th>\n      <td>math major, integration, calculus, algebra</td>\n      <td>2</td>\n      <td>7</td>\n      <td>3</td>\n      <td>2</td>\n      <td>1</td>\n      <td>1</td>\n      <td>1</td>\n      <td>2</td>\n      <td>3</td>\n      <td>3</td>\n      <td>2</td>\n    </tr>\n    <tr>\n      <th>8</th>\n      <td>creator, photshop</td>\n      <td>2</td>\n      <td>2</td>\n      <td>1</td>\n      <td>2</td>\n      <td>10</td>\n      <td>8</td>\n      <td>1</td>\n      <td>1</td>\n      <td>6</td>\n      <td>2</td>\n      <td>2</td>\n    </tr>\n    <tr>\n      <th>9</th>\n      <td>pop culture, friendly geek, weed</td>\n      <td>2</td>\n      <td>5</td>\n      <td>2</td>\n      <td>2</td>\n      <td>2</td>\n      <td>8</td>\n      <td>2</td>\n      <td>1</td>\n      <td>3</td>\n      <td>1</td>\n      <td>1</td>\n    </tr>\n    <tr>\n      <th>10</th>\n      <td>introvert, gamer, nerd</td>\n      <td>1</td>\n      <td>7</td>\n      <td>2</td>\n      <td>1</td>\n      <td>10</td>\n      <td>7</td>\n      <td>2</td>\n      <td>2</td>\n      <td>8</td>\n      <td>1</td>\n      <td>1</td>\n    </tr>\n    <tr>\n      <th>11</th>\n      <td>writer, enthusiastic, hype, reading</td>\n      <td>2</td>\n      <td>1</td>\n      <td>1</td>\n      <td>2</td>\n      <td>9</td>\n      <td>1</td>\n      <td>1</td>\n      <td>2</td>\n      <td>11</td>\n      <td>3</td>\n      <td>1</td>\n    </tr>\n    <tr>\n      <th>12</th>\n      <td>TV, I love disney, cartoons</td>\n      <td>4</td>\n      <td>8</td>\n      <td>3</td>\n      <td>2</td>\n      <td>8</td>\n      <td>9</td>\n      <td>2</td>\n      <td>1</td>\n      <td>5</td>\n      <td>2</td>\n      <td>2</td>\n    </tr>\n    <tr>\n      <th>13</th>\n      <td>Computer-science major, soccer</td>\n      <td>1</td>\n      <td>2</td>\n      <td>2</td>\n      <td>1</td>\n      <td>5</td>\n      <td>9</td>\n      <td>1</td>\n      <td>1</td>\n      <td>4</td>\n      <td>3</td>\n      <td>2</td>\n    </tr>\n    <tr>\n      <th>14</th>\n      <td>travelling, musician artist,😀</td>\n      <td>3</td>\n      <td>4</td>\n      <td>1</td>\n      <td>1</td>\n      <td>7</td>\n      <td>10</td>\n      <td>2</td>\n      <td>3</td>\n      <td>1</td>\n      <td>3</td>\n      <td>2</td>\n    </tr>\n    <tr>\n      <th>15</th>\n      <td>mathematics, geek, compsci</td>\n      <td>4</td>\n      <td>2</td>\n      <td>1</td>\n      <td>1</td>\n      <td>5</td>\n      <td>5</td>\n      <td>1</td>\n      <td>1</td>\n      <td>10</td>\n      <td>3</td>\n      <td>1</td>\n    </tr>\n    <tr>\n      <th>16</th>\n      <td>I love to meet new people! I like to sing, che...</td>\n      <td>1</td>\n      <td>8</td>\n      <td>3</td>\n      <td>1</td>\n      <td>3</td>\n      <td>2</td>\n      <td>2</td>\n      <td>1</td>\n      <td>5</td>\n      <td>3</td>\n      <td>2</td>\n    </tr>\n    <tr>\n      <th>17</th>\n      <td>:)</td>\n      <td>3</td>\n      <td>6</td>\n      <td>3</td>\n      <td>1</td>\n      <td>2</td>\n      <td>2</td>\n      <td>1</td>\n      <td>3</td>\n      <td>10</td>\n      <td>2</td>\n      <td>1</td>\n    </tr>\n    <tr>\n      <th>18</th>\n      <td>The coffee addict, also druggie</td>\n      <td>3</td>\n      <td>7</td>\n      <td>2</td>\n      <td>2</td>\n      <td>5</td>\n      <td>6</td>\n      <td>2</td>\n      <td>1</td>\n      <td>9</td>\n      <td>1</td>\n      <td>2</td>\n    </tr>\n    <tr>\n      <th>19</th>\n      <td>Travelling freak, biking is life, bball</td>\n      <td>4</td>\n      <td>5</td>\n      <td>1</td>\n      <td>1</td>\n      <td>4</td>\n      <td>9</td>\n      <td>1</td>\n      <td>3</td>\n      <td>3</td>\n      <td>2</td>\n      <td>2</td>\n    </tr>\n    <tr>\n      <th>20</th>\n      <td>my instagram</td>\n      <td>2</td>\n      <td>4</td>\n      <td>3</td>\n      <td>2</td>\n      <td>3</td>\n      <td>4</td>\n      <td>1</td>\n      <td>1</td>\n      <td>1</td>\n      <td>2</td>\n      <td>1</td>\n    </tr>\n    <tr>\n      <th>21</th>\n      <td>Piano lover, learning to bake</td>\n      <td>3</td>\n      <td>8</td>\n      <td>1</td>\n      <td>2</td>\n      <td>2</td>\n      <td>4</td>\n      <td>1</td>\n      <td>3</td>\n      <td>9</td>\n      <td>1</td>\n      <td>2</td>\n    </tr>\n    <tr>\n      <th>22</th>\n      <td>Problem-solver and looking for friends</td>\n      <td>3</td>\n      <td>5</td>\n      <td>2</td>\n      <td>1</td>\n      <td>5</td>\n      <td>7</td>\n      <td>2</td>\n      <td>3</td>\n      <td>5</td>\n      <td>3</td>\n      <td>1</td>\n    </tr>\n    <tr>\n      <th>23</th>\n      <td>web geek! Lets game together woohoo</td>\n      <td>2</td>\n      <td>1</td>\n      <td>2</td>\n      <td>1</td>\n      <td>1</td>\n      <td>4</td>\n      <td>2</td>\n      <td>1</td>\n      <td>8</td>\n      <td>3</td>\n      <td>2</td>\n    </tr>\n    <tr>\n      <th>24</th>\n      <td>Looking for a roommate, football</td>\n      <td>4</td>\n      <td>5</td>\n      <td>1</td>\n      <td>2</td>\n      <td>1</td>\n      <td>4</td>\n      <td>2</td>\n      <td>1</td>\n      <td>2</td>\n      <td>3</td>\n      <td>1</td>\n    </tr>\n    <tr>\n      <th>25</th>\n      <td>plants and love gardening</td>\n      <td>4</td>\n      <td>3</td>\n      <td>2</td>\n      <td>2</td>\n      <td>10</td>\n      <td>10</td>\n      <td>1</td>\n      <td>2</td>\n      <td>6</td>\n      <td>1</td>\n      <td>1</td>\n    </tr>\n    <tr>\n      <th>26</th>\n      <td>my twitter account</td>\n      <td>2</td>\n      <td>3</td>\n      <td>3</td>\n      <td>2</td>\n      <td>8</td>\n      <td>1</td>\n      <td>2</td>\n      <td>2</td>\n      <td>5</td>\n      <td>3</td>\n      <td>1</td>\n    </tr>\n    <tr>\n      <th>27</th>\n      <td>I love dogs! 😀</td>\n      <td>1</td>\n      <td>4</td>\n      <td>1</td>\n      <td>2</td>\n      <td>6</td>\n      <td>9</td>\n      <td>1</td>\n      <td>2</td>\n      <td>4</td>\n      <td>3</td>\n      <td>1</td>\n    </tr>\n    <tr>\n      <th>28</th>\n      <td>introverted gamer</td>\n      <td>3</td>\n      <td>3</td>\n      <td>2</td>\n      <td>2</td>\n      <td>7</td>\n      <td>4</td>\n      <td>2</td>\n      <td>1</td>\n      <td>3</td>\n      <td>3</td>\n      <td>1</td>\n    </tr>\n    <tr>\n      <th>29</th>\n      <td>Business major</td>\n      <td>2</td>\n      <td>5</td>\n      <td>3</td>\n      <td>2</td>\n      <td>4</td>\n      <td>10</td>\n      <td>1</td>\n      <td>2</td>\n      <td>9</td>\n      <td>3</td>\n      <td>1</td>\n    </tr>\n    <tr>\n      <th>30</th>\n      <td>I live at the gym. basketball player.fooood.</td>\n      <td>3</td>\n      <td>2</td>\n      <td>2</td>\n      <td>1</td>\n      <td>6</td>\n      <td>9</td>\n      <td>1</td>\n      <td>3</td>\n      <td>4</td>\n      <td>2</td>\n      <td>2</td>\n    </tr>\n  </tbody>\n</table>\n</div>"
     },
     "metadata": {},
     "execution_count": 3
    }
   ],
   "source": [
    "df = pd.read_csv('TEST1.csv')\n",
    "df = df.loc[:, ~df.columns.str.contains('^Unnamed')]\n",
    "\n",
    "df"
   ]
  },
  {
   "cell_type": "code",
   "execution_count": 4,
   "metadata": {},
   "outputs": [],
   "source": [
    "# #create a list of stop words\n",
    "# stop_words = set(stopwords.words(\"english\"))\n",
    "# #show how many words are in the list of stop words\n",
    "# # print(len(stop_words))\n",
    "# #179\n",
    "# #construct a new list to store the cleaned text\n",
    "# clean_desc = []\n",
    "\n",
    "# def clean_text(text):\n",
    "#     text = text.lower()\n",
    "#     print(text)\n",
    "#     string=''\n",
    "\n",
    "#     text=re.sub(r\"[-()\\\"#!@$%^&*{}?.,:]\",\" \", str(text))\n",
    "#     text=re.sub(r\"\\s+\",\" \", str(text))\n",
    "#     text=re.sub('[A-Aa-z0-9]+', ' ', str(text))\n",
    "\n",
    "#     for word in text.split():\n",
    "#         if word not in stop_words:\n",
    "#             string += WordNetLemmatizer().lemmatize(word)+ ' '\n",
    "#         return string"
   ]
  },
  {
   "cell_type": "code",
   "execution_count": 5,
   "metadata": {},
   "outputs": [],
   "source": [
    "# df['Bios']=df['Bios'].apply(clean_text)"
   ]
  },
  {
   "cell_type": "code",
   "execution_count": 6,
   "metadata": {},
   "outputs": [
    {
     "output_type": "execute_result",
     "data": {
      "text/plain": [
       "                         Bios  Year  Major_Dept  Ambition  Goals  Music  \\\n",
       "0  Beer geek and love to bake     4           8         1      2     10   \n",
       "1        I code trek and hike     4           7         1      2      5   \n",
       "2        Cooking foodie baker     2           6         3      1      5   \n",
       "3     rap hiphop music guitar     3           7         1      2      3   \n",
       "4      coffee hungry singer 😀     3           2         1      1      7   \n",
       "\n",
       "   Sports  Friday_Nights  School_balance  Movie_Genres  Social_Style  Transfer  \n",
       "0      10              1               2             8             2         2  \n",
       "1       8              1               2            11             3         1  \n",
       "2      10              1               2             5             2         2  \n",
       "3       4              1               2             8             2         2  \n",
       "4       1              2               1             8             2         1  "
      ],
      "text/html": "<div>\n<style scoped>\n    .dataframe tbody tr th:only-of-type {\n        vertical-align: middle;\n    }\n\n    .dataframe tbody tr th {\n        vertical-align: top;\n    }\n\n    .dataframe thead th {\n        text-align: right;\n    }\n</style>\n<table border=\"1\" class=\"dataframe\">\n  <thead>\n    <tr style=\"text-align: right;\">\n      <th></th>\n      <th>Bios</th>\n      <th>Year</th>\n      <th>Major_Dept</th>\n      <th>Ambition</th>\n      <th>Goals</th>\n      <th>Music</th>\n      <th>Sports</th>\n      <th>Friday_Nights</th>\n      <th>School_balance</th>\n      <th>Movie_Genres</th>\n      <th>Social_Style</th>\n      <th>Transfer</th>\n    </tr>\n  </thead>\n  <tbody>\n    <tr>\n      <th>0</th>\n      <td>Beer geek and love to bake</td>\n      <td>4</td>\n      <td>8</td>\n      <td>1</td>\n      <td>2</td>\n      <td>10</td>\n      <td>10</td>\n      <td>1</td>\n      <td>2</td>\n      <td>8</td>\n      <td>2</td>\n      <td>2</td>\n    </tr>\n    <tr>\n      <th>1</th>\n      <td>I code trek and hike</td>\n      <td>4</td>\n      <td>7</td>\n      <td>1</td>\n      <td>2</td>\n      <td>5</td>\n      <td>8</td>\n      <td>1</td>\n      <td>2</td>\n      <td>11</td>\n      <td>3</td>\n      <td>1</td>\n    </tr>\n    <tr>\n      <th>2</th>\n      <td>Cooking foodie baker</td>\n      <td>2</td>\n      <td>6</td>\n      <td>3</td>\n      <td>1</td>\n      <td>5</td>\n      <td>10</td>\n      <td>1</td>\n      <td>2</td>\n      <td>5</td>\n      <td>2</td>\n      <td>2</td>\n    </tr>\n    <tr>\n      <th>3</th>\n      <td>rap hiphop music guitar</td>\n      <td>3</td>\n      <td>7</td>\n      <td>1</td>\n      <td>2</td>\n      <td>3</td>\n      <td>4</td>\n      <td>1</td>\n      <td>2</td>\n      <td>8</td>\n      <td>2</td>\n      <td>2</td>\n    </tr>\n    <tr>\n      <th>4</th>\n      <td>coffee hungry singer 😀</td>\n      <td>3</td>\n      <td>2</td>\n      <td>1</td>\n      <td>1</td>\n      <td>7</td>\n      <td>1</td>\n      <td>2</td>\n      <td>1</td>\n      <td>8</td>\n      <td>2</td>\n      <td>1</td>\n    </tr>\n  </tbody>\n</table>\n</div>"
     },
     "metadata": {},
     "execution_count": 6
    }
   ],
   "source": [
    "def remove_punct(text):\n",
    "    no_punct = \"\".join([c for c in text if c not in string.punctuation])\n",
    "    return no_punct\n",
    "df['Bios'] = df['Bios'].apply(lambda x: remove_punct(x))\n",
    "df.head()"
   ]
  },
  {
   "cell_type": "code",
   "execution_count": 7,
   "metadata": {},
   "outputs": [
    {
     "output_type": "execute_result",
     "data": {
      "text/plain": [
       "                                Bios  Year  Major_Dept  Ambition  Goals  \\\n",
       "0  [beer, geek, and, love, to, bake]     4           8         1      2   \n",
       "1         [i, code, trek, and, hike]     4           7         1      2   \n",
       "2           [cooking, foodie, baker]     2           6         3      1   \n",
       "3       [rap, hiphop, music, guitar]     3           7         1      2   \n",
       "4           [coffee, hungry, singer]     3           2         1      1   \n",
       "\n",
       "   Music  Sports  Friday_Nights  School_balance  Movie_Genres  Social_Style  \\\n",
       "0     10      10              1               2             8             2   \n",
       "1      5       8              1               2            11             3   \n",
       "2      5      10              1               2             5             2   \n",
       "3      3       4              1               2             8             2   \n",
       "4      7       1              2               1             8             2   \n",
       "\n",
       "   Transfer  \n",
       "0         2  \n",
       "1         1  \n",
       "2         2  \n",
       "3         2  \n",
       "4         1  "
      ],
      "text/html": "<div>\n<style scoped>\n    .dataframe tbody tr th:only-of-type {\n        vertical-align: middle;\n    }\n\n    .dataframe tbody tr th {\n        vertical-align: top;\n    }\n\n    .dataframe thead th {\n        text-align: right;\n    }\n</style>\n<table border=\"1\" class=\"dataframe\">\n  <thead>\n    <tr style=\"text-align: right;\">\n      <th></th>\n      <th>Bios</th>\n      <th>Year</th>\n      <th>Major_Dept</th>\n      <th>Ambition</th>\n      <th>Goals</th>\n      <th>Music</th>\n      <th>Sports</th>\n      <th>Friday_Nights</th>\n      <th>School_balance</th>\n      <th>Movie_Genres</th>\n      <th>Social_Style</th>\n      <th>Transfer</th>\n    </tr>\n  </thead>\n  <tbody>\n    <tr>\n      <th>0</th>\n      <td>[beer, geek, and, love, to, bake]</td>\n      <td>4</td>\n      <td>8</td>\n      <td>1</td>\n      <td>2</td>\n      <td>10</td>\n      <td>10</td>\n      <td>1</td>\n      <td>2</td>\n      <td>8</td>\n      <td>2</td>\n      <td>2</td>\n    </tr>\n    <tr>\n      <th>1</th>\n      <td>[i, code, trek, and, hike]</td>\n      <td>4</td>\n      <td>7</td>\n      <td>1</td>\n      <td>2</td>\n      <td>5</td>\n      <td>8</td>\n      <td>1</td>\n      <td>2</td>\n      <td>11</td>\n      <td>3</td>\n      <td>1</td>\n    </tr>\n    <tr>\n      <th>2</th>\n      <td>[cooking, foodie, baker]</td>\n      <td>2</td>\n      <td>6</td>\n      <td>3</td>\n      <td>1</td>\n      <td>5</td>\n      <td>10</td>\n      <td>1</td>\n      <td>2</td>\n      <td>5</td>\n      <td>2</td>\n      <td>2</td>\n    </tr>\n    <tr>\n      <th>3</th>\n      <td>[rap, hiphop, music, guitar]</td>\n      <td>3</td>\n      <td>7</td>\n      <td>1</td>\n      <td>2</td>\n      <td>3</td>\n      <td>4</td>\n      <td>1</td>\n      <td>2</td>\n      <td>8</td>\n      <td>2</td>\n      <td>2</td>\n    </tr>\n    <tr>\n      <th>4</th>\n      <td>[coffee, hungry, singer]</td>\n      <td>3</td>\n      <td>2</td>\n      <td>1</td>\n      <td>1</td>\n      <td>7</td>\n      <td>1</td>\n      <td>2</td>\n      <td>1</td>\n      <td>8</td>\n      <td>2</td>\n      <td>1</td>\n    </tr>\n  </tbody>\n</table>\n</div>"
     },
     "metadata": {},
     "execution_count": 7
    }
   ],
   "source": [
    "tokenizer = RegexpTokenizer(r'\\w+')\n",
    "df['Bios'] = df['Bios'].apply(lambda x: tokenizer.tokenize(x.lower()))\n",
    "df.head()"
   ]
  },
  {
   "cell_type": "code",
   "execution_count": 8,
   "metadata": {},
   "outputs": [],
   "source": [
    "def remove_stopwords(text):\n",
    "    words = [w for w in text if w not in stopwords.words('english')]\n",
    "    return words"
   ]
  },
  {
   "cell_type": "code",
   "execution_count": 9,
   "metadata": {},
   "outputs": [
    {
     "output_type": "execute_result",
     "data": {
      "text/plain": [
       "                           Bios  Year  Major_Dept  Ambition  Goals  Music  \\\n",
       "0      [beer, geek, love, bake]     4           8         1      2     10   \n",
       "1            [code, trek, hike]     4           7         1      2      5   \n",
       "2      [cooking, foodie, baker]     2           6         3      1      5   \n",
       "3  [rap, hiphop, music, guitar]     3           7         1      2      3   \n",
       "4      [coffee, hungry, singer]     3           2         1      1      7   \n",
       "\n",
       "   Sports  Friday_Nights  School_balance  Movie_Genres  Social_Style  Transfer  \n",
       "0      10              1               2             8             2         2  \n",
       "1       8              1               2            11             3         1  \n",
       "2      10              1               2             5             2         2  \n",
       "3       4              1               2             8             2         2  \n",
       "4       1              2               1             8             2         1  "
      ],
      "text/html": "<div>\n<style scoped>\n    .dataframe tbody tr th:only-of-type {\n        vertical-align: middle;\n    }\n\n    .dataframe tbody tr th {\n        vertical-align: top;\n    }\n\n    .dataframe thead th {\n        text-align: right;\n    }\n</style>\n<table border=\"1\" class=\"dataframe\">\n  <thead>\n    <tr style=\"text-align: right;\">\n      <th></th>\n      <th>Bios</th>\n      <th>Year</th>\n      <th>Major_Dept</th>\n      <th>Ambition</th>\n      <th>Goals</th>\n      <th>Music</th>\n      <th>Sports</th>\n      <th>Friday_Nights</th>\n      <th>School_balance</th>\n      <th>Movie_Genres</th>\n      <th>Social_Style</th>\n      <th>Transfer</th>\n    </tr>\n  </thead>\n  <tbody>\n    <tr>\n      <th>0</th>\n      <td>[beer, geek, love, bake]</td>\n      <td>4</td>\n      <td>8</td>\n      <td>1</td>\n      <td>2</td>\n      <td>10</td>\n      <td>10</td>\n      <td>1</td>\n      <td>2</td>\n      <td>8</td>\n      <td>2</td>\n      <td>2</td>\n    </tr>\n    <tr>\n      <th>1</th>\n      <td>[code, trek, hike]</td>\n      <td>4</td>\n      <td>7</td>\n      <td>1</td>\n      <td>2</td>\n      <td>5</td>\n      <td>8</td>\n      <td>1</td>\n      <td>2</td>\n      <td>11</td>\n      <td>3</td>\n      <td>1</td>\n    </tr>\n    <tr>\n      <th>2</th>\n      <td>[cooking, foodie, baker]</td>\n      <td>2</td>\n      <td>6</td>\n      <td>3</td>\n      <td>1</td>\n      <td>5</td>\n      <td>10</td>\n      <td>1</td>\n      <td>2</td>\n      <td>5</td>\n      <td>2</td>\n      <td>2</td>\n    </tr>\n    <tr>\n      <th>3</th>\n      <td>[rap, hiphop, music, guitar]</td>\n      <td>3</td>\n      <td>7</td>\n      <td>1</td>\n      <td>2</td>\n      <td>3</td>\n      <td>4</td>\n      <td>1</td>\n      <td>2</td>\n      <td>8</td>\n      <td>2</td>\n      <td>2</td>\n    </tr>\n    <tr>\n      <th>4</th>\n      <td>[coffee, hungry, singer]</td>\n      <td>3</td>\n      <td>2</td>\n      <td>1</td>\n      <td>1</td>\n      <td>7</td>\n      <td>1</td>\n      <td>2</td>\n      <td>1</td>\n      <td>8</td>\n      <td>2</td>\n      <td>1</td>\n    </tr>\n  </tbody>\n</table>\n</div>"
     },
     "metadata": {},
     "execution_count": 9
    }
   ],
   "source": [
    "df['Bios'] = df['Bios'].apply(lambda x: remove_stopwords(x))\n",
    "df.head()"
   ]
  },
  {
   "cell_type": "code",
   "execution_count": 10,
   "metadata": {},
   "outputs": [],
   "source": [
    "lemmatizer = WordNetLemmatizer()\n",
    "\n",
    "def word_lemmatizer(text):\n",
    "    lem_text = [lemmatizer.lemmatize(i) for i in text]\n",
    "    return lem_text"
   ]
  },
  {
   "cell_type": "code",
   "execution_count": 11,
   "metadata": {},
   "outputs": [
    {
     "output_type": "execute_result",
     "data": {
      "text/plain": [
       "                           Bios  Year  Major_Dept  Ambition  Goals  Music  \\\n",
       "0      [beer, geek, love, bake]     4           8         1      2     10   \n",
       "1            [code, trek, hike]     4           7         1      2      5   \n",
       "2      [cooking, foodie, baker]     2           6         3      1      5   \n",
       "3  [rap, hiphop, music, guitar]     3           7         1      2      3   \n",
       "4      [coffee, hungry, singer]     3           2         1      1      7   \n",
       "\n",
       "   Sports  Friday_Nights  School_balance  Movie_Genres  Social_Style  Transfer  \n",
       "0      10              1               2             8             2         2  \n",
       "1       8              1               2            11             3         1  \n",
       "2      10              1               2             5             2         2  \n",
       "3       4              1               2             8             2         2  \n",
       "4       1              2               1             8             2         1  "
      ],
      "text/html": "<div>\n<style scoped>\n    .dataframe tbody tr th:only-of-type {\n        vertical-align: middle;\n    }\n\n    .dataframe tbody tr th {\n        vertical-align: top;\n    }\n\n    .dataframe thead th {\n        text-align: right;\n    }\n</style>\n<table border=\"1\" class=\"dataframe\">\n  <thead>\n    <tr style=\"text-align: right;\">\n      <th></th>\n      <th>Bios</th>\n      <th>Year</th>\n      <th>Major_Dept</th>\n      <th>Ambition</th>\n      <th>Goals</th>\n      <th>Music</th>\n      <th>Sports</th>\n      <th>Friday_Nights</th>\n      <th>School_balance</th>\n      <th>Movie_Genres</th>\n      <th>Social_Style</th>\n      <th>Transfer</th>\n    </tr>\n  </thead>\n  <tbody>\n    <tr>\n      <th>0</th>\n      <td>[beer, geek, love, bake]</td>\n      <td>4</td>\n      <td>8</td>\n      <td>1</td>\n      <td>2</td>\n      <td>10</td>\n      <td>10</td>\n      <td>1</td>\n      <td>2</td>\n      <td>8</td>\n      <td>2</td>\n      <td>2</td>\n    </tr>\n    <tr>\n      <th>1</th>\n      <td>[code, trek, hike]</td>\n      <td>4</td>\n      <td>7</td>\n      <td>1</td>\n      <td>2</td>\n      <td>5</td>\n      <td>8</td>\n      <td>1</td>\n      <td>2</td>\n      <td>11</td>\n      <td>3</td>\n      <td>1</td>\n    </tr>\n    <tr>\n      <th>2</th>\n      <td>[cooking, foodie, baker]</td>\n      <td>2</td>\n      <td>6</td>\n      <td>3</td>\n      <td>1</td>\n      <td>5</td>\n      <td>10</td>\n      <td>1</td>\n      <td>2</td>\n      <td>5</td>\n      <td>2</td>\n      <td>2</td>\n    </tr>\n    <tr>\n      <th>3</th>\n      <td>[rap, hiphop, music, guitar]</td>\n      <td>3</td>\n      <td>7</td>\n      <td>1</td>\n      <td>2</td>\n      <td>3</td>\n      <td>4</td>\n      <td>1</td>\n      <td>2</td>\n      <td>8</td>\n      <td>2</td>\n      <td>2</td>\n    </tr>\n    <tr>\n      <th>4</th>\n      <td>[coffee, hungry, singer]</td>\n      <td>3</td>\n      <td>2</td>\n      <td>1</td>\n      <td>1</td>\n      <td>7</td>\n      <td>1</td>\n      <td>2</td>\n      <td>1</td>\n      <td>8</td>\n      <td>2</td>\n      <td>1</td>\n    </tr>\n  </tbody>\n</table>\n</div>"
     },
     "metadata": {},
     "execution_count": 11
    }
   ],
   "source": [
    "df['Bios'] = df['Bios'].apply(lambda x: word_lemmatizer(x))\n",
    "df.head()"
   ]
  },
  {
   "cell_type": "code",
   "execution_count": 12,
   "metadata": {},
   "outputs": [
    {
     "output_type": "execute_result",
     "data": {
      "text/plain": [
       "                      Bios  Year  Major_Dept  Ambition  Goals  Music  Sports  \\\n",
       "0      beer geek love bake     4           8         1      2     10      10   \n",
       "1           code trek hike     4           7         1      2      5       8   \n",
       "2         cook foodi baker     2           6         3      1      5      10   \n",
       "3  rap hiphop music guitar     3           7         1      2      3       4   \n",
       "4      coffe hungri singer     3           2         1      1      7       1   \n",
       "\n",
       "   Friday_Nights  School_balance  Movie_Genres  Social_Style  Transfer  \n",
       "0              1               2             8             2         2  \n",
       "1              1               2            11             3         1  \n",
       "2              1               2             5             2         2  \n",
       "3              1               2             8             2         2  \n",
       "4              2               1             8             2         1  "
      ],
      "text/html": "<div>\n<style scoped>\n    .dataframe tbody tr th:only-of-type {\n        vertical-align: middle;\n    }\n\n    .dataframe tbody tr th {\n        vertical-align: top;\n    }\n\n    .dataframe thead th {\n        text-align: right;\n    }\n</style>\n<table border=\"1\" class=\"dataframe\">\n  <thead>\n    <tr style=\"text-align: right;\">\n      <th></th>\n      <th>Bios</th>\n      <th>Year</th>\n      <th>Major_Dept</th>\n      <th>Ambition</th>\n      <th>Goals</th>\n      <th>Music</th>\n      <th>Sports</th>\n      <th>Friday_Nights</th>\n      <th>School_balance</th>\n      <th>Movie_Genres</th>\n      <th>Social_Style</th>\n      <th>Transfer</th>\n    </tr>\n  </thead>\n  <tbody>\n    <tr>\n      <th>0</th>\n      <td>beer geek love bake</td>\n      <td>4</td>\n      <td>8</td>\n      <td>1</td>\n      <td>2</td>\n      <td>10</td>\n      <td>10</td>\n      <td>1</td>\n      <td>2</td>\n      <td>8</td>\n      <td>2</td>\n      <td>2</td>\n    </tr>\n    <tr>\n      <th>1</th>\n      <td>code trek hike</td>\n      <td>4</td>\n      <td>7</td>\n      <td>1</td>\n      <td>2</td>\n      <td>5</td>\n      <td>8</td>\n      <td>1</td>\n      <td>2</td>\n      <td>11</td>\n      <td>3</td>\n      <td>1</td>\n    </tr>\n    <tr>\n      <th>2</th>\n      <td>cook foodi baker</td>\n      <td>2</td>\n      <td>6</td>\n      <td>3</td>\n      <td>1</td>\n      <td>5</td>\n      <td>10</td>\n      <td>1</td>\n      <td>2</td>\n      <td>5</td>\n      <td>2</td>\n      <td>2</td>\n    </tr>\n    <tr>\n      <th>3</th>\n      <td>rap hiphop music guitar</td>\n      <td>3</td>\n      <td>7</td>\n      <td>1</td>\n      <td>2</td>\n      <td>3</td>\n      <td>4</td>\n      <td>1</td>\n      <td>2</td>\n      <td>8</td>\n      <td>2</td>\n      <td>2</td>\n    </tr>\n    <tr>\n      <th>4</th>\n      <td>coffe hungri singer</td>\n      <td>3</td>\n      <td>2</td>\n      <td>1</td>\n      <td>1</td>\n      <td>7</td>\n      <td>1</td>\n      <td>2</td>\n      <td>1</td>\n      <td>8</td>\n      <td>2</td>\n      <td>1</td>\n    </tr>\n  </tbody>\n</table>\n</div>"
     },
     "metadata": {},
     "execution_count": 12
    }
   ],
   "source": [
    "stemmer = PorterStemmer()\n",
    "def word_stemmer(text):\n",
    "    stem_text = \" \".join([stemmer.stem(i) for i in text])\n",
    "    return stem_text\n",
    "\n",
    "df['Bios'] = df['Bios'].apply(lambda x: word_stemmer(x))\n",
    "df.head()"
   ]
  },
  {
   "cell_type": "code",
   "execution_count": 13,
   "metadata": {},
   "outputs": [],
   "source": [
    "# #create a list of stop words\n",
    "stop_words = set(stopwords.words(\"english\"))\n",
    "# #show how many words are in the list of stop words\n",
    "# print(len(stop_words))\n",
    "# #179\n",
    "# #construct a new list to store the cleaned text\n",
    "# clean_desc = []\n",
    "# for w in range(len(df.Bios)):\n",
    "#     desc = df['Bios'].str.lower\n",
    "\n",
    "#     #remove punctuation\n",
    "#     desc = re.sub('[^a-zA-Z]', ' ', str(desc))\n",
    "    \n",
    "#     #remove tags\n",
    "#     desc = re.sub(\"&lt;/?.*?&gt;\",\" &lt;&gt; \",desc)\n",
    "    \n",
    "#     #remove special characters and digits\n",
    "#     desc = re.sub(\"(\\\\d|\\\\W)+\",\" \",desc)\n",
    "\n",
    "#     split_text = desc.split()\n",
    "\n",
    "#     #Lemmatisation\n",
    "#     lem = WordNetLemmatizer()\n",
    "#     split_text = [lem.lemmatize(word) for word in split_text if not word in stop_words and len(word) >2] \n",
    "\n",
    "#     split_text = \" \".join(split_text)\n",
    "#     clean_desc.append(split_text)"
   ]
  },
  {
   "cell_type": "code",
   "execution_count": 14,
   "metadata": {},
   "outputs": [
    {
     "output_type": "execute_result",
     "data": {
      "text/plain": [
       "                                                 Bios  Year  Major_Dept  \\\n",
       "0                                 beer geek love bake     4           8   \n",
       "1                                      code trek hike     4           7   \n",
       "2                                    cook foodi baker     2           6   \n",
       "3                             rap hiphop music guitar     3           7   \n",
       "4                                 coffe hungri singer     3           2   \n",
       "5                   socialmedia twitter facebook vape     2           1   \n",
       "6                         friendli alcoholahol driver     2           5   \n",
       "7                   math major integr calculu algebra     2           7   \n",
       "8                                    creator photshop     2           2   \n",
       "9                       pop cultur friendli geek weed     2           5   \n",
       "10                               introvert gamer nerd     1           7   \n",
       "11                        writer enthusiast hype read     2           1   \n",
       "12                             tv love disney cartoon     4           8   \n",
       "13                           computersci major soccer     1           2   \n",
       "14                             travel musician artist     3           4   \n",
       "15                              mathemat geek compsci     4           2   \n",
       "16  love meet new peopl like sing checkout youtub ...     1           8   \n",
       "17                                                        3           6   \n",
       "18                           coffe addict also druggi     3           7   \n",
       "19                       travel freak bike life bball     4           5   \n",
       "20                                          instagram     2           4   \n",
       "21                             piano lover learn bake     3           8   \n",
       "22                            problemsolv look friend     3           5   \n",
       "23                    web geek let game togeth woohoo     2           1   \n",
       "24                               look roommat footbal     4           5   \n",
       "25                                  plant love garden     4           3   \n",
       "26                                    twitter account     2           3   \n",
       "27                                           love dog     1           4   \n",
       "28                                    introvert gamer     3           3   \n",
       "29                                         busi major     2           5   \n",
       "30                    live gym basketbal playerfooood     3           2   \n",
       "\n",
       "    Ambition  Goals  Music  Sports  Friday_Nights  School_balance  \\\n",
       "0          1      2     10      10              1               2   \n",
       "1          1      2      5       8              1               2   \n",
       "2          3      1      5      10              1               2   \n",
       "3          1      2      3       4              1               2   \n",
       "4          1      1      7       1              2               1   \n",
       "5          2      1      7       6              1               1   \n",
       "6          3      2      2       3              1               1   \n",
       "7          3      2      1       1              1               2   \n",
       "8          1      2     10       8              1               1   \n",
       "9          2      2      2       8              2               1   \n",
       "10         2      1     10       7              2               2   \n",
       "11         1      2      9       1              1               2   \n",
       "12         3      2      8       9              2               1   \n",
       "13         2      1      5       9              1               1   \n",
       "14         1      1      7      10              2               3   \n",
       "15         1      1      5       5              1               1   \n",
       "16         3      1      3       2              2               1   \n",
       "17         3      1      2       2              1               3   \n",
       "18         2      2      5       6              2               1   \n",
       "19         1      1      4       9              1               3   \n",
       "20         3      2      3       4              1               1   \n",
       "21         1      2      2       4              1               3   \n",
       "22         2      1      5       7              2               3   \n",
       "23         2      1      1       4              2               1   \n",
       "24         1      2      1       4              2               1   \n",
       "25         2      2     10      10              1               2   \n",
       "26         3      2      8       1              2               2   \n",
       "27         1      2      6       9              1               2   \n",
       "28         2      2      7       4              2               1   \n",
       "29         3      2      4      10              1               2   \n",
       "30         2      1      6       9              1               3   \n",
       "\n",
       "    Movie_Genres  Social_Style  Transfer  \n",
       "0              8             2         2  \n",
       "1             11             3         1  \n",
       "2              5             2         2  \n",
       "3              8             2         2  \n",
       "4              8             2         1  \n",
       "5              9             1         1  \n",
       "6              2             2         1  \n",
       "7              3             3         2  \n",
       "8              6             2         2  \n",
       "9              3             1         1  \n",
       "10             8             1         1  \n",
       "11            11             3         1  \n",
       "12             5             2         2  \n",
       "13             4             3         2  \n",
       "14             1             3         2  \n",
       "15            10             3         1  \n",
       "16             5             3         2  \n",
       "17            10             2         1  \n",
       "18             9             1         2  \n",
       "19             3             2         2  \n",
       "20             1             2         1  \n",
       "21             9             1         2  \n",
       "22             5             3         1  \n",
       "23             8             3         2  \n",
       "24             2             3         1  \n",
       "25             6             1         1  \n",
       "26             5             3         1  \n",
       "27             4             3         1  \n",
       "28             3             3         1  \n",
       "29             9             3         1  \n",
       "30             4             2         2  "
      ],
      "text/html": "<div>\n<style scoped>\n    .dataframe tbody tr th:only-of-type {\n        vertical-align: middle;\n    }\n\n    .dataframe tbody tr th {\n        vertical-align: top;\n    }\n\n    .dataframe thead th {\n        text-align: right;\n    }\n</style>\n<table border=\"1\" class=\"dataframe\">\n  <thead>\n    <tr style=\"text-align: right;\">\n      <th></th>\n      <th>Bios</th>\n      <th>Year</th>\n      <th>Major_Dept</th>\n      <th>Ambition</th>\n      <th>Goals</th>\n      <th>Music</th>\n      <th>Sports</th>\n      <th>Friday_Nights</th>\n      <th>School_balance</th>\n      <th>Movie_Genres</th>\n      <th>Social_Style</th>\n      <th>Transfer</th>\n    </tr>\n  </thead>\n  <tbody>\n    <tr>\n      <th>0</th>\n      <td>beer geek love bake</td>\n      <td>4</td>\n      <td>8</td>\n      <td>1</td>\n      <td>2</td>\n      <td>10</td>\n      <td>10</td>\n      <td>1</td>\n      <td>2</td>\n      <td>8</td>\n      <td>2</td>\n      <td>2</td>\n    </tr>\n    <tr>\n      <th>1</th>\n      <td>code trek hike</td>\n      <td>4</td>\n      <td>7</td>\n      <td>1</td>\n      <td>2</td>\n      <td>5</td>\n      <td>8</td>\n      <td>1</td>\n      <td>2</td>\n      <td>11</td>\n      <td>3</td>\n      <td>1</td>\n    </tr>\n    <tr>\n      <th>2</th>\n      <td>cook foodi baker</td>\n      <td>2</td>\n      <td>6</td>\n      <td>3</td>\n      <td>1</td>\n      <td>5</td>\n      <td>10</td>\n      <td>1</td>\n      <td>2</td>\n      <td>5</td>\n      <td>2</td>\n      <td>2</td>\n    </tr>\n    <tr>\n      <th>3</th>\n      <td>rap hiphop music guitar</td>\n      <td>3</td>\n      <td>7</td>\n      <td>1</td>\n      <td>2</td>\n      <td>3</td>\n      <td>4</td>\n      <td>1</td>\n      <td>2</td>\n      <td>8</td>\n      <td>2</td>\n      <td>2</td>\n    </tr>\n    <tr>\n      <th>4</th>\n      <td>coffe hungri singer</td>\n      <td>3</td>\n      <td>2</td>\n      <td>1</td>\n      <td>1</td>\n      <td>7</td>\n      <td>1</td>\n      <td>2</td>\n      <td>1</td>\n      <td>8</td>\n      <td>2</td>\n      <td>1</td>\n    </tr>\n    <tr>\n      <th>5</th>\n      <td>socialmedia twitter facebook vape</td>\n      <td>2</td>\n      <td>1</td>\n      <td>2</td>\n      <td>1</td>\n      <td>7</td>\n      <td>6</td>\n      <td>1</td>\n      <td>1</td>\n      <td>9</td>\n      <td>1</td>\n      <td>1</td>\n    </tr>\n    <tr>\n      <th>6</th>\n      <td>friendli alcoholahol driver</td>\n      <td>2</td>\n      <td>5</td>\n      <td>3</td>\n      <td>2</td>\n      <td>2</td>\n      <td>3</td>\n      <td>1</td>\n      <td>1</td>\n      <td>2</td>\n      <td>2</td>\n      <td>1</td>\n    </tr>\n    <tr>\n      <th>7</th>\n      <td>math major integr calculu algebra</td>\n      <td>2</td>\n      <td>7</td>\n      <td>3</td>\n      <td>2</td>\n      <td>1</td>\n      <td>1</td>\n      <td>1</td>\n      <td>2</td>\n      <td>3</td>\n      <td>3</td>\n      <td>2</td>\n    </tr>\n    <tr>\n      <th>8</th>\n      <td>creator photshop</td>\n      <td>2</td>\n      <td>2</td>\n      <td>1</td>\n      <td>2</td>\n      <td>10</td>\n      <td>8</td>\n      <td>1</td>\n      <td>1</td>\n      <td>6</td>\n      <td>2</td>\n      <td>2</td>\n    </tr>\n    <tr>\n      <th>9</th>\n      <td>pop cultur friendli geek weed</td>\n      <td>2</td>\n      <td>5</td>\n      <td>2</td>\n      <td>2</td>\n      <td>2</td>\n      <td>8</td>\n      <td>2</td>\n      <td>1</td>\n      <td>3</td>\n      <td>1</td>\n      <td>1</td>\n    </tr>\n    <tr>\n      <th>10</th>\n      <td>introvert gamer nerd</td>\n      <td>1</td>\n      <td>7</td>\n      <td>2</td>\n      <td>1</td>\n      <td>10</td>\n      <td>7</td>\n      <td>2</td>\n      <td>2</td>\n      <td>8</td>\n      <td>1</td>\n      <td>1</td>\n    </tr>\n    <tr>\n      <th>11</th>\n      <td>writer enthusiast hype read</td>\n      <td>2</td>\n      <td>1</td>\n      <td>1</td>\n      <td>2</td>\n      <td>9</td>\n      <td>1</td>\n      <td>1</td>\n      <td>2</td>\n      <td>11</td>\n      <td>3</td>\n      <td>1</td>\n    </tr>\n    <tr>\n      <th>12</th>\n      <td>tv love disney cartoon</td>\n      <td>4</td>\n      <td>8</td>\n      <td>3</td>\n      <td>2</td>\n      <td>8</td>\n      <td>9</td>\n      <td>2</td>\n      <td>1</td>\n      <td>5</td>\n      <td>2</td>\n      <td>2</td>\n    </tr>\n    <tr>\n      <th>13</th>\n      <td>computersci major soccer</td>\n      <td>1</td>\n      <td>2</td>\n      <td>2</td>\n      <td>1</td>\n      <td>5</td>\n      <td>9</td>\n      <td>1</td>\n      <td>1</td>\n      <td>4</td>\n      <td>3</td>\n      <td>2</td>\n    </tr>\n    <tr>\n      <th>14</th>\n      <td>travel musician artist</td>\n      <td>3</td>\n      <td>4</td>\n      <td>1</td>\n      <td>1</td>\n      <td>7</td>\n      <td>10</td>\n      <td>2</td>\n      <td>3</td>\n      <td>1</td>\n      <td>3</td>\n      <td>2</td>\n    </tr>\n    <tr>\n      <th>15</th>\n      <td>mathemat geek compsci</td>\n      <td>4</td>\n      <td>2</td>\n      <td>1</td>\n      <td>1</td>\n      <td>5</td>\n      <td>5</td>\n      <td>1</td>\n      <td>1</td>\n      <td>10</td>\n      <td>3</td>\n      <td>1</td>\n    </tr>\n    <tr>\n      <th>16</th>\n      <td>love meet new peopl like sing checkout youtub ...</td>\n      <td>1</td>\n      <td>8</td>\n      <td>3</td>\n      <td>1</td>\n      <td>3</td>\n      <td>2</td>\n      <td>2</td>\n      <td>1</td>\n      <td>5</td>\n      <td>3</td>\n      <td>2</td>\n    </tr>\n    <tr>\n      <th>17</th>\n      <td></td>\n      <td>3</td>\n      <td>6</td>\n      <td>3</td>\n      <td>1</td>\n      <td>2</td>\n      <td>2</td>\n      <td>1</td>\n      <td>3</td>\n      <td>10</td>\n      <td>2</td>\n      <td>1</td>\n    </tr>\n    <tr>\n      <th>18</th>\n      <td>coffe addict also druggi</td>\n      <td>3</td>\n      <td>7</td>\n      <td>2</td>\n      <td>2</td>\n      <td>5</td>\n      <td>6</td>\n      <td>2</td>\n      <td>1</td>\n      <td>9</td>\n      <td>1</td>\n      <td>2</td>\n    </tr>\n    <tr>\n      <th>19</th>\n      <td>travel freak bike life bball</td>\n      <td>4</td>\n      <td>5</td>\n      <td>1</td>\n      <td>1</td>\n      <td>4</td>\n      <td>9</td>\n      <td>1</td>\n      <td>3</td>\n      <td>3</td>\n      <td>2</td>\n      <td>2</td>\n    </tr>\n    <tr>\n      <th>20</th>\n      <td>instagram</td>\n      <td>2</td>\n      <td>4</td>\n      <td>3</td>\n      <td>2</td>\n      <td>3</td>\n      <td>4</td>\n      <td>1</td>\n      <td>1</td>\n      <td>1</td>\n      <td>2</td>\n      <td>1</td>\n    </tr>\n    <tr>\n      <th>21</th>\n      <td>piano lover learn bake</td>\n      <td>3</td>\n      <td>8</td>\n      <td>1</td>\n      <td>2</td>\n      <td>2</td>\n      <td>4</td>\n      <td>1</td>\n      <td>3</td>\n      <td>9</td>\n      <td>1</td>\n      <td>2</td>\n    </tr>\n    <tr>\n      <th>22</th>\n      <td>problemsolv look friend</td>\n      <td>3</td>\n      <td>5</td>\n      <td>2</td>\n      <td>1</td>\n      <td>5</td>\n      <td>7</td>\n      <td>2</td>\n      <td>3</td>\n      <td>5</td>\n      <td>3</td>\n      <td>1</td>\n    </tr>\n    <tr>\n      <th>23</th>\n      <td>web geek let game togeth woohoo</td>\n      <td>2</td>\n      <td>1</td>\n      <td>2</td>\n      <td>1</td>\n      <td>1</td>\n      <td>4</td>\n      <td>2</td>\n      <td>1</td>\n      <td>8</td>\n      <td>3</td>\n      <td>2</td>\n    </tr>\n    <tr>\n      <th>24</th>\n      <td>look roommat footbal</td>\n      <td>4</td>\n      <td>5</td>\n      <td>1</td>\n      <td>2</td>\n      <td>1</td>\n      <td>4</td>\n      <td>2</td>\n      <td>1</td>\n      <td>2</td>\n      <td>3</td>\n      <td>1</td>\n    </tr>\n    <tr>\n      <th>25</th>\n      <td>plant love garden</td>\n      <td>4</td>\n      <td>3</td>\n      <td>2</td>\n      <td>2</td>\n      <td>10</td>\n      <td>10</td>\n      <td>1</td>\n      <td>2</td>\n      <td>6</td>\n      <td>1</td>\n      <td>1</td>\n    </tr>\n    <tr>\n      <th>26</th>\n      <td>twitter account</td>\n      <td>2</td>\n      <td>3</td>\n      <td>3</td>\n      <td>2</td>\n      <td>8</td>\n      <td>1</td>\n      <td>2</td>\n      <td>2</td>\n      <td>5</td>\n      <td>3</td>\n      <td>1</td>\n    </tr>\n    <tr>\n      <th>27</th>\n      <td>love dog</td>\n      <td>1</td>\n      <td>4</td>\n      <td>1</td>\n      <td>2</td>\n      <td>6</td>\n      <td>9</td>\n      <td>1</td>\n      <td>2</td>\n      <td>4</td>\n      <td>3</td>\n      <td>1</td>\n    </tr>\n    <tr>\n      <th>28</th>\n      <td>introvert gamer</td>\n      <td>3</td>\n      <td>3</td>\n      <td>2</td>\n      <td>2</td>\n      <td>7</td>\n      <td>4</td>\n      <td>2</td>\n      <td>1</td>\n      <td>3</td>\n      <td>3</td>\n      <td>1</td>\n    </tr>\n    <tr>\n      <th>29</th>\n      <td>busi major</td>\n      <td>2</td>\n      <td>5</td>\n      <td>3</td>\n      <td>2</td>\n      <td>4</td>\n      <td>10</td>\n      <td>1</td>\n      <td>2</td>\n      <td>9</td>\n      <td>3</td>\n      <td>1</td>\n    </tr>\n    <tr>\n      <th>30</th>\n      <td>live gym basketbal playerfooood</td>\n      <td>3</td>\n      <td>2</td>\n      <td>2</td>\n      <td>1</td>\n      <td>6</td>\n      <td>9</td>\n      <td>1</td>\n      <td>3</td>\n      <td>4</td>\n      <td>2</td>\n      <td>2</td>\n    </tr>\n  </tbody>\n</table>\n</div>"
     },
     "metadata": {},
     "execution_count": 14
    }
   ],
   "source": [
    "df"
   ]
  },
  {
   "cell_type": "code",
   "execution_count": 15,
   "metadata": {},
   "outputs": [
    {
     "output_type": "stream",
     "name": "stdout",
     "text": [
      "['account', 'addict', 'alcoholahol', 'algebra', 'artist', 'bake', 'baker', 'basketbal', 'bball', 'beer', 'bike', 'busi', 'calculu', 'cartoon', 'channel', 'checkout', 'code', 'coffe', 'compsci', 'computersci', 'cook', 'creator', 'cultur', 'disney', 'dog', 'driver', 'druggi', 'enthusiast', 'facebook', 'foodi', 'footbal', 'freak', 'friend', 'friendli', 'game', 'gamer', 'garden', 'geek', 'guitar', 'gym', 'hike', 'hiphop', 'hungri', 'hype', 'instagram', 'integr', 'introvert', 'learn', 'let', 'life', 'like', 'live', 'look', 'love', 'lover', 'major', 'math', 'mathemat', 'meet', 'music', 'musician', 'nerd', 'new', 'peopl', 'photshop', 'piano', 'plant', 'playerfooood', 'pop', 'problemsolv', 'rap', 'read', 'roommat', 'sing', 'singer', 'soccer', 'socialmedia', 'togeth', 'travel', 'trek', 'tv', 'twitter', 'vape', 'web', 'weed', 'woohoo', 'writer', 'youtub']\n"
     ]
    }
   ],
   "source": [
    "#TF-IDF vectorizer\n",
    "tfv = TfidfVectorizer(stop_words = \"english\",ngram_range = (1,1))\n",
    "#transform\n",
    "vec_text = tfv.fit_transform(df.Bios)\n",
    "#returns a list of words.\n",
    "words = tfv.get_feature_names()\n",
    "print(words)\n",
    "# tfidf = TfidfVectorizer(\n",
    "#     min_df = 5,\n",
    "#     max_df = 0.95,\n",
    "#     max_features = 8000,\n",
    "#     stop_words = 'english'\n",
    "# )\n",
    "# tfidf.fit(df['Bios'])\n",
    "# text = tfidf.transform(df['Bios'])\n",
    "\n",
    "# def get_top_keywords(data, clusters, labels, n_terms):\n",
    "#     df = pd.DataFrame(data.todense()).groupby(clusters).mean()\n",
    "    \n",
    "#     for i,r in df.iterrows():\n",
    "#         print('\\nCluster {}'.format(i))\n",
    "#         print(','.join([labels[t] for t in np.argsort(r)[-n_terms:]]))\n",
    "            \n",
    "# get_top_keywords(text, clusters, tfidf.get_feature_names(), 10)"
   ]
  },
  {
   "cell_type": "code",
   "execution_count": 16,
   "metadata": {},
   "outputs": [
    {
     "output_type": "stream",
     "name": "stdout",
     "text": [
      "0 : love, coffe, instagram, bake, travel, dog, creator, photshop, plant, garden\n1 : introvert, gamer, nerd, youtub, freak, dog, driver, druggi, enthusiast, facebook\n2 : twitter, account, vape, facebook, socialmedia, footbal, cultur, disney, dog, driver\n3 : look, problemsolv, roommat, friend, footbal, youtub, foodi, disney, dog, driver\n4 : geek, compsci, mathemat, cultur, pop, weed, friendli, let, togeth, game\n5 : major, busi, soccer, computersci, calculu, algebra, integr, math, druggi, enthusiast\n"
     ]
    }
   ],
   "source": [
    "#setup kmeans clustering\n",
    "kmeans = KMeans(n_clusters = 6, n_init = 17, tol = 0.01, max_iter = 200)\n",
    "#fit the data \n",
    "kmeans.fit(vec_text)\n",
    "#this loop transforms the numbers back into words\n",
    "common_words = kmeans.cluster_centers_.argsort()[:,-1:-11:-1]\n",
    "for num, centroid in enumerate(common_words):\n",
    "    print(str(num) + ' : ' + ', '.join(words[word] for word in centroid))\n",
    "    "
   ]
  },
  {
   "cell_type": "code",
   "execution_count": 21,
   "metadata": {},
   "outputs": [
    {
     "output_type": "execute_result",
     "data": {
      "text/plain": [
       "KMeans(n_clusters=5)"
      ]
     },
     "metadata": {},
     "execution_count": 21
    }
   ],
   "source": [
    "from sklearn.cluster import MiniBatchKMeans, KMeans\n",
    "vec= TfidfVectorizer(stop_words=\"english\", ngram_range=(1,1))\n",
    "vec.fit(df.Bios.values)\n",
    "features = vec.transform(df.Bios.values)\n",
    "clust1Bios = KMeans(init = 'k-means++', n_clusters = 5, n_init=10)\n",
    "clust1Bios.fit(features)"
   ]
  },
  {
   "cell_type": "code",
   "execution_count": 22,
   "metadata": {},
   "outputs": [
    {
     "output_type": "execute_result",
     "data": {
      "text/plain": [
       "                                                 Bios  Year  Major_Dept  \\\n",
       "0                                 beer geek love bake     4           8   \n",
       "1                                      code trek hike     4           7   \n",
       "2                                    cook foodi baker     2           6   \n",
       "3                             rap hiphop music guitar     3           7   \n",
       "4                                 coffe hungri singer     3           2   \n",
       "5                   socialmedia twitter facebook vape     2           1   \n",
       "6                         friendli alcoholahol driver     2           5   \n",
       "7                   math major integr calculu algebra     2           7   \n",
       "8                                    creator photshop     2           2   \n",
       "9                       pop cultur friendli geek weed     2           5   \n",
       "10                               introvert gamer nerd     1           7   \n",
       "11                        writer enthusiast hype read     2           1   \n",
       "12                             tv love disney cartoon     4           8   \n",
       "13                           computersci major soccer     1           2   \n",
       "14                             travel musician artist     3           4   \n",
       "15                              mathemat geek compsci     4           2   \n",
       "16  love meet new peopl like sing checkout youtub ...     1           8   \n",
       "17                                                        3           6   \n",
       "18                           coffe addict also druggi     3           7   \n",
       "19                       travel freak bike life bball     4           5   \n",
       "20                                          instagram     2           4   \n",
       "21                             piano lover learn bake     3           8   \n",
       "22                            problemsolv look friend     3           5   \n",
       "23                    web geek let game togeth woohoo     2           1   \n",
       "24                               look roommat footbal     4           5   \n",
       "25                                  plant love garden     4           3   \n",
       "26                                    twitter account     2           3   \n",
       "27                                           love dog     1           4   \n",
       "28                                    introvert gamer     3           3   \n",
       "29                                         busi major     2           5   \n",
       "30                    live gym basketbal playerfooood     3           2   \n",
       "\n",
       "    Ambition  Goals  Music  Sports  Friday_Nights  School_balance  \\\n",
       "0          1      2     10      10              1               2   \n",
       "1          1      2      5       8              1               2   \n",
       "2          3      1      5      10              1               2   \n",
       "3          1      2      3       4              1               2   \n",
       "4          1      1      7       1              2               1   \n",
       "5          2      1      7       6              1               1   \n",
       "6          3      2      2       3              1               1   \n",
       "7          3      2      1       1              1               2   \n",
       "8          1      2     10       8              1               1   \n",
       "9          2      2      2       8              2               1   \n",
       "10         2      1     10       7              2               2   \n",
       "11         1      2      9       1              1               2   \n",
       "12         3      2      8       9              2               1   \n",
       "13         2      1      5       9              1               1   \n",
       "14         1      1      7      10              2               3   \n",
       "15         1      1      5       5              1               1   \n",
       "16         3      1      3       2              2               1   \n",
       "17         3      1      2       2              1               3   \n",
       "18         2      2      5       6              2               1   \n",
       "19         1      1      4       9              1               3   \n",
       "20         3      2      3       4              1               1   \n",
       "21         1      2      2       4              1               3   \n",
       "22         2      1      5       7              2               3   \n",
       "23         2      1      1       4              2               1   \n",
       "24         1      2      1       4              2               1   \n",
       "25         2      2     10      10              1               2   \n",
       "26         3      2      8       1              2               2   \n",
       "27         1      2      6       9              1               2   \n",
       "28         2      2      7       4              2               1   \n",
       "29         3      2      4      10              1               2   \n",
       "30         2      1      6       9              1               3   \n",
       "\n",
       "    Movie_Genres  Social_Style  Transfer  BioClusters  \n",
       "0              8             2         2            0  \n",
       "1             11             3         1            2  \n",
       "2              5             2         2            2  \n",
       "3              8             2         2            2  \n",
       "4              8             2         1            0  \n",
       "5              9             1         1            2  \n",
       "6              2             2         1            4  \n",
       "7              3             3         2            1  \n",
       "8              6             2         2            0  \n",
       "9              3             1         1            4  \n",
       "10             8             1         1            3  \n",
       "11            11             3         1            2  \n",
       "12             5             2         2            0  \n",
       "13             4             3         2            1  \n",
       "14             1             3         2            0  \n",
       "15            10             3         1            4  \n",
       "16             5             3         2            0  \n",
       "17            10             2         1            2  \n",
       "18             9             1         2            0  \n",
       "19             3             2         2            2  \n",
       "20             1             2         1            2  \n",
       "21             9             1         2            2  \n",
       "22             5             3         1            2  \n",
       "23             8             3         2            4  \n",
       "24             2             3         1            2  \n",
       "25             6             1         1            0  \n",
       "26             5             3         1            2  \n",
       "27             4             3         1            0  \n",
       "28             3             3         1            3  \n",
       "29             9             3         1            1  \n",
       "30             4             2         2            2  "
      ],
      "text/html": "<div>\n<style scoped>\n    .dataframe tbody tr th:only-of-type {\n        vertical-align: middle;\n    }\n\n    .dataframe tbody tr th {\n        vertical-align: top;\n    }\n\n    .dataframe thead th {\n        text-align: right;\n    }\n</style>\n<table border=\"1\" class=\"dataframe\">\n  <thead>\n    <tr style=\"text-align: right;\">\n      <th></th>\n      <th>Bios</th>\n      <th>Year</th>\n      <th>Major_Dept</th>\n      <th>Ambition</th>\n      <th>Goals</th>\n      <th>Music</th>\n      <th>Sports</th>\n      <th>Friday_Nights</th>\n      <th>School_balance</th>\n      <th>Movie_Genres</th>\n      <th>Social_Style</th>\n      <th>Transfer</th>\n      <th>BioClusters</th>\n    </tr>\n  </thead>\n  <tbody>\n    <tr>\n      <th>0</th>\n      <td>beer geek love bake</td>\n      <td>4</td>\n      <td>8</td>\n      <td>1</td>\n      <td>2</td>\n      <td>10</td>\n      <td>10</td>\n      <td>1</td>\n      <td>2</td>\n      <td>8</td>\n      <td>2</td>\n      <td>2</td>\n      <td>0</td>\n    </tr>\n    <tr>\n      <th>1</th>\n      <td>code trek hike</td>\n      <td>4</td>\n      <td>7</td>\n      <td>1</td>\n      <td>2</td>\n      <td>5</td>\n      <td>8</td>\n      <td>1</td>\n      <td>2</td>\n      <td>11</td>\n      <td>3</td>\n      <td>1</td>\n      <td>2</td>\n    </tr>\n    <tr>\n      <th>2</th>\n      <td>cook foodi baker</td>\n      <td>2</td>\n      <td>6</td>\n      <td>3</td>\n      <td>1</td>\n      <td>5</td>\n      <td>10</td>\n      <td>1</td>\n      <td>2</td>\n      <td>5</td>\n      <td>2</td>\n      <td>2</td>\n      <td>2</td>\n    </tr>\n    <tr>\n      <th>3</th>\n      <td>rap hiphop music guitar</td>\n      <td>3</td>\n      <td>7</td>\n      <td>1</td>\n      <td>2</td>\n      <td>3</td>\n      <td>4</td>\n      <td>1</td>\n      <td>2</td>\n      <td>8</td>\n      <td>2</td>\n      <td>2</td>\n      <td>2</td>\n    </tr>\n    <tr>\n      <th>4</th>\n      <td>coffe hungri singer</td>\n      <td>3</td>\n      <td>2</td>\n      <td>1</td>\n      <td>1</td>\n      <td>7</td>\n      <td>1</td>\n      <td>2</td>\n      <td>1</td>\n      <td>8</td>\n      <td>2</td>\n      <td>1</td>\n      <td>0</td>\n    </tr>\n    <tr>\n      <th>5</th>\n      <td>socialmedia twitter facebook vape</td>\n      <td>2</td>\n      <td>1</td>\n      <td>2</td>\n      <td>1</td>\n      <td>7</td>\n      <td>6</td>\n      <td>1</td>\n      <td>1</td>\n      <td>9</td>\n      <td>1</td>\n      <td>1</td>\n      <td>2</td>\n    </tr>\n    <tr>\n      <th>6</th>\n      <td>friendli alcoholahol driver</td>\n      <td>2</td>\n      <td>5</td>\n      <td>3</td>\n      <td>2</td>\n      <td>2</td>\n      <td>3</td>\n      <td>1</td>\n      <td>1</td>\n      <td>2</td>\n      <td>2</td>\n      <td>1</td>\n      <td>4</td>\n    </tr>\n    <tr>\n      <th>7</th>\n      <td>math major integr calculu algebra</td>\n      <td>2</td>\n      <td>7</td>\n      <td>3</td>\n      <td>2</td>\n      <td>1</td>\n      <td>1</td>\n      <td>1</td>\n      <td>2</td>\n      <td>3</td>\n      <td>3</td>\n      <td>2</td>\n      <td>1</td>\n    </tr>\n    <tr>\n      <th>8</th>\n      <td>creator photshop</td>\n      <td>2</td>\n      <td>2</td>\n      <td>1</td>\n      <td>2</td>\n      <td>10</td>\n      <td>8</td>\n      <td>1</td>\n      <td>1</td>\n      <td>6</td>\n      <td>2</td>\n      <td>2</td>\n      <td>0</td>\n    </tr>\n    <tr>\n      <th>9</th>\n      <td>pop cultur friendli geek weed</td>\n      <td>2</td>\n      <td>5</td>\n      <td>2</td>\n      <td>2</td>\n      <td>2</td>\n      <td>8</td>\n      <td>2</td>\n      <td>1</td>\n      <td>3</td>\n      <td>1</td>\n      <td>1</td>\n      <td>4</td>\n    </tr>\n    <tr>\n      <th>10</th>\n      <td>introvert gamer nerd</td>\n      <td>1</td>\n      <td>7</td>\n      <td>2</td>\n      <td>1</td>\n      <td>10</td>\n      <td>7</td>\n      <td>2</td>\n      <td>2</td>\n      <td>8</td>\n      <td>1</td>\n      <td>1</td>\n      <td>3</td>\n    </tr>\n    <tr>\n      <th>11</th>\n      <td>writer enthusiast hype read</td>\n      <td>2</td>\n      <td>1</td>\n      <td>1</td>\n      <td>2</td>\n      <td>9</td>\n      <td>1</td>\n      <td>1</td>\n      <td>2</td>\n      <td>11</td>\n      <td>3</td>\n      <td>1</td>\n      <td>2</td>\n    </tr>\n    <tr>\n      <th>12</th>\n      <td>tv love disney cartoon</td>\n      <td>4</td>\n      <td>8</td>\n      <td>3</td>\n      <td>2</td>\n      <td>8</td>\n      <td>9</td>\n      <td>2</td>\n      <td>1</td>\n      <td>5</td>\n      <td>2</td>\n      <td>2</td>\n      <td>0</td>\n    </tr>\n    <tr>\n      <th>13</th>\n      <td>computersci major soccer</td>\n      <td>1</td>\n      <td>2</td>\n      <td>2</td>\n      <td>1</td>\n      <td>5</td>\n      <td>9</td>\n      <td>1</td>\n      <td>1</td>\n      <td>4</td>\n      <td>3</td>\n      <td>2</td>\n      <td>1</td>\n    </tr>\n    <tr>\n      <th>14</th>\n      <td>travel musician artist</td>\n      <td>3</td>\n      <td>4</td>\n      <td>1</td>\n      <td>1</td>\n      <td>7</td>\n      <td>10</td>\n      <td>2</td>\n      <td>3</td>\n      <td>1</td>\n      <td>3</td>\n      <td>2</td>\n      <td>0</td>\n    </tr>\n    <tr>\n      <th>15</th>\n      <td>mathemat geek compsci</td>\n      <td>4</td>\n      <td>2</td>\n      <td>1</td>\n      <td>1</td>\n      <td>5</td>\n      <td>5</td>\n      <td>1</td>\n      <td>1</td>\n      <td>10</td>\n      <td>3</td>\n      <td>1</td>\n      <td>4</td>\n    </tr>\n    <tr>\n      <th>16</th>\n      <td>love meet new peopl like sing checkout youtub ...</td>\n      <td>1</td>\n      <td>8</td>\n      <td>3</td>\n      <td>1</td>\n      <td>3</td>\n      <td>2</td>\n      <td>2</td>\n      <td>1</td>\n      <td>5</td>\n      <td>3</td>\n      <td>2</td>\n      <td>0</td>\n    </tr>\n    <tr>\n      <th>17</th>\n      <td></td>\n      <td>3</td>\n      <td>6</td>\n      <td>3</td>\n      <td>1</td>\n      <td>2</td>\n      <td>2</td>\n      <td>1</td>\n      <td>3</td>\n      <td>10</td>\n      <td>2</td>\n      <td>1</td>\n      <td>2</td>\n    </tr>\n    <tr>\n      <th>18</th>\n      <td>coffe addict also druggi</td>\n      <td>3</td>\n      <td>7</td>\n      <td>2</td>\n      <td>2</td>\n      <td>5</td>\n      <td>6</td>\n      <td>2</td>\n      <td>1</td>\n      <td>9</td>\n      <td>1</td>\n      <td>2</td>\n      <td>0</td>\n    </tr>\n    <tr>\n      <th>19</th>\n      <td>travel freak bike life bball</td>\n      <td>4</td>\n      <td>5</td>\n      <td>1</td>\n      <td>1</td>\n      <td>4</td>\n      <td>9</td>\n      <td>1</td>\n      <td>3</td>\n      <td>3</td>\n      <td>2</td>\n      <td>2</td>\n      <td>2</td>\n    </tr>\n    <tr>\n      <th>20</th>\n      <td>instagram</td>\n      <td>2</td>\n      <td>4</td>\n      <td>3</td>\n      <td>2</td>\n      <td>3</td>\n      <td>4</td>\n      <td>1</td>\n      <td>1</td>\n      <td>1</td>\n      <td>2</td>\n      <td>1</td>\n      <td>2</td>\n    </tr>\n    <tr>\n      <th>21</th>\n      <td>piano lover learn bake</td>\n      <td>3</td>\n      <td>8</td>\n      <td>1</td>\n      <td>2</td>\n      <td>2</td>\n      <td>4</td>\n      <td>1</td>\n      <td>3</td>\n      <td>9</td>\n      <td>1</td>\n      <td>2</td>\n      <td>2</td>\n    </tr>\n    <tr>\n      <th>22</th>\n      <td>problemsolv look friend</td>\n      <td>3</td>\n      <td>5</td>\n      <td>2</td>\n      <td>1</td>\n      <td>5</td>\n      <td>7</td>\n      <td>2</td>\n      <td>3</td>\n      <td>5</td>\n      <td>3</td>\n      <td>1</td>\n      <td>2</td>\n    </tr>\n    <tr>\n      <th>23</th>\n      <td>web geek let game togeth woohoo</td>\n      <td>2</td>\n      <td>1</td>\n      <td>2</td>\n      <td>1</td>\n      <td>1</td>\n      <td>4</td>\n      <td>2</td>\n      <td>1</td>\n      <td>8</td>\n      <td>3</td>\n      <td>2</td>\n      <td>4</td>\n    </tr>\n    <tr>\n      <th>24</th>\n      <td>look roommat footbal</td>\n      <td>4</td>\n      <td>5</td>\n      <td>1</td>\n      <td>2</td>\n      <td>1</td>\n      <td>4</td>\n      <td>2</td>\n      <td>1</td>\n      <td>2</td>\n      <td>3</td>\n      <td>1</td>\n      <td>2</td>\n    </tr>\n    <tr>\n      <th>25</th>\n      <td>plant love garden</td>\n      <td>4</td>\n      <td>3</td>\n      <td>2</td>\n      <td>2</td>\n      <td>10</td>\n      <td>10</td>\n      <td>1</td>\n      <td>2</td>\n      <td>6</td>\n      <td>1</td>\n      <td>1</td>\n      <td>0</td>\n    </tr>\n    <tr>\n      <th>26</th>\n      <td>twitter account</td>\n      <td>2</td>\n      <td>3</td>\n      <td>3</td>\n      <td>2</td>\n      <td>8</td>\n      <td>1</td>\n      <td>2</td>\n      <td>2</td>\n      <td>5</td>\n      <td>3</td>\n      <td>1</td>\n      <td>2</td>\n    </tr>\n    <tr>\n      <th>27</th>\n      <td>love dog</td>\n      <td>1</td>\n      <td>4</td>\n      <td>1</td>\n      <td>2</td>\n      <td>6</td>\n      <td>9</td>\n      <td>1</td>\n      <td>2</td>\n      <td>4</td>\n      <td>3</td>\n      <td>1</td>\n      <td>0</td>\n    </tr>\n    <tr>\n      <th>28</th>\n      <td>introvert gamer</td>\n      <td>3</td>\n      <td>3</td>\n      <td>2</td>\n      <td>2</td>\n      <td>7</td>\n      <td>4</td>\n      <td>2</td>\n      <td>1</td>\n      <td>3</td>\n      <td>3</td>\n      <td>1</td>\n      <td>3</td>\n    </tr>\n    <tr>\n      <th>29</th>\n      <td>busi major</td>\n      <td>2</td>\n      <td>5</td>\n      <td>3</td>\n      <td>2</td>\n      <td>4</td>\n      <td>10</td>\n      <td>1</td>\n      <td>2</td>\n      <td>9</td>\n      <td>3</td>\n      <td>1</td>\n      <td>1</td>\n    </tr>\n    <tr>\n      <th>30</th>\n      <td>live gym basketbal playerfooood</td>\n      <td>3</td>\n      <td>2</td>\n      <td>2</td>\n      <td>1</td>\n      <td>6</td>\n      <td>9</td>\n      <td>1</td>\n      <td>3</td>\n      <td>4</td>\n      <td>2</td>\n      <td>2</td>\n      <td>2</td>\n    </tr>\n  </tbody>\n</table>\n</div>"
     },
     "metadata": {},
     "execution_count": 22
    }
   ],
   "source": [
    "yhat = clust1Bios.predict(features)\n",
    "df['BioClusters'] = clust1Bios.labels_\n",
    "df"
   ]
  },
  {
   "cell_type": "code",
   "execution_count": 23,
   "metadata": {},
   "outputs": [
    {
     "output_type": "execute_result",
     "data": {
      "text/plain": [
       "                      Bios  Year  Major_Dept  Ambition  Goals  Music  Sports  \\\n",
       "0      beer geek love bake     4           8         1      2     10      10   \n",
       "4      coffe hungri singer     3           2         1      1      7       1   \n",
       "8         creator photshop     2           2         1      2     10       8   \n",
       "12  tv love disney cartoon     4           8         3      2      8       9   \n",
       "14  travel musician artist     3           4         1      1      7      10   \n",
       "\n",
       "    Friday_Nights  School_balance  Movie_Genres  Social_Style  Transfer  \\\n",
       "0               1               2             8             2         2   \n",
       "4               2               1             8             2         1   \n",
       "8               1               1             6             2         2   \n",
       "12              2               1             5             2         2   \n",
       "14              2               3             1             3         2   \n",
       "\n",
       "    BioClusters  \n",
       "0             0  \n",
       "4             0  \n",
       "8             0  \n",
       "12            0  \n",
       "14            0  "
      ],
      "text/html": "<div>\n<style scoped>\n    .dataframe tbody tr th:only-of-type {\n        vertical-align: middle;\n    }\n\n    .dataframe tbody tr th {\n        vertical-align: top;\n    }\n\n    .dataframe thead th {\n        text-align: right;\n    }\n</style>\n<table border=\"1\" class=\"dataframe\">\n  <thead>\n    <tr style=\"text-align: right;\">\n      <th></th>\n      <th>Bios</th>\n      <th>Year</th>\n      <th>Major_Dept</th>\n      <th>Ambition</th>\n      <th>Goals</th>\n      <th>Music</th>\n      <th>Sports</th>\n      <th>Friday_Nights</th>\n      <th>School_balance</th>\n      <th>Movie_Genres</th>\n      <th>Social_Style</th>\n      <th>Transfer</th>\n      <th>BioClusters</th>\n    </tr>\n  </thead>\n  <tbody>\n    <tr>\n      <th>0</th>\n      <td>beer geek love bake</td>\n      <td>4</td>\n      <td>8</td>\n      <td>1</td>\n      <td>2</td>\n      <td>10</td>\n      <td>10</td>\n      <td>1</td>\n      <td>2</td>\n      <td>8</td>\n      <td>2</td>\n      <td>2</td>\n      <td>0</td>\n    </tr>\n    <tr>\n      <th>4</th>\n      <td>coffe hungri singer</td>\n      <td>3</td>\n      <td>2</td>\n      <td>1</td>\n      <td>1</td>\n      <td>7</td>\n      <td>1</td>\n      <td>2</td>\n      <td>1</td>\n      <td>8</td>\n      <td>2</td>\n      <td>1</td>\n      <td>0</td>\n    </tr>\n    <tr>\n      <th>8</th>\n      <td>creator photshop</td>\n      <td>2</td>\n      <td>2</td>\n      <td>1</td>\n      <td>2</td>\n      <td>10</td>\n      <td>8</td>\n      <td>1</td>\n      <td>1</td>\n      <td>6</td>\n      <td>2</td>\n      <td>2</td>\n      <td>0</td>\n    </tr>\n    <tr>\n      <th>12</th>\n      <td>tv love disney cartoon</td>\n      <td>4</td>\n      <td>8</td>\n      <td>3</td>\n      <td>2</td>\n      <td>8</td>\n      <td>9</td>\n      <td>2</td>\n      <td>1</td>\n      <td>5</td>\n      <td>2</td>\n      <td>2</td>\n      <td>0</td>\n    </tr>\n    <tr>\n      <th>14</th>\n      <td>travel musician artist</td>\n      <td>3</td>\n      <td>4</td>\n      <td>1</td>\n      <td>1</td>\n      <td>7</td>\n      <td>10</td>\n      <td>2</td>\n      <td>3</td>\n      <td>1</td>\n      <td>3</td>\n      <td>2</td>\n      <td>0</td>\n    </tr>\n  </tbody>\n</table>\n</div>"
     },
     "metadata": {},
     "execution_count": 23
    }
   ],
   "source": [
    "Clust1Bios=df[df['BioClusters']==0]\n",
    "Clust1Bios.head()"
   ]
  },
  {
   "cell_type": "code",
   "execution_count": 24,
   "metadata": {},
   "outputs": [],
   "source": [
    "Clust1wBios=df[df['BioClusters']==0]\n",
    "Clust1wBios.to_csv('BioClusters/0.csv')\n",
    "Clust1wBios=df[df['BioClusters']==1]\n",
    "Clust1wBios.to_csv('BioClusters/1.csv')\n",
    "Clust1wBios=df[df['BioClusters']==2]\n",
    "Clust1wBios.to_csv('BioClusters/2.csv')\n",
    "Clust1wBios=df[df['BioClusters']==3]\n",
    "Clust1wBios.to_csv('BioClusters/3.csv')\n",
    "Clust1wBios=df[df['BioClusters']==4]\n",
    "Clust1wBios.to_csv('BioClusters/4.csv')"
   ]
  },
  {
   "cell_type": "code",
   "execution_count": null,
   "metadata": {},
   "outputs": [],
   "source": []
  }
 ]
}