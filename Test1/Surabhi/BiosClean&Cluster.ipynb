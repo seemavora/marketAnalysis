{
 "metadata": {
  "language_info": {
   "codemirror_mode": {
    "name": "ipython",
    "version": 3
   },
   "file_extension": ".py",
   "mimetype": "text/x-python",
   "name": "python",
   "nbconvert_exporter": "python",
   "pygments_lexer": "ipython3",
   "version": "3.8.5"
  },
  "orig_nbformat": 2,
  "kernelspec": {
   "name": "python3",
   "display_name": "Python 3",
   "language": "python"
  }
 },
 "nbformat": 4,
 "nbformat_minor": 2,
 "cells": [
  {
   "cell_type": "code",
   "execution_count": 23,
   "metadata": {},
   "outputs": [],
   "source": [
    "#https://towardsdatascience.com/k-means-clustering-chardonnay-reviews-using-scikit-learn-nltk-9df3c59527f3\n",
    "import pandas as pd\n",
    "import numpy as np\n",
    "import matplotlib.pyplot as plt\n",
    "import seaborn as sns\n",
    "import re\n",
    "import string\n",
    "from nltk.tokenize import RegexpTokenizer\n",
    "from nltk.stem.porter import PorterStemmer"
   ]
  },
  {
   "cell_type": "code",
   "execution_count": 24,
   "metadata": {},
   "outputs": [],
   "source": [
    "from sklearn import preprocessing, decomposition, model_selection, metrics, pipeline\n",
    "from sklearn.feature_extraction.text import TfidfVectorizer, CountVectorizer\n",
    "from sklearn.cluster import KMeans\n",
    "import nltk\n",
    "from nltk.stem.wordnet import WordNetLemmatizer\n",
    "from nltk.corpus import stopwords"
   ]
  },
  {
   "cell_type": "code",
   "execution_count": 25,
   "metadata": {},
   "outputs": [
    {
     "output_type": "execute_result",
     "data": {
      "text/plain": [
       "                                                 Bios  Year  Major_Dept  \\\n",
       "0                              Cooking, foodie, baker     2           6   \n",
       "1                            coffee, hungry, singer 😀     3           2   \n",
       "2               social-media, twitter, facebook, vape     2           1   \n",
       "3                              introvert, gamer, nerd     1           7   \n",
       "4                      Computer-science major, soccer     1           2   \n",
       "5                      travelling, musician artist,😀      3           4   \n",
       "6                          mathematics, geek, compsci     4           2   \n",
       "7   Love to meet new people! I like to sing, check...     1           8   \n",
       "8                                      hello there :)     3           6   \n",
       "9             Travelling freak, biking is life, bball     4           5   \n",
       "10             Problem solver and looking for friends     3           5   \n",
       "11                    internet geek! Lets game woohoo     2           1   \n",
       "12  I live at the gym. basketball player. Bacon-lo...     3           2   \n",
       "\n",
       "    Ambition  Goals  Music  Sports  Friday_Nights  School_balance  \\\n",
       "0          3      1      5      10              1               2   \n",
       "1          1      1      7       1              2               1   \n",
       "2          2      1      7       6              1               1   \n",
       "3          2      1     10       7              2               2   \n",
       "4          2      1      5       9              1               1   \n",
       "5          1      1      7      10              2               3   \n",
       "6          1      1      5       5              1               1   \n",
       "7          3      1      3       2              2               1   \n",
       "8          3      1      2       2              1               3   \n",
       "9          1      1      4       9              1               3   \n",
       "10         2      1      5       7              2               3   \n",
       "11         2      1      1       4              2               1   \n",
       "12         2      1      6       9              1               3   \n",
       "\n",
       "    Movie_Genres  Social_Style  Transfer  cluster #  \n",
       "0              5             2         2          0  \n",
       "1              8             2         1          0  \n",
       "2              9             1         1          0  \n",
       "3              8             1         1          0  \n",
       "4              4             3         2          0  \n",
       "5              1             3         2          0  \n",
       "6             10             3         1          0  \n",
       "7              5             3         2          0  \n",
       "8             10             2         1          0  \n",
       "9              3             2         2          0  \n",
       "10             5             3         1          0  \n",
       "11             8             3         2          0  \n",
       "12             4             2         2          0  "
      ],
      "text/html": "<div>\n<style scoped>\n    .dataframe tbody tr th:only-of-type {\n        vertical-align: middle;\n    }\n\n    .dataframe tbody tr th {\n        vertical-align: top;\n    }\n\n    .dataframe thead th {\n        text-align: right;\n    }\n</style>\n<table border=\"1\" class=\"dataframe\">\n  <thead>\n    <tr style=\"text-align: right;\">\n      <th></th>\n      <th>Bios</th>\n      <th>Year</th>\n      <th>Major_Dept</th>\n      <th>Ambition</th>\n      <th>Goals</th>\n      <th>Music</th>\n      <th>Sports</th>\n      <th>Friday_Nights</th>\n      <th>School_balance</th>\n      <th>Movie_Genres</th>\n      <th>Social_Style</th>\n      <th>Transfer</th>\n      <th>cluster #</th>\n    </tr>\n  </thead>\n  <tbody>\n    <tr>\n      <th>0</th>\n      <td>Cooking, foodie, baker</td>\n      <td>2</td>\n      <td>6</td>\n      <td>3</td>\n      <td>1</td>\n      <td>5</td>\n      <td>10</td>\n      <td>1</td>\n      <td>2</td>\n      <td>5</td>\n      <td>2</td>\n      <td>2</td>\n      <td>0</td>\n    </tr>\n    <tr>\n      <th>1</th>\n      <td>coffee, hungry, singer 😀</td>\n      <td>3</td>\n      <td>2</td>\n      <td>1</td>\n      <td>1</td>\n      <td>7</td>\n      <td>1</td>\n      <td>2</td>\n      <td>1</td>\n      <td>8</td>\n      <td>2</td>\n      <td>1</td>\n      <td>0</td>\n    </tr>\n    <tr>\n      <th>2</th>\n      <td>social-media, twitter, facebook, vape</td>\n      <td>2</td>\n      <td>1</td>\n      <td>2</td>\n      <td>1</td>\n      <td>7</td>\n      <td>6</td>\n      <td>1</td>\n      <td>1</td>\n      <td>9</td>\n      <td>1</td>\n      <td>1</td>\n      <td>0</td>\n    </tr>\n    <tr>\n      <th>3</th>\n      <td>introvert, gamer, nerd</td>\n      <td>1</td>\n      <td>7</td>\n      <td>2</td>\n      <td>1</td>\n      <td>10</td>\n      <td>7</td>\n      <td>2</td>\n      <td>2</td>\n      <td>8</td>\n      <td>1</td>\n      <td>1</td>\n      <td>0</td>\n    </tr>\n    <tr>\n      <th>4</th>\n      <td>Computer-science major, soccer</td>\n      <td>1</td>\n      <td>2</td>\n      <td>2</td>\n      <td>1</td>\n      <td>5</td>\n      <td>9</td>\n      <td>1</td>\n      <td>1</td>\n      <td>4</td>\n      <td>3</td>\n      <td>2</td>\n      <td>0</td>\n    </tr>\n    <tr>\n      <th>5</th>\n      <td>travelling, musician artist,😀</td>\n      <td>3</td>\n      <td>4</td>\n      <td>1</td>\n      <td>1</td>\n      <td>7</td>\n      <td>10</td>\n      <td>2</td>\n      <td>3</td>\n      <td>1</td>\n      <td>3</td>\n      <td>2</td>\n      <td>0</td>\n    </tr>\n    <tr>\n      <th>6</th>\n      <td>mathematics, geek, compsci</td>\n      <td>4</td>\n      <td>2</td>\n      <td>1</td>\n      <td>1</td>\n      <td>5</td>\n      <td>5</td>\n      <td>1</td>\n      <td>1</td>\n      <td>10</td>\n      <td>3</td>\n      <td>1</td>\n      <td>0</td>\n    </tr>\n    <tr>\n      <th>7</th>\n      <td>Love to meet new people! I like to sing, check...</td>\n      <td>1</td>\n      <td>8</td>\n      <td>3</td>\n      <td>1</td>\n      <td>3</td>\n      <td>2</td>\n      <td>2</td>\n      <td>1</td>\n      <td>5</td>\n      <td>3</td>\n      <td>2</td>\n      <td>0</td>\n    </tr>\n    <tr>\n      <th>8</th>\n      <td>hello there :)</td>\n      <td>3</td>\n      <td>6</td>\n      <td>3</td>\n      <td>1</td>\n      <td>2</td>\n      <td>2</td>\n      <td>1</td>\n      <td>3</td>\n      <td>10</td>\n      <td>2</td>\n      <td>1</td>\n      <td>0</td>\n    </tr>\n    <tr>\n      <th>9</th>\n      <td>Travelling freak, biking is life, bball</td>\n      <td>4</td>\n      <td>5</td>\n      <td>1</td>\n      <td>1</td>\n      <td>4</td>\n      <td>9</td>\n      <td>1</td>\n      <td>3</td>\n      <td>3</td>\n      <td>2</td>\n      <td>2</td>\n      <td>0</td>\n    </tr>\n    <tr>\n      <th>10</th>\n      <td>Problem solver and looking for friends</td>\n      <td>3</td>\n      <td>5</td>\n      <td>2</td>\n      <td>1</td>\n      <td>5</td>\n      <td>7</td>\n      <td>2</td>\n      <td>3</td>\n      <td>5</td>\n      <td>3</td>\n      <td>1</td>\n      <td>0</td>\n    </tr>\n    <tr>\n      <th>11</th>\n      <td>internet geek! Lets game woohoo</td>\n      <td>2</td>\n      <td>1</td>\n      <td>2</td>\n      <td>1</td>\n      <td>1</td>\n      <td>4</td>\n      <td>2</td>\n      <td>1</td>\n      <td>8</td>\n      <td>3</td>\n      <td>2</td>\n      <td>0</td>\n    </tr>\n    <tr>\n      <th>12</th>\n      <td>I live at the gym. basketball player. Bacon-lo...</td>\n      <td>3</td>\n      <td>2</td>\n      <td>2</td>\n      <td>1</td>\n      <td>6</td>\n      <td>9</td>\n      <td>1</td>\n      <td>3</td>\n      <td>4</td>\n      <td>2</td>\n      <td>2</td>\n      <td>0</td>\n    </tr>\n  </tbody>\n</table>\n</div>"
     },
     "metadata": {},
     "execution_count": 25
    }
   ],
   "source": [
    "df = pd.read_csv('./woohoo1/0.csv')\n",
    "df = df.loc[:, ~df.columns.str.contains('^Unnamed')]\n",
    "\n",
    "df"
   ]
  },
  {
   "cell_type": "code",
   "execution_count": 26,
   "metadata": {},
   "outputs": [],
   "source": [
    "# #create a list of stop words\n",
    "# stop_words = set(stopwords.words(\"english\"))\n",
    "# #show how many words are in the list of stop words\n",
    "# # print(len(stop_words))\n",
    "# #179\n",
    "# #construct a new list to store the cleaned text\n",
    "# clean_desc = []\n",
    "\n",
    "# def clean_text(text):\n",
    "#     text = text.lower()\n",
    "#     print(text)\n",
    "#     string=''\n",
    "\n",
    "#     text=re.sub(r\"[-()\\\"#!@$%^&*{}?.,:]\",\" \", str(text))\n",
    "#     text=re.sub(r\"\\s+\",\" \", str(text))\n",
    "#     text=re.sub('[A-Aa-z0-9]+', ' ', str(text))\n",
    "\n",
    "#     for word in text.split():\n",
    "#         if word not in stop_words:\n",
    "#             string += WordNetLemmatizer().lemmatize(word)+ ' '\n",
    "#         return string"
   ]
  },
  {
   "cell_type": "code",
   "execution_count": 27,
   "metadata": {},
   "outputs": [],
   "source": [
    "# df['Bios']=df['Bios'].apply(clean_text)"
   ]
  },
  {
   "cell_type": "code",
   "execution_count": 28,
   "metadata": {},
   "outputs": [
    {
     "output_type": "execute_result",
     "data": {
      "text/plain": [
       "                                Bios  Year  Major_Dept  Ambition  Goals  \\\n",
       "0               Cooking foodie baker     2           6         3      1   \n",
       "1             coffee hungry singer 😀     3           2         1      1   \n",
       "2  socialmedia twitter facebook vape     2           1         2      1   \n",
       "3               introvert gamer nerd     1           7         2      1   \n",
       "4       Computerscience major soccer     1           2         2      1   \n",
       "\n",
       "   Music  Sports  Friday_Nights  School_balance  Movie_Genres  Social_Style  \\\n",
       "0      5      10              1               2             5             2   \n",
       "1      7       1              2               1             8             2   \n",
       "2      7       6              1               1             9             1   \n",
       "3     10       7              2               2             8             1   \n",
       "4      5       9              1               1             4             3   \n",
       "\n",
       "   Transfer  cluster #  \n",
       "0         2          0  \n",
       "1         1          0  \n",
       "2         1          0  \n",
       "3         1          0  \n",
       "4         2          0  "
      ],
      "text/html": "<div>\n<style scoped>\n    .dataframe tbody tr th:only-of-type {\n        vertical-align: middle;\n    }\n\n    .dataframe tbody tr th {\n        vertical-align: top;\n    }\n\n    .dataframe thead th {\n        text-align: right;\n    }\n</style>\n<table border=\"1\" class=\"dataframe\">\n  <thead>\n    <tr style=\"text-align: right;\">\n      <th></th>\n      <th>Bios</th>\n      <th>Year</th>\n      <th>Major_Dept</th>\n      <th>Ambition</th>\n      <th>Goals</th>\n      <th>Music</th>\n      <th>Sports</th>\n      <th>Friday_Nights</th>\n      <th>School_balance</th>\n      <th>Movie_Genres</th>\n      <th>Social_Style</th>\n      <th>Transfer</th>\n      <th>cluster #</th>\n    </tr>\n  </thead>\n  <tbody>\n    <tr>\n      <th>0</th>\n      <td>Cooking foodie baker</td>\n      <td>2</td>\n      <td>6</td>\n      <td>3</td>\n      <td>1</td>\n      <td>5</td>\n      <td>10</td>\n      <td>1</td>\n      <td>2</td>\n      <td>5</td>\n      <td>2</td>\n      <td>2</td>\n      <td>0</td>\n    </tr>\n    <tr>\n      <th>1</th>\n      <td>coffee hungry singer 😀</td>\n      <td>3</td>\n      <td>2</td>\n      <td>1</td>\n      <td>1</td>\n      <td>7</td>\n      <td>1</td>\n      <td>2</td>\n      <td>1</td>\n      <td>8</td>\n      <td>2</td>\n      <td>1</td>\n      <td>0</td>\n    </tr>\n    <tr>\n      <th>2</th>\n      <td>socialmedia twitter facebook vape</td>\n      <td>2</td>\n      <td>1</td>\n      <td>2</td>\n      <td>1</td>\n      <td>7</td>\n      <td>6</td>\n      <td>1</td>\n      <td>1</td>\n      <td>9</td>\n      <td>1</td>\n      <td>1</td>\n      <td>0</td>\n    </tr>\n    <tr>\n      <th>3</th>\n      <td>introvert gamer nerd</td>\n      <td>1</td>\n      <td>7</td>\n      <td>2</td>\n      <td>1</td>\n      <td>10</td>\n      <td>7</td>\n      <td>2</td>\n      <td>2</td>\n      <td>8</td>\n      <td>1</td>\n      <td>1</td>\n      <td>0</td>\n    </tr>\n    <tr>\n      <th>4</th>\n      <td>Computerscience major soccer</td>\n      <td>1</td>\n      <td>2</td>\n      <td>2</td>\n      <td>1</td>\n      <td>5</td>\n      <td>9</td>\n      <td>1</td>\n      <td>1</td>\n      <td>4</td>\n      <td>3</td>\n      <td>2</td>\n      <td>0</td>\n    </tr>\n  </tbody>\n</table>\n</div>"
     },
     "metadata": {},
     "execution_count": 28
    }
   ],
   "source": [
    "def remove_punct(text):\n",
    "    no_punct = \"\".join([c for c in text if c not in string.punctuation])\n",
    "    return no_punct\n",
    "df['Bios'] = df['Bios'].apply(lambda x: remove_punct(x))\n",
    "df.head()"
   ]
  },
  {
   "cell_type": "code",
   "execution_count": 29,
   "metadata": {},
   "outputs": [
    {
     "output_type": "execute_result",
     "data": {
      "text/plain": [
       "                                     Bios  Year  Major_Dept  Ambition  Goals  \\\n",
       "0                [cooking, foodie, baker]     2           6         3      1   \n",
       "1                [coffee, hungry, singer]     3           2         1      1   \n",
       "2  [socialmedia, twitter, facebook, vape]     2           1         2      1   \n",
       "3                [introvert, gamer, nerd]     1           7         2      1   \n",
       "4        [computerscience, major, soccer]     1           2         2      1   \n",
       "\n",
       "   Music  Sports  Friday_Nights  School_balance  Movie_Genres  Social_Style  \\\n",
       "0      5      10              1               2             5             2   \n",
       "1      7       1              2               1             8             2   \n",
       "2      7       6              1               1             9             1   \n",
       "3     10       7              2               2             8             1   \n",
       "4      5       9              1               1             4             3   \n",
       "\n",
       "   Transfer  cluster #  \n",
       "0         2          0  \n",
       "1         1          0  \n",
       "2         1          0  \n",
       "3         1          0  \n",
       "4         2          0  "
      ],
      "text/html": "<div>\n<style scoped>\n    .dataframe tbody tr th:only-of-type {\n        vertical-align: middle;\n    }\n\n    .dataframe tbody tr th {\n        vertical-align: top;\n    }\n\n    .dataframe thead th {\n        text-align: right;\n    }\n</style>\n<table border=\"1\" class=\"dataframe\">\n  <thead>\n    <tr style=\"text-align: right;\">\n      <th></th>\n      <th>Bios</th>\n      <th>Year</th>\n      <th>Major_Dept</th>\n      <th>Ambition</th>\n      <th>Goals</th>\n      <th>Music</th>\n      <th>Sports</th>\n      <th>Friday_Nights</th>\n      <th>School_balance</th>\n      <th>Movie_Genres</th>\n      <th>Social_Style</th>\n      <th>Transfer</th>\n      <th>cluster #</th>\n    </tr>\n  </thead>\n  <tbody>\n    <tr>\n      <th>0</th>\n      <td>[cooking, foodie, baker]</td>\n      <td>2</td>\n      <td>6</td>\n      <td>3</td>\n      <td>1</td>\n      <td>5</td>\n      <td>10</td>\n      <td>1</td>\n      <td>2</td>\n      <td>5</td>\n      <td>2</td>\n      <td>2</td>\n      <td>0</td>\n    </tr>\n    <tr>\n      <th>1</th>\n      <td>[coffee, hungry, singer]</td>\n      <td>3</td>\n      <td>2</td>\n      <td>1</td>\n      <td>1</td>\n      <td>7</td>\n      <td>1</td>\n      <td>2</td>\n      <td>1</td>\n      <td>8</td>\n      <td>2</td>\n      <td>1</td>\n      <td>0</td>\n    </tr>\n    <tr>\n      <th>2</th>\n      <td>[socialmedia, twitter, facebook, vape]</td>\n      <td>2</td>\n      <td>1</td>\n      <td>2</td>\n      <td>1</td>\n      <td>7</td>\n      <td>6</td>\n      <td>1</td>\n      <td>1</td>\n      <td>9</td>\n      <td>1</td>\n      <td>1</td>\n      <td>0</td>\n    </tr>\n    <tr>\n      <th>3</th>\n      <td>[introvert, gamer, nerd]</td>\n      <td>1</td>\n      <td>7</td>\n      <td>2</td>\n      <td>1</td>\n      <td>10</td>\n      <td>7</td>\n      <td>2</td>\n      <td>2</td>\n      <td>8</td>\n      <td>1</td>\n      <td>1</td>\n      <td>0</td>\n    </tr>\n    <tr>\n      <th>4</th>\n      <td>[computerscience, major, soccer]</td>\n      <td>1</td>\n      <td>2</td>\n      <td>2</td>\n      <td>1</td>\n      <td>5</td>\n      <td>9</td>\n      <td>1</td>\n      <td>1</td>\n      <td>4</td>\n      <td>3</td>\n      <td>2</td>\n      <td>0</td>\n    </tr>\n  </tbody>\n</table>\n</div>"
     },
     "metadata": {},
     "execution_count": 29
    }
   ],
   "source": [
    "tokenizer = RegexpTokenizer(r'\\w+')\n",
    "df['Bios'] = df['Bios'].apply(lambda x: tokenizer.tokenize(x.lower()))\n",
    "df.head()"
   ]
  },
  {
   "cell_type": "code",
   "execution_count": 30,
   "metadata": {},
   "outputs": [],
   "source": [
    "def remove_stopwords(text):\n",
    "    words = [w for w in text if w not in stopwords.words('english')]\n",
    "    return words"
   ]
  },
  {
   "cell_type": "code",
   "execution_count": 31,
   "metadata": {},
   "outputs": [
    {
     "output_type": "execute_result",
     "data": {
      "text/plain": [
       "                                     Bios  Year  Major_Dept  Ambition  Goals  \\\n",
       "0                [cooking, foodie, baker]     2           6         3      1   \n",
       "1                [coffee, hungry, singer]     3           2         1      1   \n",
       "2  [socialmedia, twitter, facebook, vape]     2           1         2      1   \n",
       "3                [introvert, gamer, nerd]     1           7         2      1   \n",
       "4        [computerscience, major, soccer]     1           2         2      1   \n",
       "\n",
       "   Music  Sports  Friday_Nights  School_balance  Movie_Genres  Social_Style  \\\n",
       "0      5      10              1               2             5             2   \n",
       "1      7       1              2               1             8             2   \n",
       "2      7       6              1               1             9             1   \n",
       "3     10       7              2               2             8             1   \n",
       "4      5       9              1               1             4             3   \n",
       "\n",
       "   Transfer  cluster #  \n",
       "0         2          0  \n",
       "1         1          0  \n",
       "2         1          0  \n",
       "3         1          0  \n",
       "4         2          0  "
      ],
      "text/html": "<div>\n<style scoped>\n    .dataframe tbody tr th:only-of-type {\n        vertical-align: middle;\n    }\n\n    .dataframe tbody tr th {\n        vertical-align: top;\n    }\n\n    .dataframe thead th {\n        text-align: right;\n    }\n</style>\n<table border=\"1\" class=\"dataframe\">\n  <thead>\n    <tr style=\"text-align: right;\">\n      <th></th>\n      <th>Bios</th>\n      <th>Year</th>\n      <th>Major_Dept</th>\n      <th>Ambition</th>\n      <th>Goals</th>\n      <th>Music</th>\n      <th>Sports</th>\n      <th>Friday_Nights</th>\n      <th>School_balance</th>\n      <th>Movie_Genres</th>\n      <th>Social_Style</th>\n      <th>Transfer</th>\n      <th>cluster #</th>\n    </tr>\n  </thead>\n  <tbody>\n    <tr>\n      <th>0</th>\n      <td>[cooking, foodie, baker]</td>\n      <td>2</td>\n      <td>6</td>\n      <td>3</td>\n      <td>1</td>\n      <td>5</td>\n      <td>10</td>\n      <td>1</td>\n      <td>2</td>\n      <td>5</td>\n      <td>2</td>\n      <td>2</td>\n      <td>0</td>\n    </tr>\n    <tr>\n      <th>1</th>\n      <td>[coffee, hungry, singer]</td>\n      <td>3</td>\n      <td>2</td>\n      <td>1</td>\n      <td>1</td>\n      <td>7</td>\n      <td>1</td>\n      <td>2</td>\n      <td>1</td>\n      <td>8</td>\n      <td>2</td>\n      <td>1</td>\n      <td>0</td>\n    </tr>\n    <tr>\n      <th>2</th>\n      <td>[socialmedia, twitter, facebook, vape]</td>\n      <td>2</td>\n      <td>1</td>\n      <td>2</td>\n      <td>1</td>\n      <td>7</td>\n      <td>6</td>\n      <td>1</td>\n      <td>1</td>\n      <td>9</td>\n      <td>1</td>\n      <td>1</td>\n      <td>0</td>\n    </tr>\n    <tr>\n      <th>3</th>\n      <td>[introvert, gamer, nerd]</td>\n      <td>1</td>\n      <td>7</td>\n      <td>2</td>\n      <td>1</td>\n      <td>10</td>\n      <td>7</td>\n      <td>2</td>\n      <td>2</td>\n      <td>8</td>\n      <td>1</td>\n      <td>1</td>\n      <td>0</td>\n    </tr>\n    <tr>\n      <th>4</th>\n      <td>[computerscience, major, soccer]</td>\n      <td>1</td>\n      <td>2</td>\n      <td>2</td>\n      <td>1</td>\n      <td>5</td>\n      <td>9</td>\n      <td>1</td>\n      <td>1</td>\n      <td>4</td>\n      <td>3</td>\n      <td>2</td>\n      <td>0</td>\n    </tr>\n  </tbody>\n</table>\n</div>"
     },
     "metadata": {},
     "execution_count": 31
    }
   ],
   "source": [
    "df['Bios'] = df['Bios'].apply(lambda x: remove_stopwords(x))\n",
    "df.head()"
   ]
  },
  {
   "cell_type": "code",
   "execution_count": 32,
   "metadata": {},
   "outputs": [],
   "source": [
    "lemmatizer = WordNetLemmatizer()\n",
    "\n",
    "def word_lemmatizer(text):\n",
    "    lem_text = [lemmatizer.lemmatize(i) for i in text]\n",
    "    return lem_text"
   ]
  },
  {
   "cell_type": "code",
   "execution_count": 33,
   "metadata": {},
   "outputs": [
    {
     "output_type": "execute_result",
     "data": {
      "text/plain": [
       "                                     Bios  Year  Major_Dept  Ambition  Goals  \\\n",
       "0                [cooking, foodie, baker]     2           6         3      1   \n",
       "1                [coffee, hungry, singer]     3           2         1      1   \n",
       "2  [socialmedia, twitter, facebook, vape]     2           1         2      1   \n",
       "3                [introvert, gamer, nerd]     1           7         2      1   \n",
       "4        [computerscience, major, soccer]     1           2         2      1   \n",
       "\n",
       "   Music  Sports  Friday_Nights  School_balance  Movie_Genres  Social_Style  \\\n",
       "0      5      10              1               2             5             2   \n",
       "1      7       1              2               1             8             2   \n",
       "2      7       6              1               1             9             1   \n",
       "3     10       7              2               2             8             1   \n",
       "4      5       9              1               1             4             3   \n",
       "\n",
       "   Transfer  cluster #  \n",
       "0         2          0  \n",
       "1         1          0  \n",
       "2         1          0  \n",
       "3         1          0  \n",
       "4         2          0  "
      ],
      "text/html": "<div>\n<style scoped>\n    .dataframe tbody tr th:only-of-type {\n        vertical-align: middle;\n    }\n\n    .dataframe tbody tr th {\n        vertical-align: top;\n    }\n\n    .dataframe thead th {\n        text-align: right;\n    }\n</style>\n<table border=\"1\" class=\"dataframe\">\n  <thead>\n    <tr style=\"text-align: right;\">\n      <th></th>\n      <th>Bios</th>\n      <th>Year</th>\n      <th>Major_Dept</th>\n      <th>Ambition</th>\n      <th>Goals</th>\n      <th>Music</th>\n      <th>Sports</th>\n      <th>Friday_Nights</th>\n      <th>School_balance</th>\n      <th>Movie_Genres</th>\n      <th>Social_Style</th>\n      <th>Transfer</th>\n      <th>cluster #</th>\n    </tr>\n  </thead>\n  <tbody>\n    <tr>\n      <th>0</th>\n      <td>[cooking, foodie, baker]</td>\n      <td>2</td>\n      <td>6</td>\n      <td>3</td>\n      <td>1</td>\n      <td>5</td>\n      <td>10</td>\n      <td>1</td>\n      <td>2</td>\n      <td>5</td>\n      <td>2</td>\n      <td>2</td>\n      <td>0</td>\n    </tr>\n    <tr>\n      <th>1</th>\n      <td>[coffee, hungry, singer]</td>\n      <td>3</td>\n      <td>2</td>\n      <td>1</td>\n      <td>1</td>\n      <td>7</td>\n      <td>1</td>\n      <td>2</td>\n      <td>1</td>\n      <td>8</td>\n      <td>2</td>\n      <td>1</td>\n      <td>0</td>\n    </tr>\n    <tr>\n      <th>2</th>\n      <td>[socialmedia, twitter, facebook, vape]</td>\n      <td>2</td>\n      <td>1</td>\n      <td>2</td>\n      <td>1</td>\n      <td>7</td>\n      <td>6</td>\n      <td>1</td>\n      <td>1</td>\n      <td>9</td>\n      <td>1</td>\n      <td>1</td>\n      <td>0</td>\n    </tr>\n    <tr>\n      <th>3</th>\n      <td>[introvert, gamer, nerd]</td>\n      <td>1</td>\n      <td>7</td>\n      <td>2</td>\n      <td>1</td>\n      <td>10</td>\n      <td>7</td>\n      <td>2</td>\n      <td>2</td>\n      <td>8</td>\n      <td>1</td>\n      <td>1</td>\n      <td>0</td>\n    </tr>\n    <tr>\n      <th>4</th>\n      <td>[computerscience, major, soccer]</td>\n      <td>1</td>\n      <td>2</td>\n      <td>2</td>\n      <td>1</td>\n      <td>5</td>\n      <td>9</td>\n      <td>1</td>\n      <td>1</td>\n      <td>4</td>\n      <td>3</td>\n      <td>2</td>\n      <td>0</td>\n    </tr>\n  </tbody>\n</table>\n</div>"
     },
     "metadata": {},
     "execution_count": 33
    }
   ],
   "source": [
    "df['Bios'] = df['Bios'].apply(lambda x: word_lemmatizer(x))\n",
    "df.head()"
   ]
  },
  {
   "cell_type": "code",
   "execution_count": 34,
   "metadata": {},
   "outputs": [
    {
     "output_type": "execute_result",
     "data": {
      "text/plain": [
       "                                Bios  Year  Major_Dept  Ambition  Goals  \\\n",
       "0                   cook foodi baker     2           6         3      1   \n",
       "1                coffe hungri singer     3           2         1      1   \n",
       "2  socialmedia twitter facebook vape     2           1         2      1   \n",
       "3               introvert gamer nerd     1           7         2      1   \n",
       "4           computersci major soccer     1           2         2      1   \n",
       "\n",
       "   Music  Sports  Friday_Nights  School_balance  Movie_Genres  Social_Style  \\\n",
       "0      5      10              1               2             5             2   \n",
       "1      7       1              2               1             8             2   \n",
       "2      7       6              1               1             9             1   \n",
       "3     10       7              2               2             8             1   \n",
       "4      5       9              1               1             4             3   \n",
       "\n",
       "   Transfer  cluster #  \n",
       "0         2          0  \n",
       "1         1          0  \n",
       "2         1          0  \n",
       "3         1          0  \n",
       "4         2          0  "
      ],
      "text/html": "<div>\n<style scoped>\n    .dataframe tbody tr th:only-of-type {\n        vertical-align: middle;\n    }\n\n    .dataframe tbody tr th {\n        vertical-align: top;\n    }\n\n    .dataframe thead th {\n        text-align: right;\n    }\n</style>\n<table border=\"1\" class=\"dataframe\">\n  <thead>\n    <tr style=\"text-align: right;\">\n      <th></th>\n      <th>Bios</th>\n      <th>Year</th>\n      <th>Major_Dept</th>\n      <th>Ambition</th>\n      <th>Goals</th>\n      <th>Music</th>\n      <th>Sports</th>\n      <th>Friday_Nights</th>\n      <th>School_balance</th>\n      <th>Movie_Genres</th>\n      <th>Social_Style</th>\n      <th>Transfer</th>\n      <th>cluster #</th>\n    </tr>\n  </thead>\n  <tbody>\n    <tr>\n      <th>0</th>\n      <td>cook foodi baker</td>\n      <td>2</td>\n      <td>6</td>\n      <td>3</td>\n      <td>1</td>\n      <td>5</td>\n      <td>10</td>\n      <td>1</td>\n      <td>2</td>\n      <td>5</td>\n      <td>2</td>\n      <td>2</td>\n      <td>0</td>\n    </tr>\n    <tr>\n      <th>1</th>\n      <td>coffe hungri singer</td>\n      <td>3</td>\n      <td>2</td>\n      <td>1</td>\n      <td>1</td>\n      <td>7</td>\n      <td>1</td>\n      <td>2</td>\n      <td>1</td>\n      <td>8</td>\n      <td>2</td>\n      <td>1</td>\n      <td>0</td>\n    </tr>\n    <tr>\n      <th>2</th>\n      <td>socialmedia twitter facebook vape</td>\n      <td>2</td>\n      <td>1</td>\n      <td>2</td>\n      <td>1</td>\n      <td>7</td>\n      <td>6</td>\n      <td>1</td>\n      <td>1</td>\n      <td>9</td>\n      <td>1</td>\n      <td>1</td>\n      <td>0</td>\n    </tr>\n    <tr>\n      <th>3</th>\n      <td>introvert gamer nerd</td>\n      <td>1</td>\n      <td>7</td>\n      <td>2</td>\n      <td>1</td>\n      <td>10</td>\n      <td>7</td>\n      <td>2</td>\n      <td>2</td>\n      <td>8</td>\n      <td>1</td>\n      <td>1</td>\n      <td>0</td>\n    </tr>\n    <tr>\n      <th>4</th>\n      <td>computersci major soccer</td>\n      <td>1</td>\n      <td>2</td>\n      <td>2</td>\n      <td>1</td>\n      <td>5</td>\n      <td>9</td>\n      <td>1</td>\n      <td>1</td>\n      <td>4</td>\n      <td>3</td>\n      <td>2</td>\n      <td>0</td>\n    </tr>\n  </tbody>\n</table>\n</div>"
     },
     "metadata": {},
     "execution_count": 34
    }
   ],
   "source": [
    "stemmer = PorterStemmer()\n",
    "def word_stemmer(text):\n",
    "    stem_text = \" \".join([stemmer.stem(i) for i in text])\n",
    "    return stem_text\n",
    "\n",
    "df['Bios'] = df['Bios'].apply(lambda x: word_stemmer(x))\n",
    "df.head()"
   ]
  },
  {
   "cell_type": "code",
   "execution_count": 35,
   "metadata": {},
   "outputs": [],
   "source": [
    "# #create a list of stop words\n",
    "stop_words = set(stopwords.words(\"english\"))\n",
    "# #show how many words are in the list of stop words\n",
    "# print(len(stop_words))\n",
    "# #179\n",
    "# #construct a new list to store the cleaned text\n",
    "# clean_desc = []\n",
    "# for w in range(len(df.Bios)):\n",
    "#     desc = df['Bios'].str.lower\n",
    "\n",
    "#     #remove punctuation\n",
    "#     desc = re.sub('[^a-zA-Z]', ' ', str(desc))\n",
    "    \n",
    "#     #remove tags\n",
    "#     desc = re.sub(\"&lt;/?.*?&gt;\",\" &lt;&gt; \",desc)\n",
    "    \n",
    "#     #remove special characters and digits\n",
    "#     desc = re.sub(\"(\\\\d|\\\\W)+\",\" \",desc)\n",
    "\n",
    "#     split_text = desc.split()\n",
    "\n",
    "#     #Lemmatisation\n",
    "#     lem = WordNetLemmatizer()\n",
    "#     split_text = [lem.lemmatize(word) for word in split_text if not word in stop_words and len(word) >2] \n",
    "\n",
    "#     split_text = \" \".join(split_text)\n",
    "#     clean_desc.append(split_text)"
   ]
  },
  {
   "cell_type": "code",
   "execution_count": 36,
   "metadata": {},
   "outputs": [
    {
     "output_type": "execute_result",
     "data": {
      "text/plain": [
       "                                                 Bios  Year  Major_Dept  \\\n",
       "0                                    cook foodi baker     2           6   \n",
       "1                                 coffe hungri singer     3           2   \n",
       "2                   socialmedia twitter facebook vape     2           1   \n",
       "3                                introvert gamer nerd     1           7   \n",
       "4                            computersci major soccer     1           2   \n",
       "5                              travel musician artist     3           4   \n",
       "6                               mathemat geek compsci     4           2   \n",
       "7   love meet new peopl like sing checkout youtub ...     1           8   \n",
       "8                                               hello     3           6   \n",
       "9                        travel freak bike life bball     4           5   \n",
       "10                         problem solver look friend     3           5   \n",
       "11                      internet geek let game woohoo     2           1   \n",
       "12                 live gym basketbal player baconlov     3           2   \n",
       "\n",
       "    Ambition  Goals  Music  Sports  Friday_Nights  School_balance  \\\n",
       "0          3      1      5      10              1               2   \n",
       "1          1      1      7       1              2               1   \n",
       "2          2      1      7       6              1               1   \n",
       "3          2      1     10       7              2               2   \n",
       "4          2      1      5       9              1               1   \n",
       "5          1      1      7      10              2               3   \n",
       "6          1      1      5       5              1               1   \n",
       "7          3      1      3       2              2               1   \n",
       "8          3      1      2       2              1               3   \n",
       "9          1      1      4       9              1               3   \n",
       "10         2      1      5       7              2               3   \n",
       "11         2      1      1       4              2               1   \n",
       "12         2      1      6       9              1               3   \n",
       "\n",
       "    Movie_Genres  Social_Style  Transfer  cluster #  \n",
       "0              5             2         2          0  \n",
       "1              8             2         1          0  \n",
       "2              9             1         1          0  \n",
       "3              8             1         1          0  \n",
       "4              4             3         2          0  \n",
       "5              1             3         2          0  \n",
       "6             10             3         1          0  \n",
       "7              5             3         2          0  \n",
       "8             10             2         1          0  \n",
       "9              3             2         2          0  \n",
       "10             5             3         1          0  \n",
       "11             8             3         2          0  \n",
       "12             4             2         2          0  "
      ],
      "text/html": "<div>\n<style scoped>\n    .dataframe tbody tr th:only-of-type {\n        vertical-align: middle;\n    }\n\n    .dataframe tbody tr th {\n        vertical-align: top;\n    }\n\n    .dataframe thead th {\n        text-align: right;\n    }\n</style>\n<table border=\"1\" class=\"dataframe\">\n  <thead>\n    <tr style=\"text-align: right;\">\n      <th></th>\n      <th>Bios</th>\n      <th>Year</th>\n      <th>Major_Dept</th>\n      <th>Ambition</th>\n      <th>Goals</th>\n      <th>Music</th>\n      <th>Sports</th>\n      <th>Friday_Nights</th>\n      <th>School_balance</th>\n      <th>Movie_Genres</th>\n      <th>Social_Style</th>\n      <th>Transfer</th>\n      <th>cluster #</th>\n    </tr>\n  </thead>\n  <tbody>\n    <tr>\n      <th>0</th>\n      <td>cook foodi baker</td>\n      <td>2</td>\n      <td>6</td>\n      <td>3</td>\n      <td>1</td>\n      <td>5</td>\n      <td>10</td>\n      <td>1</td>\n      <td>2</td>\n      <td>5</td>\n      <td>2</td>\n      <td>2</td>\n      <td>0</td>\n    </tr>\n    <tr>\n      <th>1</th>\n      <td>coffe hungri singer</td>\n      <td>3</td>\n      <td>2</td>\n      <td>1</td>\n      <td>1</td>\n      <td>7</td>\n      <td>1</td>\n      <td>2</td>\n      <td>1</td>\n      <td>8</td>\n      <td>2</td>\n      <td>1</td>\n      <td>0</td>\n    </tr>\n    <tr>\n      <th>2</th>\n      <td>socialmedia twitter facebook vape</td>\n      <td>2</td>\n      <td>1</td>\n      <td>2</td>\n      <td>1</td>\n      <td>7</td>\n      <td>6</td>\n      <td>1</td>\n      <td>1</td>\n      <td>9</td>\n      <td>1</td>\n      <td>1</td>\n      <td>0</td>\n    </tr>\n    <tr>\n      <th>3</th>\n      <td>introvert gamer nerd</td>\n      <td>1</td>\n      <td>7</td>\n      <td>2</td>\n      <td>1</td>\n      <td>10</td>\n      <td>7</td>\n      <td>2</td>\n      <td>2</td>\n      <td>8</td>\n      <td>1</td>\n      <td>1</td>\n      <td>0</td>\n    </tr>\n    <tr>\n      <th>4</th>\n      <td>computersci major soccer</td>\n      <td>1</td>\n      <td>2</td>\n      <td>2</td>\n      <td>1</td>\n      <td>5</td>\n      <td>9</td>\n      <td>1</td>\n      <td>1</td>\n      <td>4</td>\n      <td>3</td>\n      <td>2</td>\n      <td>0</td>\n    </tr>\n    <tr>\n      <th>5</th>\n      <td>travel musician artist</td>\n      <td>3</td>\n      <td>4</td>\n      <td>1</td>\n      <td>1</td>\n      <td>7</td>\n      <td>10</td>\n      <td>2</td>\n      <td>3</td>\n      <td>1</td>\n      <td>3</td>\n      <td>2</td>\n      <td>0</td>\n    </tr>\n    <tr>\n      <th>6</th>\n      <td>mathemat geek compsci</td>\n      <td>4</td>\n      <td>2</td>\n      <td>1</td>\n      <td>1</td>\n      <td>5</td>\n      <td>5</td>\n      <td>1</td>\n      <td>1</td>\n      <td>10</td>\n      <td>3</td>\n      <td>1</td>\n      <td>0</td>\n    </tr>\n    <tr>\n      <th>7</th>\n      <td>love meet new peopl like sing checkout youtub ...</td>\n      <td>1</td>\n      <td>8</td>\n      <td>3</td>\n      <td>1</td>\n      <td>3</td>\n      <td>2</td>\n      <td>2</td>\n      <td>1</td>\n      <td>5</td>\n      <td>3</td>\n      <td>2</td>\n      <td>0</td>\n    </tr>\n    <tr>\n      <th>8</th>\n      <td>hello</td>\n      <td>3</td>\n      <td>6</td>\n      <td>3</td>\n      <td>1</td>\n      <td>2</td>\n      <td>2</td>\n      <td>1</td>\n      <td>3</td>\n      <td>10</td>\n      <td>2</td>\n      <td>1</td>\n      <td>0</td>\n    </tr>\n    <tr>\n      <th>9</th>\n      <td>travel freak bike life bball</td>\n      <td>4</td>\n      <td>5</td>\n      <td>1</td>\n      <td>1</td>\n      <td>4</td>\n      <td>9</td>\n      <td>1</td>\n      <td>3</td>\n      <td>3</td>\n      <td>2</td>\n      <td>2</td>\n      <td>0</td>\n    </tr>\n    <tr>\n      <th>10</th>\n      <td>problem solver look friend</td>\n      <td>3</td>\n      <td>5</td>\n      <td>2</td>\n      <td>1</td>\n      <td>5</td>\n      <td>7</td>\n      <td>2</td>\n      <td>3</td>\n      <td>5</td>\n      <td>3</td>\n      <td>1</td>\n      <td>0</td>\n    </tr>\n    <tr>\n      <th>11</th>\n      <td>internet geek let game woohoo</td>\n      <td>2</td>\n      <td>1</td>\n      <td>2</td>\n      <td>1</td>\n      <td>1</td>\n      <td>4</td>\n      <td>2</td>\n      <td>1</td>\n      <td>8</td>\n      <td>3</td>\n      <td>2</td>\n      <td>0</td>\n    </tr>\n    <tr>\n      <th>12</th>\n      <td>live gym basketbal player baconlov</td>\n      <td>3</td>\n      <td>2</td>\n      <td>2</td>\n      <td>1</td>\n      <td>6</td>\n      <td>9</td>\n      <td>1</td>\n      <td>3</td>\n      <td>4</td>\n      <td>2</td>\n      <td>2</td>\n      <td>0</td>\n    </tr>\n  </tbody>\n</table>\n</div>"
     },
     "metadata": {},
     "execution_count": 36
    }
   ],
   "source": [
    "df"
   ]
  },
  {
   "cell_type": "code",
   "execution_count": 37,
   "metadata": {},
   "outputs": [
    {
     "output_type": "stream",
     "name": "stdout",
     "text": [
      "['artist', 'baconlov', 'baker', 'basketbal', 'bball', 'bike', 'channel', 'checkout', 'coffe', 'compsci', 'computersci', 'cook', 'facebook', 'foodi', 'freak', 'friend', 'game', 'gamer', 'geek', 'gym', 'hello', 'hungri', 'internet', 'introvert', 'let', 'life', 'like', 'live', 'look', 'love', 'major', 'mathemat', 'meet', 'musician', 'nerd', 'new', 'peopl', 'player', 'problem', 'sing', 'singer', 'soccer', 'socialmedia', 'solver', 'travel', 'twitter', 'vape', 'woohoo', 'youtub']\n"
     ]
    }
   ],
   "source": [
    "#TF-IDF vectorizer\n",
    "tfv = TfidfVectorizer(stop_words = \"english\",ngram_range = (1,1))\n",
    "#transform\n",
    "vec_text = tfv.fit_transform(df.Bios)\n",
    "#returns a list of words.\n",
    "words = tfv.get_feature_names()\n",
    "print(words)\n",
    "# tfidf = TfidfVectorizer(\n",
    "#     min_df = 5,\n",
    "#     max_df = 0.95,\n",
    "#     max_features = 8000,\n",
    "#     stop_words = 'english'\n",
    "# )\n",
    "# tfidf.fit(df['Bios'])\n",
    "# text = tfidf.transform(df['Bios'])\n",
    "\n",
    "# def get_top_keywords(data, clusters, labels, n_terms):\n",
    "#     df = pd.DataFrame(data.todense()).groupby(clusters).mean()\n",
    "    \n",
    "#     for i,r in df.iterrows():\n",
    "#         print('\\nCluster {}'.format(i))\n",
    "#         print(','.join([labels[t] for t in np.argsort(r)[-n_terms:]]))\n",
    "            \n",
    "# get_top_keywords(text, clusters, tfidf.get_feature_names(), 10)"
   ]
  },
  {
   "cell_type": "code",
   "execution_count": 38,
   "metadata": {},
   "outputs": [
    {
     "output_type": "stream",
     "name": "stdout",
     "text": [
      "0 : hello, cook, coffe, introvert, foodi, hungri, nerd, baker, singer, gamer\n1 : travel, artist, musician, life, bball, bike, freak, hello, gym, geek\n2 : computersci, soccer, major, cook, hello, gym, geek, gamer, game, friend\n3 : baconlov, basketbal, gym, live, player, youtub, facebook, hello, geek, gamer\n4 : geek, compsci, mathemat, let, game, internet, woohoo, channel, checkout, hungri\n"
     ]
    }
   ],
   "source": [
    "#setup kmeans clustering\n",
    "kmeans = KMeans(n_clusters = 5, n_init = 17, tol = 0.01, max_iter = 200)\n",
    "#fit the data \n",
    "kmeans.fit(vec_text)\n",
    "#this loop transforms the numbers back into words\n",
    "common_words = kmeans.cluster_centers_.argsort()[:,-1:-11:-1]\n",
    "for num, centroid in enumerate(common_words):\n",
    "    print(str(num) + ' : ' + ', '.join(words[word] for word in centroid))\n",
    "    "
   ]
  },
  {
   "cell_type": "code",
   "execution_count": null,
   "metadata": {},
   "outputs": [],
   "source": []
  }
 ]
}