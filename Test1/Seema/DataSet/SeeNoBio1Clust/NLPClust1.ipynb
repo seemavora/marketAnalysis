{
 "metadata": {
  "language_info": {
   "codemirror_mode": {
    "name": "ipython",
    "version": 3
   },
   "file_extension": ".py",
   "mimetype": "text/x-python",
   "name": "python",
   "nbconvert_exporter": "python",
   "pygments_lexer": "ipython3",
   "version": "3.8.5-final"
  },
  "orig_nbformat": 2,
  "kernelspec": {
   "name": "python3",
   "display_name": "Python 3",
   "language": "python"
  }
 },
 "nbformat": 4,
 "nbformat_minor": 2,
 "cells": [
  {
   "cell_type": "code",
   "execution_count": 2,
   "metadata": {},
   "outputs": [],
   "source": [
    "import pandas as pd\n",
    "from sklearn.feature_extraction.text import TfidfVectorizer\n",
    "clust1 = pd.read_csv('wBiosTest1C1.csv')"
   ]
  },
  {
   "cell_type": "code",
   "execution_count": 4,
   "metadata": {},
   "outputs": [],
   "source": [
    "vec= TfidfVectorizer(stop_words=\"english\", ngram_range=(1,3))\n",
    "vec.fit(clust1.Bios.values)\n",
    "features = vec.transform(clust1.Bios.values)\n"
   ]
  },
  {
   "cell_type": "code",
   "execution_count": 5,
   "metadata": {},
   "outputs": [
    {
     "output_type": "execute_result",
     "data": {
      "text/plain": [
       "KMeans(n_clusters=2)"
      ]
     },
     "metadata": {},
     "execution_count": 5
    }
   ],
   "source": [
    "from sklearn.cluster import MiniBatchKMeans, KMeans\n",
    "clust1Bios = KMeans(init = 'k-means++', n_clusters = 2, n_init=10)\n",
    "clust1Bios.fit(features)"
   ]
  },
  {
   "cell_type": "code",
   "execution_count": 9,
   "metadata": {},
   "outputs": [
    {
     "output_type": "execute_result",
     "data": {
      "text/plain": [
       "   Unnamed: 0                                               Bios  UserID  \\\n",
       "0           0  Lifelong tv trailblazer. Avid twitter buff. Aw...       5   \n",
       "1           1  Thinker. Hardcore organizer. Subtly charming s...      10   \n",
       "2           2  Tv guru. Amateur coffee scholar. Proud problem...      27   \n",
       "3           3  Problem solver. Internet geek. Coffee aficiona...      32   \n",
       "4           4  Web lover. Travel specialist. Freelance pop cu...      33   \n",
       "\n",
       "   Year  Major_Dept  Ambition  Goals  Music  Sports  Friday_Nights  \\\n",
       "0     4           7         1      1      9       5              1   \n",
       "1     3           1         2      1      2       4              1   \n",
       "2     3           2         1      1      3       4              1   \n",
       "3     3           6         2      1      7       5              1   \n",
       "4     3           4         2      1      1       2              1   \n",
       "\n",
       "   School_balance  Movie_Genres  Social_Style  Transfer  Cluster #  \\\n",
       "0               3             5             1         2          1   \n",
       "1               3             3             2         2          1   \n",
       "2               3             7             3         2          1   \n",
       "3               1             4             2         2          1   \n",
       "4               3             4             1         2          1   \n",
       "\n",
       "   BioClusters  \n",
       "0            0  \n",
       "1            1  \n",
       "2            0  \n",
       "3            0  \n",
       "4            1  "
      ],
      "text/html": "<div>\n<style scoped>\n    .dataframe tbody tr th:only-of-type {\n        vertical-align: middle;\n    }\n\n    .dataframe tbody tr th {\n        vertical-align: top;\n    }\n\n    .dataframe thead th {\n        text-align: right;\n    }\n</style>\n<table border=\"1\" class=\"dataframe\">\n  <thead>\n    <tr style=\"text-align: right;\">\n      <th></th>\n      <th>Unnamed: 0</th>\n      <th>Bios</th>\n      <th>UserID</th>\n      <th>Year</th>\n      <th>Major_Dept</th>\n      <th>Ambition</th>\n      <th>Goals</th>\n      <th>Music</th>\n      <th>Sports</th>\n      <th>Friday_Nights</th>\n      <th>School_balance</th>\n      <th>Movie_Genres</th>\n      <th>Social_Style</th>\n      <th>Transfer</th>\n      <th>Cluster #</th>\n      <th>BioClusters</th>\n    </tr>\n  </thead>\n  <tbody>\n    <tr>\n      <th>0</th>\n      <td>0</td>\n      <td>Lifelong tv trailblazer. Avid twitter buff. Aw...</td>\n      <td>5</td>\n      <td>4</td>\n      <td>7</td>\n      <td>1</td>\n      <td>1</td>\n      <td>9</td>\n      <td>5</td>\n      <td>1</td>\n      <td>3</td>\n      <td>5</td>\n      <td>1</td>\n      <td>2</td>\n      <td>1</td>\n      <td>0</td>\n    </tr>\n    <tr>\n      <th>1</th>\n      <td>1</td>\n      <td>Thinker. Hardcore organizer. Subtly charming s...</td>\n      <td>10</td>\n      <td>3</td>\n      <td>1</td>\n      <td>2</td>\n      <td>1</td>\n      <td>2</td>\n      <td>4</td>\n      <td>1</td>\n      <td>3</td>\n      <td>3</td>\n      <td>2</td>\n      <td>2</td>\n      <td>1</td>\n      <td>1</td>\n    </tr>\n    <tr>\n      <th>2</th>\n      <td>2</td>\n      <td>Tv guru. Amateur coffee scholar. Proud problem...</td>\n      <td>27</td>\n      <td>3</td>\n      <td>2</td>\n      <td>1</td>\n      <td>1</td>\n      <td>3</td>\n      <td>4</td>\n      <td>1</td>\n      <td>3</td>\n      <td>7</td>\n      <td>3</td>\n      <td>2</td>\n      <td>1</td>\n      <td>0</td>\n    </tr>\n    <tr>\n      <th>3</th>\n      <td>3</td>\n      <td>Problem solver. Internet geek. Coffee aficiona...</td>\n      <td>32</td>\n      <td>3</td>\n      <td>6</td>\n      <td>2</td>\n      <td>1</td>\n      <td>7</td>\n      <td>5</td>\n      <td>1</td>\n      <td>1</td>\n      <td>4</td>\n      <td>2</td>\n      <td>2</td>\n      <td>1</td>\n      <td>0</td>\n    </tr>\n    <tr>\n      <th>4</th>\n      <td>4</td>\n      <td>Web lover. Travel specialist. Freelance pop cu...</td>\n      <td>33</td>\n      <td>3</td>\n      <td>4</td>\n      <td>2</td>\n      <td>1</td>\n      <td>1</td>\n      <td>2</td>\n      <td>1</td>\n      <td>3</td>\n      <td>4</td>\n      <td>1</td>\n      <td>2</td>\n      <td>1</td>\n      <td>1</td>\n    </tr>\n  </tbody>\n</table>\n</div>"
     },
     "metadata": {},
     "execution_count": 9
    }
   ],
   "source": [
    "yhat = clust1Bios.predict(features)\n",
    "clust1['BioClusters'] = clust1Bios.labels_\n",
    "clust1.head()"
   ]
  },
  {
   "cell_type": "code",
   "execution_count": 22,
   "metadata": {},
   "outputs": [
    {
     "output_type": "execute_result",
     "data": {
      "text/plain": [
       "   Unnamed: 0                                               Bios  UserID  \\\n",
       "0           0  Lifelong tv trailblazer. Avid twitter buff. Aw...       5   \n",
       "2           2  Tv guru. Amateur coffee scholar. Proud problem...      27   \n",
       "3           3  Problem solver. Internet geek. Coffee aficiona...      32   \n",
       "7           7  Tv guru. Amateur coffee scholar. Proud problem...      72   \n",
       "8           8  Problem solver. Internet geek. Coffee aficiona...      77   \n",
       "\n",
       "   Year  Major_Dept  Ambition  Goals  Music  Sports  Friday_Nights  \\\n",
       "0     4           7         1      1      9       5              1   \n",
       "2     3           2         1      1      3       4              1   \n",
       "3     3           6         2      1      7       5              1   \n",
       "7     3           7         3      1      9       5              1   \n",
       "8     3           4         2      1      9       3              1   \n",
       "\n",
       "   School_balance  Movie_Genres  Social_Style  Transfer  Cluster #  \\\n",
       "0               3             5             1         2          1   \n",
       "2               3             7             3         2          1   \n",
       "3               1             4             2         2          1   \n",
       "7               1             4             1         2          1   \n",
       "8               1             5             2         2          1   \n",
       "\n",
       "   BioClusters  \n",
       "0            0  \n",
       "2            0  \n",
       "3            0  \n",
       "7            0  \n",
       "8            0  "
      ],
      "text/html": "<div>\n<style scoped>\n    .dataframe tbody tr th:only-of-type {\n        vertical-align: middle;\n    }\n\n    .dataframe tbody tr th {\n        vertical-align: top;\n    }\n\n    .dataframe thead th {\n        text-align: right;\n    }\n</style>\n<table border=\"1\" class=\"dataframe\">\n  <thead>\n    <tr style=\"text-align: right;\">\n      <th></th>\n      <th>Unnamed: 0</th>\n      <th>Bios</th>\n      <th>UserID</th>\n      <th>Year</th>\n      <th>Major_Dept</th>\n      <th>Ambition</th>\n      <th>Goals</th>\n      <th>Music</th>\n      <th>Sports</th>\n      <th>Friday_Nights</th>\n      <th>School_balance</th>\n      <th>Movie_Genres</th>\n      <th>Social_Style</th>\n      <th>Transfer</th>\n      <th>Cluster #</th>\n      <th>BioClusters</th>\n    </tr>\n  </thead>\n  <tbody>\n    <tr>\n      <th>0</th>\n      <td>0</td>\n      <td>Lifelong tv trailblazer. Avid twitter buff. Aw...</td>\n      <td>5</td>\n      <td>4</td>\n      <td>7</td>\n      <td>1</td>\n      <td>1</td>\n      <td>9</td>\n      <td>5</td>\n      <td>1</td>\n      <td>3</td>\n      <td>5</td>\n      <td>1</td>\n      <td>2</td>\n      <td>1</td>\n      <td>0</td>\n    </tr>\n    <tr>\n      <th>2</th>\n      <td>2</td>\n      <td>Tv guru. Amateur coffee scholar. Proud problem...</td>\n      <td>27</td>\n      <td>3</td>\n      <td>2</td>\n      <td>1</td>\n      <td>1</td>\n      <td>3</td>\n      <td>4</td>\n      <td>1</td>\n      <td>3</td>\n      <td>7</td>\n      <td>3</td>\n      <td>2</td>\n      <td>1</td>\n      <td>0</td>\n    </tr>\n    <tr>\n      <th>3</th>\n      <td>3</td>\n      <td>Problem solver. Internet geek. Coffee aficiona...</td>\n      <td>32</td>\n      <td>3</td>\n      <td>6</td>\n      <td>2</td>\n      <td>1</td>\n      <td>7</td>\n      <td>5</td>\n      <td>1</td>\n      <td>1</td>\n      <td>4</td>\n      <td>2</td>\n      <td>2</td>\n      <td>1</td>\n      <td>0</td>\n    </tr>\n    <tr>\n      <th>7</th>\n      <td>7</td>\n      <td>Tv guru. Amateur coffee scholar. Proud problem...</td>\n      <td>72</td>\n      <td>3</td>\n      <td>7</td>\n      <td>3</td>\n      <td>1</td>\n      <td>9</td>\n      <td>5</td>\n      <td>1</td>\n      <td>1</td>\n      <td>4</td>\n      <td>1</td>\n      <td>2</td>\n      <td>1</td>\n      <td>0</td>\n    </tr>\n    <tr>\n      <th>8</th>\n      <td>8</td>\n      <td>Problem solver. Internet geek. Coffee aficiona...</td>\n      <td>77</td>\n      <td>3</td>\n      <td>4</td>\n      <td>2</td>\n      <td>1</td>\n      <td>9</td>\n      <td>3</td>\n      <td>1</td>\n      <td>1</td>\n      <td>5</td>\n      <td>2</td>\n      <td>2</td>\n      <td>1</td>\n      <td>0</td>\n    </tr>\n  </tbody>\n</table>\n</div>"
     },
     "metadata": {},
     "execution_count": 22
    }
   ],
   "source": [
    "finalClust1wBios=clust1[clust1['BioClusters']==0]\n",
    "# finalClust1wBios['Bios']=clust1['Bios']\n",
    "finalClust1wBios.head()"
   ]
  },
  {
   "cell_type": "code",
   "execution_count": 27,
   "metadata": {},
   "outputs": [],
   "source": [
    "finalClust1wBios=clust1[clust1['BioClusters']==0]\n",
    "# finalClust1wBios['Bios']=clust1['Bios']\n",
    "finalClust1wBios.to_csv('FinalClusters/Clust1.csv')"
   ]
  },
  {
   "cell_type": "code",
   "execution_count": 28,
   "metadata": {},
   "outputs": [],
   "source": [
    "finalClust1wBios=clust1[clust1['BioClusters']==1]\n",
    "# finalClust1wBios['Bios']=clust1['Bios']\n",
    "finalClust1wBios.to_csv('FinalClusters/Clust2.csv')"
   ]
  },
  {
   "cell_type": "code",
   "execution_count": null,
   "metadata": {},
   "outputs": [],
   "source": [
    "# https://medium.com/@nisha.imagines/nlp-with-python-text-clustering-based-on-content-similarity-cae4ecffba3c"
   ]
  }
 ]
}