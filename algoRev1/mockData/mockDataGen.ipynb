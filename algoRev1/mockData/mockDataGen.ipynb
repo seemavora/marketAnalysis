{
 "metadata": {
  "language_info": {
   "codemirror_mode": {
    "name": "ipython",
    "version": 3
   },
   "file_extension": ".py",
   "mimetype": "text/x-python",
   "name": "python",
   "nbconvert_exporter": "python",
   "pygments_lexer": "ipython3",
   "version": "3.8.5-final"
  },
  "orig_nbformat": 2,
  "kernelspec": {
   "name": "python3",
   "display_name": "Python 3.8.5 64-bit ('anaconda3': virtualenv)",
   "metadata": {
    "interpreter": {
     "hash": "7f956853190829b392c62832bb8f0ad9f910ce06bda05f24e57857f8ee2917c7"
    }
   }
  }
 },
 "nbformat": 4,
 "nbformat_minor": 2,
 "cells": [
  {
   "cell_type": "code",
   "execution_count": 17,
   "metadata": {},
   "outputs": [],
   "source": [
    "#defining all the imports\n",
    "import requests\n",
    "import pandas as pd\n",
    "import time\n",
    "import random\n",
    "import re\n",
    "import numpy as np\n",
    "import _pickle as pickle\n",
    "from tqdm import tqdm_notebook as tqdm\n",
    "from bs4 import BeautifulSoup as bs"
   ]
  },
  {
   "cell_type": "code",
   "execution_count": 18,
   "metadata": {},
   "outputs": [],
   "source": [
    "# Randomizing the refresh rate\n",
    "seq = [i/10 for i in range(7,12)]\n",
    "\n",
    "# Creating a list of bios\n",
    "biolist = []"
   ]
  },
  {
   "cell_type": "code",
   "execution_count": 19,
   "metadata": {},
   "outputs": [
    {
     "output_type": "display_data",
     "data": {
      "text/plain": "HBox(children=(HTML(value=''), FloatProgress(value=0.0), HTML(value='')))",
      "application/vnd.jupyter.widget-view+json": {
       "version_major": 2,
       "version_minor": 0,
       "model_id": "3c0eef98c8134e66af109e608eedd9d9"
      }
     },
     "metadata": {}
    },
    {
     "output_type": "stream",
     "name": "stdout",
     "text": [
      "\n"
     ]
    }
   ],
   "source": [
    "# Gathering bios by looping and refreshing the web page\n",
    "for _ in tqdm(range(100)):\n",
    "    \n",
    "    # Refreshing the page\n",
    "    page = requests.get(\"https://www.fakepersongenerator.com/user-biography-generator\")\n",
    "    soup = bs(page.content, features='lxml')\n",
    "    \n",
    "    try:\n",
    "        # Getting the bios\n",
    "        bios = soup.find('div', class_='row no-margin for-sign').find_all('p')\n",
    "\n",
    "        # Adding to a list of the bios\n",
    "        biolist.extend([re.findall('\"([^\"]*)\"', i.text) for i in bios])\n",
    "    except:\n",
    "        pass\n",
    "    \n",
    "    # Sleeping \n",
    "    time.sleep(random.choice(seq))"
   ]
  },
  {
   "cell_type": "code",
   "execution_count": 20,
   "metadata": {},
   "outputs": [
    {
     "output_type": "stream",
     "name": "stdout",
     "text": [
      "                                                Bios\n0  Thinker. Total reader. Professional pop cultur...\n1  Coffee fanatic. Gamer. Friend of animals every...\n2  Problem solver. Internet geek. Coffee aficiona...\n3  Web lover. Travel specialist. Freelance pop cu...\n4  Falls down a lot. Zombie guru. Devoted problem...\n"
     ]
    }
   ],
   "source": [
    "bio_df = pd.DataFrame(biolist, columns = ['Bios'])\n",
    "print(bio_df.head())\n",
    "\n",
    "qualities =['Year','Major_Dept','Ambition','Goals','Music','Sports','Friday_Nights','School_balance','Movie_Genres','Social_Style', 'Transfer']\n",
    "#year(4): Freshman: 1, Sophomore:2 , Junior:3, Senior:4\n",
    "#Major_dept(8): Business: 1, Education: 2, Engineering/Science: 3, Health/Human Sciences: 4, Humanities/Arts: 5, Profeesional and Global Education:6, Social Sciences: 7, Other: 8\n",
    "#Ambition(3): Leading a stable life: 1, Achieving Specific Career Goals: 2, IDK:3\n",
    "#Goals(2): Achievable:1, Challenging:2\n",
    "# Music(10): Rock:1, Hip-Hop:2, Jazz: 3, Pop:4, Country:5, Rap:6, Heavy Metal: 7, Classical:8, Theatre:9, International: 10\n",
    "#Sports(10): Basketball:1, Baseball:2, Tennis:3, Soccer:4, Dance:5, Football:6, Gynmastics:7, Lacrosse:8, Swimming/Water-Related:9, Other:10\n",
    "#Friday_Nights(2): Night-in: 1, Night-out:2\n",
    "#School_balance(3): 1-4hrs a day:1. 4-7 hrs a day: 2, 7+ \n",
    "#Movie_Genres(11): Action:1, Horror:2, Drama:3, Romance:4, Comedy:5, Sci-Fi:6, Thriller:7, Musical:8, Documentary:9, Anime/Cartoon:10, I dont like movies:11\n",
    "#Social_Style(3):I typically initiate:1, I wait for someone else to initiate: 2, I am shy and takes me a while to warm up: 3\n",
    "#Transfer(2): Yes: 1, No: 0"
   ]
  },
  {
   "cell_type": "code",
   "execution_count": 21,
   "metadata": {},
   "outputs": [],
   "source": [
    "profiles = pd.DataFrame(columns = qualities)\n",
    "for i in profiles:\n",
    "    profiles['Year'] = np.random.randint(1,5,bio_df.shape[0])\n",
    "    profiles['Major_Dept'] = np.random.randint(1,9,bio_df.shape[0])\n",
    "    profiles['Ambition'] = np.random.randint(1,4,bio_df.shape[0])\n",
    "    profiles['Goals'] = np.random.randint(1,3,bio_df.shape[0])\n",
    "    profiles['Music'] = np.random.randint(1,11,bio_df.shape[0])\n",
    "    profiles['Sports'] = np.random.randint(1,11,bio_df.shape[0])\n",
    "    profiles['Friday_Nights'] = np.random.randint(1,3,bio_df.shape[0])\n",
    "    profiles['School_balance'] = np.random.randint(1,4,bio_df.shape[0])\n",
    "    profiles['Movie_Genres'] = np.random.randint(1,12,bio_df.shape[0])\n",
    "    profiles['Social_Style'] = np.random.randint(1,4,bio_df.shape[0])\n",
    "    profiles['Transfer'] = np.random.randint(1,3,bio_df.shape[0])"
   ]
  },
  {
   "cell_type": "code",
   "execution_count": 22,
   "metadata": {},
   "outputs": [],
   "source": [
    "profiles\n",
    "# profiles.to_csv('profilesNoBio.csv')\n",
    "profiles.to_csv('../../Test1/DataSet/SeemaTestNoBio2.csv')"
   ]
  },
  {
   "cell_type": "code",
   "execution_count": 23,
   "metadata": {},
   "outputs": [
    {
     "output_type": "execute_result",
     "data": {
      "text/plain": [
       "                                                  Bios  Year  Major_Dept  \\\n",
       "0    Thinker. Total reader. Professional pop cultur...     3           3   \n",
       "1    Coffee fanatic. Gamer. Friend of animals every...     4           2   \n",
       "2    Problem solver. Internet geek. Coffee aficiona...     1           6   \n",
       "3    Web lover. Travel specialist. Freelance pop cu...     4           6   \n",
       "4    Falls down a lot. Zombie guru. Devoted problem...     1           4   \n",
       "..                                                 ...   ...         ...   \n",
       "370  Freelance problem solver. Lifelong beer specia...     3           4   \n",
       "371  Bacon lover. Organizer. Subtly charming music ...     1           8   \n",
       "372  Freelance bacon fanatic. Alcohol practitioner....     4           4   \n",
       "373  Award-winning internet enthusiast. Typical zom...     2           7   \n",
       "374  Internet fanatic. Analyst. Beer advocate. Tota...     2           7   \n",
       "\n",
       "     Ambition  Goals  Music  Sports  Friday_Nights  School_balance  \\\n",
       "0           1      2      6       3              2               2   \n",
       "1           2      2      1       4              1               1   \n",
       "2           3      1      3       4              2               1   \n",
       "3           2      1      3       8              2               3   \n",
       "4           1      2      2      10              1               1   \n",
       "..        ...    ...    ...     ...            ...             ...   \n",
       "370         1      1      2       7              1               1   \n",
       "371         2      1      2       3              2               3   \n",
       "372         2      1      8      10              2               2   \n",
       "373         2      2      5       2              1               1   \n",
       "374         2      1      5       5              2               3   \n",
       "\n",
       "     Movie_Genres  Social_Style  Transfer  \n",
       "0               9             1         2  \n",
       "1              10             2         2  \n",
       "2              10             1         2  \n",
       "3               7             2         1  \n",
       "4              10             2         2  \n",
       "..            ...           ...       ...  \n",
       "370             9             1         1  \n",
       "371            11             1         2  \n",
       "372             4             3         2  \n",
       "373             2             2         1  \n",
       "374            11             1         1  \n",
       "\n",
       "[375 rows x 12 columns]"
      ],
      "text/html": "<div>\n<style scoped>\n    .dataframe tbody tr th:only-of-type {\n        vertical-align: middle;\n    }\n\n    .dataframe tbody tr th {\n        vertical-align: top;\n    }\n\n    .dataframe thead th {\n        text-align: right;\n    }\n</style>\n<table border=\"1\" class=\"dataframe\">\n  <thead>\n    <tr style=\"text-align: right;\">\n      <th></th>\n      <th>Bios</th>\n      <th>Year</th>\n      <th>Major_Dept</th>\n      <th>Ambition</th>\n      <th>Goals</th>\n      <th>Music</th>\n      <th>Sports</th>\n      <th>Friday_Nights</th>\n      <th>School_balance</th>\n      <th>Movie_Genres</th>\n      <th>Social_Style</th>\n      <th>Transfer</th>\n    </tr>\n  </thead>\n  <tbody>\n    <tr>\n      <th>0</th>\n      <td>Thinker. Total reader. Professional pop cultur...</td>\n      <td>3</td>\n      <td>3</td>\n      <td>1</td>\n      <td>2</td>\n      <td>6</td>\n      <td>3</td>\n      <td>2</td>\n      <td>2</td>\n      <td>9</td>\n      <td>1</td>\n      <td>2</td>\n    </tr>\n    <tr>\n      <th>1</th>\n      <td>Coffee fanatic. Gamer. Friend of animals every...</td>\n      <td>4</td>\n      <td>2</td>\n      <td>2</td>\n      <td>2</td>\n      <td>1</td>\n      <td>4</td>\n      <td>1</td>\n      <td>1</td>\n      <td>10</td>\n      <td>2</td>\n      <td>2</td>\n    </tr>\n    <tr>\n      <th>2</th>\n      <td>Problem solver. Internet geek. Coffee aficiona...</td>\n      <td>1</td>\n      <td>6</td>\n      <td>3</td>\n      <td>1</td>\n      <td>3</td>\n      <td>4</td>\n      <td>2</td>\n      <td>1</td>\n      <td>10</td>\n      <td>1</td>\n      <td>2</td>\n    </tr>\n    <tr>\n      <th>3</th>\n      <td>Web lover. Travel specialist. Freelance pop cu...</td>\n      <td>4</td>\n      <td>6</td>\n      <td>2</td>\n      <td>1</td>\n      <td>3</td>\n      <td>8</td>\n      <td>2</td>\n      <td>3</td>\n      <td>7</td>\n      <td>2</td>\n      <td>1</td>\n    </tr>\n    <tr>\n      <th>4</th>\n      <td>Falls down a lot. Zombie guru. Devoted problem...</td>\n      <td>1</td>\n      <td>4</td>\n      <td>1</td>\n      <td>2</td>\n      <td>2</td>\n      <td>10</td>\n      <td>1</td>\n      <td>1</td>\n      <td>10</td>\n      <td>2</td>\n      <td>2</td>\n    </tr>\n    <tr>\n      <th>...</th>\n      <td>...</td>\n      <td>...</td>\n      <td>...</td>\n      <td>...</td>\n      <td>...</td>\n      <td>...</td>\n      <td>...</td>\n      <td>...</td>\n      <td>...</td>\n      <td>...</td>\n      <td>...</td>\n      <td>...</td>\n    </tr>\n    <tr>\n      <th>370</th>\n      <td>Freelance problem solver. Lifelong beer specia...</td>\n      <td>3</td>\n      <td>4</td>\n      <td>1</td>\n      <td>1</td>\n      <td>2</td>\n      <td>7</td>\n      <td>1</td>\n      <td>1</td>\n      <td>9</td>\n      <td>1</td>\n      <td>1</td>\n    </tr>\n    <tr>\n      <th>371</th>\n      <td>Bacon lover. Organizer. Subtly charming music ...</td>\n      <td>1</td>\n      <td>8</td>\n      <td>2</td>\n      <td>1</td>\n      <td>2</td>\n      <td>3</td>\n      <td>2</td>\n      <td>3</td>\n      <td>11</td>\n      <td>1</td>\n      <td>2</td>\n    </tr>\n    <tr>\n      <th>372</th>\n      <td>Freelance bacon fanatic. Alcohol practitioner....</td>\n      <td>4</td>\n      <td>4</td>\n      <td>2</td>\n      <td>1</td>\n      <td>8</td>\n      <td>10</td>\n      <td>2</td>\n      <td>2</td>\n      <td>4</td>\n      <td>3</td>\n      <td>2</td>\n    </tr>\n    <tr>\n      <th>373</th>\n      <td>Award-winning internet enthusiast. Typical zom...</td>\n      <td>2</td>\n      <td>7</td>\n      <td>2</td>\n      <td>2</td>\n      <td>5</td>\n      <td>2</td>\n      <td>1</td>\n      <td>1</td>\n      <td>2</td>\n      <td>2</td>\n      <td>1</td>\n    </tr>\n    <tr>\n      <th>374</th>\n      <td>Internet fanatic. Analyst. Beer advocate. Tota...</td>\n      <td>2</td>\n      <td>7</td>\n      <td>2</td>\n      <td>1</td>\n      <td>5</td>\n      <td>5</td>\n      <td>2</td>\n      <td>3</td>\n      <td>11</td>\n      <td>1</td>\n      <td>1</td>\n    </tr>\n  </tbody>\n</table>\n<p>375 rows × 12 columns</p>\n</div>"
     },
     "metadata": {},
     "execution_count": 23
    }
   ],
   "source": [
    "profileWBios = bio_df.join(profiles)\n",
    "profileWBios"
   ]
  },
  {
   "cell_type": "code",
   "execution_count": 24,
   "metadata": {},
   "outputs": [],
   "source": [
    "# profileWBios.to_csv('mockData.csv')\n",
    "#data with bios\n",
    "profileWBios.to_csv('../../Test1/DataSet/SeemaTestWBios2.csv')"
   ]
  },
  {
   "cell_type": "code",
   "execution_count": null,
   "metadata": {},
   "outputs": [],
   "source": []
  }
 ]
}