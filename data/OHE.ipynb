{
 "metadata": {
  "language_info": {
   "codemirror_mode": {
    "name": "ipython",
    "version": 3
   },
   "file_extension": ".py",
   "mimetype": "text/x-python",
   "name": "python",
   "nbconvert_exporter": "python",
   "pygments_lexer": "ipython3",
   "version": "3.8.5-final"
  },
  "orig_nbformat": 2,
  "kernelspec": {
   "name": "python3",
   "display_name": "Python 3",
   "language": "python"
  }
 },
 "nbformat": 4,
 "nbformat_minor": 2,
 "cells": [
  {
   "cell_type": "code",
   "execution_count": 54,
   "metadata": {},
   "outputs": [],
   "source": [
    "import pandas as pd \n"
   ]
  },
  {
   "cell_type": "code",
   "execution_count": 55,
   "metadata": {},
   "outputs": [
    {
     "output_type": "execute_result",
     "data": {
      "text/plain": [
       "                                    major_department       year  \\\n",
       "0  Engineering (if you're computer science choose...  Sophomore   \n",
       "1                                           Sciences  Sophomore   \n",
       "2  Engineering (if you're computer science choose...  Sophomore   \n",
       "3  Engineering (if you're computer science choose...  Sophomore   \n",
       "4  Engineering (if you're computer science choose...  Sophomore   \n",
       "\n",
       "         music_genre      living          humour sports  \\\n",
       "0                Rap  Off-Campus     Situational    Yes   \n",
       "1                Pop  Off-Campus  Dad-Joke Humor     No   \n",
       "2                Pop  Off-Campus     Situational     No   \n",
       "3  Indie/Alternative  Off-Campus      Dark-Humor     No   \n",
       "4                EDM  Off-Campus      Dark-Humor    Yes   \n",
       "\n",
       "              friday_night                         school_balance  \\\n",
       "0         Watching Netflix  5-8 hours of school and/or work a day   \n",
       "1  At a party/With Friends  5-8 hours of school and/or work a day   \n",
       "2                 Studying   8+ hours of school and/or work a day   \n",
       "3         Watching Netflix   8+ hours of school and/or work a day   \n",
       "4                  Working   8+ hours of school and/or work a day   \n",
       "\n",
       "  entertainment_genre  \n",
       "0              Comedy  \n",
       "1       Anime/Cartoon  \n",
       "2             Rom-Com  \n",
       "3           Emotional  \n",
       "4       Anime/Cartoon  "
      ],
      "text/html": "<div>\n<style scoped>\n    .dataframe tbody tr th:only-of-type {\n        vertical-align: middle;\n    }\n\n    .dataframe tbody tr th {\n        vertical-align: top;\n    }\n\n    .dataframe thead th {\n        text-align: right;\n    }\n</style>\n<table border=\"1\" class=\"dataframe\">\n  <thead>\n    <tr style=\"text-align: right;\">\n      <th></th>\n      <th>major_department</th>\n      <th>year</th>\n      <th>music_genre</th>\n      <th>living</th>\n      <th>humour</th>\n      <th>sports</th>\n      <th>friday_night</th>\n      <th>school_balance</th>\n      <th>entertainment_genre</th>\n    </tr>\n  </thead>\n  <tbody>\n    <tr>\n      <th>0</th>\n      <td>Engineering (if you're computer science choose...</td>\n      <td>Sophomore</td>\n      <td>Rap</td>\n      <td>Off-Campus</td>\n      <td>Situational</td>\n      <td>Yes</td>\n      <td>Watching Netflix</td>\n      <td>5-8 hours of school and/or work a day</td>\n      <td>Comedy</td>\n    </tr>\n    <tr>\n      <th>1</th>\n      <td>Sciences</td>\n      <td>Sophomore</td>\n      <td>Pop</td>\n      <td>Off-Campus</td>\n      <td>Dad-Joke Humor</td>\n      <td>No</td>\n      <td>At a party/With Friends</td>\n      <td>5-8 hours of school and/or work a day</td>\n      <td>Anime/Cartoon</td>\n    </tr>\n    <tr>\n      <th>2</th>\n      <td>Engineering (if you're computer science choose...</td>\n      <td>Sophomore</td>\n      <td>Pop</td>\n      <td>Off-Campus</td>\n      <td>Situational</td>\n      <td>No</td>\n      <td>Studying</td>\n      <td>8+ hours of school and/or work a day</td>\n      <td>Rom-Com</td>\n    </tr>\n    <tr>\n      <th>3</th>\n      <td>Engineering (if you're computer science choose...</td>\n      <td>Sophomore</td>\n      <td>Indie/Alternative</td>\n      <td>Off-Campus</td>\n      <td>Dark-Humor</td>\n      <td>No</td>\n      <td>Watching Netflix</td>\n      <td>8+ hours of school and/or work a day</td>\n      <td>Emotional</td>\n    </tr>\n    <tr>\n      <th>4</th>\n      <td>Engineering (if you're computer science choose...</td>\n      <td>Sophomore</td>\n      <td>EDM</td>\n      <td>Off-Campus</td>\n      <td>Dark-Humor</td>\n      <td>Yes</td>\n      <td>Working</td>\n      <td>8+ hours of school and/or work a day</td>\n      <td>Anime/Cartoon</td>\n    </tr>\n  </tbody>\n</table>\n</div>"
     },
     "metadata": {},
     "execution_count": 55
    }
   ],
   "source": [
    "data = pd.read_csv('rawData/PA.csv')\n",
    "resData = pd.read_csv('cleanData/OHE_PA.csv')\n",
    "data.head()"
   ]
  },
  {
   "cell_type": "code",
   "execution_count": 56,
   "metadata": {},
   "outputs": [
    {
     "output_type": "execute_result",
     "data": {
      "text/plain": [
       "['Sophomore',\n",
       " 'Sophomore',\n",
       " 'Sophomore',\n",
       " 'Sophomore',\n",
       " 'Sophomore',\n",
       " 'Senior',\n",
       " 'Sophomore',\n",
       " 'Senior',\n",
       " 'Sophomore',\n",
       " 'Sophomore',\n",
       " 'Junior',\n",
       " 'Freshman',\n",
       " 'Alumni',\n",
       " 'Junior',\n",
       " 'Senior',\n",
       " 'Sophomore',\n",
       " 'Sophomore',\n",
       " 'Senior',\n",
       " 'Sophomore',\n",
       " 'Sophomore',\n",
       " 'Freshman',\n",
       " 'Junior',\n",
       " 'Sophomore',\n",
       " 'Sophomore',\n",
       " 'Sophomore',\n",
       " 'Sophomore',\n",
       " 'Sophomore',\n",
       " 'Sophomore',\n",
       " 'Sophomore',\n",
       " 'Sophomore',\n",
       " 'Junior',\n",
       " 'Junior',\n",
       " 'Senior',\n",
       " 'Sophomore',\n",
       " 'Freshman',\n",
       " 'Junior',\n",
       " 'Sophomore',\n",
       " 'Freshman',\n",
       " 'Sophomore',\n",
       " 'Sophomore',\n",
       " 'Sophomore']"
      ]
     },
     "metadata": {},
     "execution_count": 56
    }
   ],
   "source": [
    "type_data = data[\"year\"].to_list()\n",
    "type_data"
   ]
  },
  {
   "cell_type": "code",
   "execution_count": 57,
   "metadata": {
    "tags": []
   },
   "outputs": [
    {
     "output_type": "stream",
     "name": "stdout",
     "text": [
      "[[0 1 0]\n [0 0 1]\n [0 1 0]\n [0 1 0]\n [0 1 0]\n [0 1 0]\n [0 0 1]\n [0 1 0]\n [0 0 1]\n [1 0 0]\n [0 1 0]\n [1 0 0]\n [0 1 0]\n [0 1 0]\n [0 0 1]\n [0 1 0]\n [0 1 0]\n [0 0 1]\n [0 1 0]\n [0 0 1]\n [0 1 0]\n [0 1 0]\n [0 1 0]\n [0 1 0]\n [0 1 0]\n [0 1 0]\n [0 1 0]\n [0 1 0]\n [0 1 0]\n [0 0 1]\n [0 0 1]\n [0 1 0]\n [0 1 0]\n [0 0 1]\n [0 1 0]\n [0 1 0]\n [0 1 0]\n [0 1 0]\n [0 1 0]\n [0 1 0]\n [0 1 0]]\n[[0 0 1 0 0]\n [0 0 1 0 0]\n [0 0 1 0 0]\n [0 0 1 0 0]\n [0 0 1 0 0]\n [0 0 0 0 1]\n [0 0 1 0 0]\n [0 0 0 0 1]\n [0 0 1 0 0]\n [0 0 1 0 0]\n [1 0 0 0 0]\n [0 0 0 1 0]\n [0 1 0 0 0]\n [1 0 0 0 0]\n [0 0 0 0 1]\n [0 0 1 0 0]\n [0 0 1 0 0]\n [0 0 0 0 1]\n [0 0 1 0 0]\n [0 0 1 0 0]\n [0 0 0 1 0]\n [1 0 0 0 0]\n [0 0 1 0 0]\n [0 0 1 0 0]\n [0 0 1 0 0]\n [0 0 1 0 0]\n [0 0 1 0 0]\n [0 0 1 0 0]\n [0 0 1 0 0]\n [0 0 1 0 0]\n [1 0 0 0 0]\n [1 0 0 0 0]\n [0 0 0 0 1]\n [0 0 1 0 0]\n [0 0 0 1 0]\n [1 0 0 0 0]\n [0 0 1 0 0]\n [0 0 0 1 0]\n [0 0 1 0 0]\n [0 0 1 0 0]\n [0 0 1 0 0]]\n[[0 0 0 1 0 0 0 0 0 0 0 0 0 0]\n [0 0 0 0 0 0 0 1 0 0 0 0 0 0]\n [0 0 0 0 0 0 0 1 0 0 0 0 0 0]\n [0 0 0 0 0 0 0 0 0 0 1 0 0 0]\n [0 0 0 0 0 0 0 0 0 0 0 0 1 0]\n [0 0 0 0 0 0 0 0 0 0 0 0 1 0]\n [0 0 0 0 0 0 0 0 0 0 0 0 1 0]\n [0 0 0 0 0 0 0 1 0 0 0 0 0 0]\n [0 0 0 0 0 0 1 0 0 0 0 0 0 0]\n [0 0 0 0 0 0 1 0 0 0 0 0 0 0]\n [0 0 0 0 0 0 0 0 0 0 0 0 1 0]\n [0 0 0 1 0 0 0 0 0 0 0 0 0 0]\n [0 0 0 0 1 0 0 0 0 0 0 0 0 0]\n [0 0 0 0 0 0 0 0 0 0 0 1 0 0]\n [0 0 0 0 0 0 0 0 0 0 0 0 1 0]\n [0 0 0 0 0 0 0 1 0 0 0 0 0 0]\n [0 0 1 0 0 0 0 0 0 0 0 0 0 0]\n [0 0 0 0 0 0 0 0 1 0 0 0 0 0]\n [0 0 0 0 0 0 0 1 0 0 0 0 0 0]\n [0 0 0 0 0 0 0 0 0 1 0 0 0 0]\n [0 0 0 0 0 0 0 1 0 0 0 0 0 0]\n [0 0 0 0 0 0 0 0 0 0 0 0 1 0]\n [0 0 0 0 0 0 0 1 0 0 0 0 0 0]\n [0 0 0 1 0 0 0 0 0 0 0 0 0 0]\n [1 0 0 0 0 0 0 0 0 0 0 0 0 0]\n [0 0 0 0 0 0 0 0 0 1 0 0 0 0]\n [0 0 0 0 0 0 0 1 0 0 0 0 0 0]\n [0 0 0 0 0 0 0 1 0 0 0 0 0 0]\n [0 0 0 0 0 0 0 1 0 0 0 0 0 0]\n [0 0 0 0 1 0 0 0 0 0 0 0 0 0]\n [0 0 0 0 0 0 1 0 0 0 0 0 0 0]\n [0 0 0 0 0 0 0 1 0 0 0 0 0 0]\n [0 0 0 0 0 0 0 0 0 0 0 0 1 0]\n [0 0 0 0 0 0 0 1 0 0 0 0 0 0]\n [0 1 0 0 0 0 0 0 0 0 0 0 0 0]\n [0 0 0 0 0 0 0 1 0 0 0 0 0 0]\n [0 0 0 0 0 0 0 1 0 0 0 0 0 0]\n [0 0 0 0 0 0 1 0 0 0 0 0 0 0]\n [0 0 0 0 0 0 0 0 0 0 0 0 0 1]\n [0 0 0 0 0 0 0 1 0 0 0 0 0 0]\n [0 0 0 0 0 1 0 0 0 0 0 0 0 0]]\n[[0 1]\n [0 1]\n [0 1]\n [0 1]\n [0 1]\n [0 1]\n [0 1]\n [0 1]\n [0 1]\n [0 1]\n [0 1]\n [0 1]\n [0 1]\n [0 1]\n [0 1]\n [0 1]\n [0 1]\n [0 1]\n [0 1]\n [0 1]\n [0 1]\n [0 1]\n [0 1]\n [0 1]\n [0 1]\n [0 1]\n [0 1]\n [0 1]\n [0 1]\n [0 1]\n [0 1]\n [0 1]\n [0 1]\n [0 1]\n [0 1]\n [1 0]\n [0 1]\n [0 1]\n [0 1]\n [0 1]\n [0 1]]\n[[0 0 0 0 1]\n [1 0 0 0 0]\n [0 0 0 0 1]\n [0 1 0 0 0]\n [0 1 0 0 0]\n [0 1 0 0 0]\n [0 0 0 1 0]\n [0 0 0 0 1]\n [0 0 0 0 1]\n [0 1 0 0 0]\n [0 0 0 0 1]\n [0 1 0 0 0]\n [0 0 0 0 1]\n [1 0 0 0 0]\n [0 0 0 0 1]\n [0 0 0 0 1]\n [0 0 0 1 0]\n [0 0 0 0 1]\n [0 0 0 0 1]\n [0 0 0 0 1]\n [0 0 0 0 1]\n [0 0 0 1 0]\n [1 0 0 0 0]\n [0 1 0 0 0]\n [0 1 0 0 0]\n [0 1 0 0 0]\n [0 0 0 0 1]\n [0 0 0 0 1]\n [0 0 0 0 1]\n [0 0 0 0 1]\n [1 0 0 0 0]\n [0 0 0 0 1]\n [0 1 0 0 0]\n [0 0 0 0 1]\n [0 0 0 0 1]\n [1 0 0 0 0]\n [0 0 1 0 0]\n [0 0 0 0 1]\n [1 0 0 0 0]\n [0 0 0 0 1]\n [0 1 0 0 0]]\n[[0 1]\n [1 0]\n [1 0]\n [1 0]\n [0 1]\n [1 0]\n [0 1]\n [0 1]\n [1 0]\n [0 1]\n [1 0]\n [0 1]\n [1 0]\n [1 0]\n [0 1]\n [0 1]\n [0 1]\n [1 0]\n [1 0]\n [1 0]\n [0 1]\n [1 0]\n [1 0]\n [0 1]\n [0 1]\n [1 0]\n [1 0]\n [1 0]\n [1 0]\n [0 1]\n [1 0]\n [1 0]\n [0 1]\n [1 0]\n [0 1]\n [1 0]\n [1 0]\n [0 1]\n [0 1]\n [0 1]\n [1 0]]\n[[0 0 1 0]\n [0 0 0 1]\n [1 0 0 0]\n [0 0 1 0]\n [0 1 0 0]\n [0 0 1 0]\n [0 0 1 0]\n [0 0 0 1]\n [0 0 1 0]\n [0 0 0 1]\n [1 0 0 0]\n [1 0 0 0]\n [0 0 1 0]\n [1 0 0 0]\n [0 0 0 1]\n [0 0 1 0]\n [0 0 1 0]\n [1 0 0 0]\n [1 0 0 0]\n [0 0 1 0]\n [0 0 0 1]\n [0 0 1 0]\n [0 0 0 1]\n [0 0 1 0]\n [0 0 1 0]\n [1 0 0 0]\n [1 0 0 0]\n [1 0 0 0]\n [1 0 0 0]\n [1 0 0 0]\n [0 0 1 0]\n [0 0 0 1]\n [0 0 0 1]\n [0 0 0 1]\n [0 1 0 0]\n [0 0 0 1]\n [0 0 1 0]\n [0 0 1 0]\n [0 0 1 0]\n [0 0 1 0]\n [0 0 1 0]]\n[[1 0 0]\n [1 0 0]\n [0 0 1]\n [0 0 1]\n [0 0 1]\n [0 0 1]\n [1 0 0]\n [0 0 1]\n [1 0 0]\n [1 0 0]\n [1 0 0]\n [1 0 0]\n [1 0 0]\n [0 0 1]\n [1 0 0]\n [1 0 0]\n [0 1 0]\n [0 0 1]\n [1 0 0]\n [1 0 0]\n [1 0 0]\n [0 1 0]\n [1 0 0]\n [1 0 0]\n [1 0 0]\n [0 0 1]\n [1 0 0]\n [1 0 0]\n [1 0 0]\n [1 0 0]\n [1 0 0]\n [0 1 0]\n [1 0 0]\n [1 0 0]\n [0 0 1]\n [1 0 0]\n [1 0 0]\n [0 0 1]\n [1 0 0]\n [0 0 1]\n [1 0 0]]\n[[0 0 0 1 0 0 0 0 0]\n [0 1 0 0 0 0 0 0 0]\n [0 0 0 0 0 1 0 0 0]\n [0 0 0 0 0 0 0 0 1]\n [0 1 0 0 0 0 0 0 0]\n [0 0 0 0 0 0 1 0 0]\n [0 0 0 0 0 0 0 0 1]\n [0 0 0 0 0 0 0 1 0]\n [0 1 0 0 0 0 0 0 0]\n [0 0 0 1 0 0 0 0 0]\n [0 0 0 1 0 0 0 0 0]\n [0 0 0 0 1 0 0 0 0]\n [0 0 0 0 0 0 0 1 0]\n [1 0 0 0 0 0 0 0 0]\n [0 1 0 0 0 0 0 0 0]\n [1 0 0 0 0 0 0 0 0]\n [0 0 0 0 1 0 0 0 0]\n [0 0 0 1 0 0 0 0 0]\n [0 0 0 1 0 0 0 0 0]\n [0 0 0 0 0 0 0 1 0]\n [0 0 1 0 0 0 0 0 0]\n [0 1 0 0 0 0 0 0 0]\n [0 0 0 1 0 0 0 0 0]\n [0 0 0 1 0 0 0 0 0]\n [0 1 0 0 0 0 0 0 0]\n [0 1 0 0 0 0 0 0 0]\n [0 0 0 0 0 0 0 1 0]\n [0 0 0 0 0 0 0 1 0]\n [0 0 0 0 0 0 0 1 0]\n [0 1 0 0 0 0 0 0 0]\n [0 1 0 0 0 0 0 0 0]\n [0 0 0 1 0 0 0 0 0]\n [0 1 0 0 0 0 0 0 0]\n [0 0 1 0 0 0 0 0 0]\n [0 0 0 0 0 0 1 0 0]\n [0 1 0 0 0 0 0 0 0]\n [0 0 1 0 0 0 0 0 0]\n [1 0 0 0 0 0 0 0 0]\n [1 0 0 0 0 0 0 0 0]\n [0 0 0 0 0 0 0 0 1]\n [0 1 0 0 0 0 0 0 0]]\n-------OUTSIDE METHOD ---------\n"
     ]
    },
    {
     "output_type": "execute_result",
     "data": {
      "text/plain": [
       "   Business  Engineering (if you're computer science choose this)  Sciences  \\\n",
       "0         0                                                  1            0   \n",
       "1         0                                                  0            1   \n",
       "2         0                                                  1            0   \n",
       "3         0                                                  1            0   \n",
       "4         0                                                  1            0   \n",
       "\n",
       "   Junior  Alumni  Sophomore  Freshman  Senior  Blues  \\\n",
       "0       0       0          1         0       0      0   \n",
       "1       0       0          1         0       0      0   \n",
       "2       0       0          1         0       0      0   \n",
       "3       0       0          1         0       0      0   \n",
       "4       0       0          1         0       0      0   \n",
       "\n",
       "   I don’t listen to music  ...  8+ hours of school and/or work a day  Action  \\\n",
       "0                        0  ...                                     0       0   \n",
       "1                        0  ...                                     0       0   \n",
       "2                        0  ...                                     1       0   \n",
       "3                        0  ...                                     1       0   \n",
       "4                        0  ...                                     1       0   \n",
       "\n",
       "   Anime/Cartoon  Drama/K-Drama  Comedy  Horror  Rom-Com  Documentary  Sci-Fi  \\\n",
       "0              0              0       1       0        0            0       0   \n",
       "1              1              0       0       0        0            0       0   \n",
       "2              0              0       0       0        1            0       0   \n",
       "3              0              0       0       0        0            0       0   \n",
       "4              1              0       0       0        0            0       0   \n",
       "\n",
       "   Emotional  \n",
       "0          0  \n",
       "1          0  \n",
       "2          0  \n",
       "3          1  \n",
       "4          0  \n",
       "\n",
       "[5 rows x 47 columns]"
      ],
      "text/html": "<div>\n<style scoped>\n    .dataframe tbody tr th:only-of-type {\n        vertical-align: middle;\n    }\n\n    .dataframe tbody tr th {\n        vertical-align: top;\n    }\n\n    .dataframe thead th {\n        text-align: right;\n    }\n</style>\n<table border=\"1\" class=\"dataframe\">\n  <thead>\n    <tr style=\"text-align: right;\">\n      <th></th>\n      <th>Business</th>\n      <th>Engineering (if you're computer science choose this)</th>\n      <th>Sciences</th>\n      <th>Junior</th>\n      <th>Alumni</th>\n      <th>Sophomore</th>\n      <th>Freshman</th>\n      <th>Senior</th>\n      <th>Blues</th>\n      <th>I don’t listen to music</th>\n      <th>...</th>\n      <th>8+ hours of school and/or work a day</th>\n      <th>Action</th>\n      <th>Anime/Cartoon</th>\n      <th>Drama/K-Drama</th>\n      <th>Comedy</th>\n      <th>Horror</th>\n      <th>Rom-Com</th>\n      <th>Documentary</th>\n      <th>Sci-Fi</th>\n      <th>Emotional</th>\n    </tr>\n  </thead>\n  <tbody>\n    <tr>\n      <th>0</th>\n      <td>0</td>\n      <td>1</td>\n      <td>0</td>\n      <td>0</td>\n      <td>0</td>\n      <td>1</td>\n      <td>0</td>\n      <td>0</td>\n      <td>0</td>\n      <td>0</td>\n      <td>...</td>\n      <td>0</td>\n      <td>0</td>\n      <td>0</td>\n      <td>0</td>\n      <td>1</td>\n      <td>0</td>\n      <td>0</td>\n      <td>0</td>\n      <td>0</td>\n      <td>0</td>\n    </tr>\n    <tr>\n      <th>1</th>\n      <td>0</td>\n      <td>0</td>\n      <td>1</td>\n      <td>0</td>\n      <td>0</td>\n      <td>1</td>\n      <td>0</td>\n      <td>0</td>\n      <td>0</td>\n      <td>0</td>\n      <td>...</td>\n      <td>0</td>\n      <td>0</td>\n      <td>1</td>\n      <td>0</td>\n      <td>0</td>\n      <td>0</td>\n      <td>0</td>\n      <td>0</td>\n      <td>0</td>\n      <td>0</td>\n    </tr>\n    <tr>\n      <th>2</th>\n      <td>0</td>\n      <td>1</td>\n      <td>0</td>\n      <td>0</td>\n      <td>0</td>\n      <td>1</td>\n      <td>0</td>\n      <td>0</td>\n      <td>0</td>\n      <td>0</td>\n      <td>...</td>\n      <td>1</td>\n      <td>0</td>\n      <td>0</td>\n      <td>0</td>\n      <td>0</td>\n      <td>0</td>\n      <td>1</td>\n      <td>0</td>\n      <td>0</td>\n      <td>0</td>\n    </tr>\n    <tr>\n      <th>3</th>\n      <td>0</td>\n      <td>1</td>\n      <td>0</td>\n      <td>0</td>\n      <td>0</td>\n      <td>1</td>\n      <td>0</td>\n      <td>0</td>\n      <td>0</td>\n      <td>0</td>\n      <td>...</td>\n      <td>1</td>\n      <td>0</td>\n      <td>0</td>\n      <td>0</td>\n      <td>0</td>\n      <td>0</td>\n      <td>0</td>\n      <td>0</td>\n      <td>0</td>\n      <td>1</td>\n    </tr>\n    <tr>\n      <th>4</th>\n      <td>0</td>\n      <td>1</td>\n      <td>0</td>\n      <td>0</td>\n      <td>0</td>\n      <td>1</td>\n      <td>0</td>\n      <td>0</td>\n      <td>0</td>\n      <td>0</td>\n      <td>...</td>\n      <td>1</td>\n      <td>0</td>\n      <td>1</td>\n      <td>0</td>\n      <td>0</td>\n      <td>0</td>\n      <td>0</td>\n      <td>0</td>\n      <td>0</td>\n      <td>0</td>\n    </tr>\n  </tbody>\n</table>\n<p>5 rows × 47 columns</p>\n</div>"
     },
     "metadata": {},
     "execution_count": 57
    }
   ],
   "source": [
    "import numpy as np\n",
    "\n",
    "conditions =  ['major_department', 'year', 'music_genre', 'living', \n",
    "'humour', 'sports','friday_night','school_balance','entertainment_genre']\n",
    "\n",
    "def strings_to_onehot():\n",
    "    result = pd.DataFrame()\n",
    "    for i in range(len(conditions)):\n",
    "        categories_column = data[conditions[i]].to_list()\n",
    "        unique_categories = list(set(categories_column))\n",
    "        one_hot_matrix = np.zeros( (len(categories_column), len(unique_categories)), dtype=int )\n",
    " \n",
    "        for row, category in zip(one_hot_matrix, categories_column):\n",
    "            category_index = unique_categories.index(category)\n",
    "            row[category_index] = 1\n",
    "        \n",
    "        cur_res = pd.DataFrame(columns = unique_categories, data = one_hot_matrix)\n",
    "        print(cur_res[unique_categories].values)\n",
    "        result[unique_categories] = cur_res[unique_categories]\n",
    "        result.to_csv('cleanData/OHE_PA.csv')\n",
    "    return result\n",
    "\n",
    "onehot_types = strings_to_onehot()\n",
    "\n",
    "print(\"-------OUTSIDE METHOD ---------\")\n",
    "onehot_types.head()\n",
    "# onehot_types.to_csv('cleanData/OHE_PA.csv')\n"
   ]
  }
 ]
}